{
 "cells": [
  {
   "cell_type": "code",
   "execution_count": 8,
   "id": "cdb7e7ee-9e2b-4836-92c7-3d7bde811cce",
   "metadata": {
    "scrolled": true
   },
   "outputs": [
    {
     "data": {
      "text/html": [
       "<div>\n",
       "<style scoped>\n",
       "    .dataframe tbody tr th:only-of-type {\n",
       "        vertical-align: middle;\n",
       "    }\n",
       "\n",
       "    .dataframe tbody tr th {\n",
       "        vertical-align: top;\n",
       "    }\n",
       "\n",
       "    .dataframe thead th {\n",
       "        text-align: right;\n",
       "    }\n",
       "</style>\n",
       "<table border=\"1\" class=\"dataframe\">\n",
       "  <thead>\n",
       "    <tr style=\"text-align: right;\">\n",
       "      <th></th>\n",
       "      <th>Date</th>\n",
       "      <th>Open</th>\n",
       "      <th>High</th>\n",
       "      <th>Low</th>\n",
       "      <th>Close</th>\n",
       "      <th>Adj Close</th>\n",
       "      <th>Volume</th>\n",
       "    </tr>\n",
       "  </thead>\n",
       "  <tbody>\n",
       "    <tr>\n",
       "      <th>0</th>\n",
       "      <td>2010-01-04</td>\n",
       "      <td>7.931429</td>\n",
       "      <td>7.961429</td>\n",
       "      <td>7.565714</td>\n",
       "      <td>7.640000</td>\n",
       "      <td>7.640000</td>\n",
       "      <td>17239600</td>\n",
       "    </tr>\n",
       "    <tr>\n",
       "      <th>1</th>\n",
       "      <td>2010-01-05</td>\n",
       "      <td>7.652857</td>\n",
       "      <td>7.657143</td>\n",
       "      <td>7.258571</td>\n",
       "      <td>7.358571</td>\n",
       "      <td>7.358571</td>\n",
       "      <td>23753100</td>\n",
       "    </tr>\n",
       "    <tr>\n",
       "      <th>2</th>\n",
       "      <td>2010-01-06</td>\n",
       "      <td>7.361429</td>\n",
       "      <td>7.672857</td>\n",
       "      <td>7.197143</td>\n",
       "      <td>7.617143</td>\n",
       "      <td>7.617143</td>\n",
       "      <td>23290400</td>\n",
       "    </tr>\n",
       "    <tr>\n",
       "      <th>3</th>\n",
       "      <td>2010-01-07</td>\n",
       "      <td>7.731429</td>\n",
       "      <td>7.757143</td>\n",
       "      <td>7.462857</td>\n",
       "      <td>7.485714</td>\n",
       "      <td>7.485714</td>\n",
       "      <td>9955400</td>\n",
       "    </tr>\n",
       "    <tr>\n",
       "      <th>4</th>\n",
       "      <td>2010-01-08</td>\n",
       "      <td>7.498571</td>\n",
       "      <td>7.742857</td>\n",
       "      <td>7.465714</td>\n",
       "      <td>7.614286</td>\n",
       "      <td>7.614286</td>\n",
       "      <td>8180900</td>\n",
       "    </tr>\n",
       "    <tr>\n",
       "      <th>...</th>\n",
       "      <td>...</td>\n",
       "      <td>...</td>\n",
       "      <td>...</td>\n",
       "      <td>...</td>\n",
       "      <td>...</td>\n",
       "      <td>...</td>\n",
       "      <td>...</td>\n",
       "    </tr>\n",
       "    <tr>\n",
       "      <th>3114</th>\n",
       "      <td>2022-05-17</td>\n",
       "      <td>189.169998</td>\n",
       "      <td>191.399994</td>\n",
       "      <td>185.169998</td>\n",
       "      <td>190.559998</td>\n",
       "      <td>190.559998</td>\n",
       "      <td>9876700</td>\n",
       "    </tr>\n",
       "    <tr>\n",
       "      <th>3115</th>\n",
       "      <td>2022-05-18</td>\n",
       "      <td>186.720001</td>\n",
       "      <td>187.699997</td>\n",
       "      <td>176.270004</td>\n",
       "      <td>177.190002</td>\n",
       "      <td>177.190002</td>\n",
       "      <td>9665600</td>\n",
       "    </tr>\n",
       "    <tr>\n",
       "      <th>3116</th>\n",
       "      <td>2022-05-19</td>\n",
       "      <td>178.050003</td>\n",
       "      <td>186.300003</td>\n",
       "      <td>175.710007</td>\n",
       "      <td>183.479996</td>\n",
       "      <td>183.479996</td>\n",
       "      <td>10448500</td>\n",
       "    </tr>\n",
       "    <tr>\n",
       "      <th>3117</th>\n",
       "      <td>2022-05-20</td>\n",
       "      <td>185.869995</td>\n",
       "      <td>190.190002</td>\n",
       "      <td>179.770004</td>\n",
       "      <td>186.350006</td>\n",
       "      <td>186.350006</td>\n",
       "      <td>10422600</td>\n",
       "    </tr>\n",
       "    <tr>\n",
       "      <th>3118</th>\n",
       "      <td>2022-05-23</td>\n",
       "      <td>186.149994</td>\n",
       "      <td>187.660004</td>\n",
       "      <td>177.889999</td>\n",
       "      <td>187.440002</td>\n",
       "      <td>187.440002</td>\n",
       "      <td>9558000</td>\n",
       "    </tr>\n",
       "  </tbody>\n",
       "</table>\n",
       "<p>3119 rows × 7 columns</p>\n",
       "</div>"
      ],
      "text/plain": [
       "            Date        Open        High         Low       Close   Adj Close  \\\n",
       "0     2010-01-04    7.931429    7.961429    7.565714    7.640000    7.640000   \n",
       "1     2010-01-05    7.652857    7.657143    7.258571    7.358571    7.358571   \n",
       "2     2010-01-06    7.361429    7.672857    7.197143    7.617143    7.617143   \n",
       "3     2010-01-07    7.731429    7.757143    7.462857    7.485714    7.485714   \n",
       "4     2010-01-08    7.498571    7.742857    7.465714    7.614286    7.614286   \n",
       "...          ...         ...         ...         ...         ...         ...   \n",
       "3114  2022-05-17  189.169998  191.399994  185.169998  190.559998  190.559998   \n",
       "3115  2022-05-18  186.720001  187.699997  176.270004  177.190002  177.190002   \n",
       "3116  2022-05-19  178.050003  186.300003  175.710007  183.479996  183.479996   \n",
       "3117  2022-05-20  185.869995  190.190002  179.770004  186.350006  186.350006   \n",
       "3118  2022-05-23  186.149994  187.660004  177.889999  187.440002  187.440002   \n",
       "\n",
       "        Volume  \n",
       "0     17239600  \n",
       "1     23753100  \n",
       "2     23290400  \n",
       "3      9955400  \n",
       "4      8180900  \n",
       "...        ...  \n",
       "3114   9876700  \n",
       "3115   9665600  \n",
       "3116  10448500  \n",
       "3117  10422600  \n",
       "3118   9558000  \n",
       "\n",
       "[3119 rows x 7 columns]"
      ]
     },
     "execution_count": 8,
     "metadata": {},
     "output_type": "execute_result"
    }
   ],
   "source": [
    "import pandas as pd\n",
    "import numpy as np\n",
    "import plotly.express as px\n",
    "import plotly.graph_objects as go\n",
    "data = pd.read_csv(\"NFLX.csv\")\n",
    "data"
   ]
  },
  {
   "cell_type": "markdown",
   "id": "0d311aa4-825d-4994-bed8-3f557fb8cba0",
   "metadata": {},
   "source": [
    "# Data Exploration "
   ]
  },
  {
   "cell_type": "markdown",
   "id": "748512ab-1b7d-449c-afd7-d5060b40dccd",
   "metadata": {},
   "source": [
    "## a) OverView"
   ]
  },
  {
   "cell_type": "markdown",
   "id": "60891da8-5be4-4add-b934-d6c6b61735d9",
   "metadata": {},
   "source": [
    "### 1. General Overview"
   ]
  },
  {
   "cell_type": "raw",
   "id": "9b62b72c-3446-4d50-85e2-2f15de1e8177",
   "metadata": {},
   "source": [
    "This step involves checking the number of rows and columns, data types, and a few sample entries."
   ]
  },
  {
   "cell_type": "code",
   "execution_count": 9,
   "id": "c9fe97dc-117d-435d-addc-311995c609d1",
   "metadata": {},
   "outputs": [
    {
     "name": "stdout",
     "output_type": "stream",
     "text": [
      "DataFrame Info:\n",
      "<class 'pandas.core.frame.DataFrame'>\n",
      "RangeIndex: 3119 entries, 0 to 3118\n",
      "Data columns (total 7 columns):\n",
      " #   Column     Non-Null Count  Dtype  \n",
      "---  ------     --------------  -----  \n",
      " 0   Date       3119 non-null   object \n",
      " 1   Open       3119 non-null   float64\n",
      " 2   High       3119 non-null   float64\n",
      " 3   Low        3119 non-null   float64\n",
      " 4   Close      3119 non-null   float64\n",
      " 5   Adj Close  3119 non-null   float64\n",
      " 6   Volume     3119 non-null   int64  \n",
      "dtypes: float64(5), int64(1), object(1)\n",
      "memory usage: 170.7+ KB\n"
     ]
    }
   ],
   "source": [
    "# Check the structure of the DataFrame\n",
    "print(\"DataFrame Info:\")\n",
    "data.info()"
   ]
  },
  {
   "cell_type": "code",
   "execution_count": 10,
   "id": "64d6ab8f-d86d-4686-a4d9-e924f19404d4",
   "metadata": {},
   "outputs": [
    {
     "name": "stdout",
     "output_type": "stream",
     "text": [
      "\n",
      "Number of Rows: 3119\n",
      "Number of Columns: 7\n"
     ]
    }
   ],
   "source": [
    "# Check the number of rows and columns\n",
    "print(f\"\\nNumber of Rows: {data.shape[0]}\")\n",
    "print(f\"Number of Columns: {data.shape[1]}\")"
   ]
  },
  {
   "cell_type": "code",
   "execution_count": 11,
   "id": "69e224fa-697e-46fe-84f8-bf3e629921df",
   "metadata": {},
   "outputs": [
    {
     "name": "stdout",
     "output_type": "stream",
     "text": [
      "\n",
      "Sample Entries:\n"
     ]
    },
    {
     "data": {
      "text/html": [
       "<div>\n",
       "<style scoped>\n",
       "    .dataframe tbody tr th:only-of-type {\n",
       "        vertical-align: middle;\n",
       "    }\n",
       "\n",
       "    .dataframe tbody tr th {\n",
       "        vertical-align: top;\n",
       "    }\n",
       "\n",
       "    .dataframe thead th {\n",
       "        text-align: right;\n",
       "    }\n",
       "</style>\n",
       "<table border=\"1\" class=\"dataframe\">\n",
       "  <thead>\n",
       "    <tr style=\"text-align: right;\">\n",
       "      <th></th>\n",
       "      <th>Date</th>\n",
       "      <th>Open</th>\n",
       "      <th>High</th>\n",
       "      <th>Low</th>\n",
       "      <th>Close</th>\n",
       "      <th>Adj Close</th>\n",
       "      <th>Volume</th>\n",
       "    </tr>\n",
       "  </thead>\n",
       "  <tbody>\n",
       "    <tr>\n",
       "      <th>0</th>\n",
       "      <td>2010-01-04</td>\n",
       "      <td>7.931429</td>\n",
       "      <td>7.961429</td>\n",
       "      <td>7.565714</td>\n",
       "      <td>7.640000</td>\n",
       "      <td>7.640000</td>\n",
       "      <td>17239600</td>\n",
       "    </tr>\n",
       "    <tr>\n",
       "      <th>1</th>\n",
       "      <td>2010-01-05</td>\n",
       "      <td>7.652857</td>\n",
       "      <td>7.657143</td>\n",
       "      <td>7.258571</td>\n",
       "      <td>7.358571</td>\n",
       "      <td>7.358571</td>\n",
       "      <td>23753100</td>\n",
       "    </tr>\n",
       "    <tr>\n",
       "      <th>2</th>\n",
       "      <td>2010-01-06</td>\n",
       "      <td>7.361429</td>\n",
       "      <td>7.672857</td>\n",
       "      <td>7.197143</td>\n",
       "      <td>7.617143</td>\n",
       "      <td>7.617143</td>\n",
       "      <td>23290400</td>\n",
       "    </tr>\n",
       "    <tr>\n",
       "      <th>3</th>\n",
       "      <td>2010-01-07</td>\n",
       "      <td>7.731429</td>\n",
       "      <td>7.757143</td>\n",
       "      <td>7.462857</td>\n",
       "      <td>7.485714</td>\n",
       "      <td>7.485714</td>\n",
       "      <td>9955400</td>\n",
       "    </tr>\n",
       "    <tr>\n",
       "      <th>4</th>\n",
       "      <td>2010-01-08</td>\n",
       "      <td>7.498571</td>\n",
       "      <td>7.742857</td>\n",
       "      <td>7.465714</td>\n",
       "      <td>7.614286</td>\n",
       "      <td>7.614286</td>\n",
       "      <td>8180900</td>\n",
       "    </tr>\n",
       "  </tbody>\n",
       "</table>\n",
       "</div>"
      ],
      "text/plain": [
       "         Date      Open      High       Low     Close  Adj Close    Volume\n",
       "0  2010-01-04  7.931429  7.961429  7.565714  7.640000   7.640000  17239600\n",
       "1  2010-01-05  7.652857  7.657143  7.258571  7.358571   7.358571  23753100\n",
       "2  2010-01-06  7.361429  7.672857  7.197143  7.617143   7.617143  23290400\n",
       "3  2010-01-07  7.731429  7.757143  7.462857  7.485714   7.485714   9955400\n",
       "4  2010-01-08  7.498571  7.742857  7.465714  7.614286   7.614286   8180900"
      ]
     },
     "execution_count": 11,
     "metadata": {},
     "output_type": "execute_result"
    }
   ],
   "source": [
    "# Display the first 5 rows of the DataFrame\n",
    "print(\"\\nSample Entries:\")\n",
    "data.head()"
   ]
  },
  {
   "cell_type": "markdown",
   "id": "efe60baa-bd9b-4b73-8acd-46a3ea4a1003",
   "metadata": {},
   "source": [
    "### 3 Missing Values"
   ]
  },
  {
   "cell_type": "code",
   "execution_count": 12,
   "id": "8e0375e2-92d9-46a8-bd3b-8b012260d0c0",
   "metadata": {},
   "outputs": [
    {
     "name": "stdout",
     "output_type": "stream",
     "text": [
      "\n",
      "Missing Values:\n",
      "Date         0\n",
      "Open         0\n",
      "High         0\n",
      "Low          0\n",
      "Close        0\n",
      "Adj Close    0\n",
      "Volume       0\n",
      "dtype: int64\n"
     ]
    }
   ],
   "source": [
    "# Check for missing values\n",
    "print(\"\\nMissing Values:\")\n",
    "missing_values = data.isnull().sum()\n",
    "print(missing_values)"
   ]
  },
  {
   "cell_type": "code",
   "execution_count": 13,
   "id": "e9e739c6-c528-4005-b1af-c229ef17fe4e",
   "metadata": {},
   "outputs": [
    {
     "name": "stdout",
     "output_type": "stream",
     "text": [
      "\n",
      "Percentage of Missing Values:\n",
      "Date         0.0\n",
      "Open         0.0\n",
      "High         0.0\n",
      "Low          0.0\n",
      "Close        0.0\n",
      "Adj Close    0.0\n",
      "Volume       0.0\n",
      "dtype: float64\n"
     ]
    }
   ],
   "source": [
    "# Percentage of missing values per column (if needed)\n",
    "missing_percentage = (missing_values / data.shape[0]) * 100\n",
    "print(\"\\nPercentage of Missing Values:\")\n",
    "print(missing_percentage)\n"
   ]
  },
  {
   "cell_type": "markdown",
   "id": "570d22bc-2920-4ae0-b0d6-1a12ef15f846",
   "metadata": {},
   "source": [
    "### 3. Duplicate Entries"
   ]
  },
  {
   "cell_type": "code",
   "execution_count": 14,
   "id": "050014d6-d9b6-47f3-9d2d-c606b9b15dac",
   "metadata": {},
   "outputs": [
    {
     "name": "stdout",
     "output_type": "stream",
     "text": [
      "\n",
      "Statistical Summary:\n",
      "              Open         High          Low        Close    Adj Close  \\\n",
      "count  3119.000000  3119.000000  3119.000000  3119.000000  3119.000000   \n",
      "mean    185.774606   188.574990   182.773507   185.747629   185.747629   \n",
      "std     182.675775   185.222112   179.874082   182.575796   182.575796   \n",
      "min       6.960000     7.178571     6.931429     7.018571     7.018571   \n",
      "25%      33.255714    33.815000    32.611429    33.328571    33.328571   \n",
      "50%     100.209999   102.110001    98.529999   100.230003   100.230003   \n",
      "75%     336.800003   342.384995   331.125000   337.539993   337.539993   \n",
      "max     692.349976   700.989990   686.090027   691.690002   691.690002   \n",
      "\n",
      "             Volume  \n",
      "count  3.119000e+03  \n",
      "mean   1.879939e+07  \n",
      "std    2.091301e+07  \n",
      "min    1.144000e+06  \n",
      "25%    6.233250e+06  \n",
      "50%    1.232560e+07  \n",
      "75%    2.342225e+07  \n",
      "max    3.155418e+08  \n"
     ]
    }
   ],
   "source": [
    "# Describe numerical columns to identify potential outliers\n",
    "print(\"\\nStatistical Summary:\")\n",
    "summary = data.describe()\n",
    "print(summary)"
   ]
  },
  {
   "cell_type": "code",
   "execution_count": null,
   "id": "89db8adc-714b-43e9-811c-21903c31cf1a",
   "metadata": {},
   "outputs": [],
   "source": []
  },
  {
   "cell_type": "code",
   "execution_count": null,
   "id": "19f56717-f792-46a9-8fa8-d367e904c05f",
   "metadata": {},
   "outputs": [],
   "source": []
  },
  {
   "cell_type": "code",
   "execution_count": null,
   "id": "2e4899e8-c14d-4d76-8153-5e3d8a098a03",
   "metadata": {},
   "outputs": [],
   "source": []
  },
  {
   "cell_type": "code",
   "execution_count": null,
   "id": "e0965c1c-600e-44f2-9e1f-f57a62d919d7",
   "metadata": {},
   "outputs": [],
   "source": []
  },
  {
   "cell_type": "code",
   "execution_count": null,
   "id": "4b3cfd52-7024-45ce-8a4e-d63e5f1aa467",
   "metadata": {},
   "outputs": [],
   "source": []
  }
 ],
 "metadata": {
  "kernelspec": {
   "display_name": "Python 3 (ipykernel)",
   "language": "python",
   "name": "python3"
  },
  "language_info": {
   "codemirror_mode": {
    "name": "ipython",
    "version": 3
   },
   "file_extension": ".py",
   "mimetype": "text/x-python",
   "name": "python",
   "nbconvert_exporter": "python",
   "pygments_lexer": "ipython3",
   "version": "3.12.3"
  }
 },
 "nbformat": 4,
 "nbformat_minor": 5
}
