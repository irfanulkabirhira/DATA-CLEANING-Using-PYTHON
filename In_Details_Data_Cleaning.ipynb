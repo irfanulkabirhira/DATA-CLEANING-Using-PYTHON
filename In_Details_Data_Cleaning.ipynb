{
 "cells": [
  {
   "cell_type": "markdown",
   "id": "b470d963-7d21-494b-ab04-aa11debd9fb0",
   "metadata": {},
   "source": [
    "# Creating A Data Fram --> Barics of Creating a Table"
   ]
  },
  {
   "cell_type": "markdown",
   "id": "9a3145fa-fff1-405f-9fc6-5c0d1292c2c5",
   "metadata": {},
   "source": [
    "## Creating a list -> Creating a table with the help list "
   ]
  },
  {
   "cell_type": "raw",
   "id": "7adf413c-ff24-4f2b-a381-cea8844e1745",
   "metadata": {},
   "source": [
    "To create a list we don't have to import Pandas"
   ]
  },
  {
   "cell_type": "code",
   "execution_count": 57,
   "id": "5ffee50e-947f-4935-b5c7-9dc7caf4da1b",
   "metadata": {},
   "outputs": [],
   "source": [
    "# Creating a list only\n",
    "car_data = [\n",
    "    [\"Jeep Compass 2.0 Longitude Option BSIV\",\"10.03 Lakh\",\"86,226 kms\",\"Diesel\",\"Manual\",\"1st Owner\",\"January 15,2017\",\"1956 cc\",\"5 Seats\"],\n",
    "    [\"Renault Duster RXZ Turbo CVT\",\" \",\" \",\"Petrol\",\"Automatic\",\"1st Owner\",\"January 15,2018\",\"1330 cc\", \"5 Seats\"] \n",
    "]"
   ]
  },
  {
   "cell_type": "code",
   "execution_count": 58,
   "id": "4dbe54dd-190e-4630-b69f-e993334c081c",
   "metadata": {},
   "outputs": [
    {
     "data": {
      "text/plain": [
       "[['Jeep Compass 2.0 Longitude Option BSIV',\n",
       "  '10.03 Lakh',\n",
       "  '86,226 kms',\n",
       "  'Diesel',\n",
       "  'Manual',\n",
       "  '1st Owner',\n",
       "  'January 15,2017',\n",
       "  '1956 cc',\n",
       "  '5 Seats'],\n",
       " ['Renault Duster RXZ Turbo CVT',\n",
       "  ' ',\n",
       "  ' ',\n",
       "  'Petrol',\n",
       "  'Automatic',\n",
       "  '1st Owner',\n",
       "  'January 15,2018',\n",
       "  '1330 cc',\n",
       "  '5 Seats']]"
      ]
     },
     "execution_count": 58,
     "metadata": {},
     "output_type": "execute_result"
    }
   ],
   "source": [
    "car_data"
   ]
  },
  {
   "cell_type": "code",
   "execution_count": 59,
   "id": "0869a7fe-bac1-4792-b800-de39b0bd5a2c",
   "metadata": {},
   "outputs": [],
   "source": [
    "# For Showing this as a datafram i have to import Pandas  : ->\n",
    "import pandas as pd"
   ]
  },
  {
   "cell_type": "code",
   "execution_count": 60,
   "id": "603dfc9d-dcd8-4c2f-a903-a1638f64f616",
   "metadata": {},
   "outputs": [],
   "source": [
    "#let's put this car_data set into a Data Frame\n",
    "df = pd.DataFrame(car_data)"
   ]
  },
  {
   "cell_type": "code",
   "execution_count": 61,
   "id": "10a44e79-c712-4509-b8b5-b158865fa434",
   "metadata": {
    "scrolled": true
   },
   "outputs": [
    {
     "data": {
      "text/html": [
       "<div>\n",
       "<style scoped>\n",
       "    .dataframe tbody tr th:only-of-type {\n",
       "        vertical-align: middle;\n",
       "    }\n",
       "\n",
       "    .dataframe tbody tr th {\n",
       "        vertical-align: top;\n",
       "    }\n",
       "\n",
       "    .dataframe thead th {\n",
       "        text-align: right;\n",
       "    }\n",
       "</style>\n",
       "<table border=\"1\" class=\"dataframe\">\n",
       "  <thead>\n",
       "    <tr style=\"text-align: right;\">\n",
       "      <th></th>\n",
       "      <th>0</th>\n",
       "      <th>1</th>\n",
       "      <th>2</th>\n",
       "      <th>3</th>\n",
       "      <th>4</th>\n",
       "      <th>5</th>\n",
       "      <th>6</th>\n",
       "      <th>7</th>\n",
       "      <th>8</th>\n",
       "    </tr>\n",
       "  </thead>\n",
       "  <tbody>\n",
       "    <tr>\n",
       "      <th>0</th>\n",
       "      <td>Jeep Compass 2.0 Longitude Option BSIV</td>\n",
       "      <td>10.03 Lakh</td>\n",
       "      <td>86,226 kms</td>\n",
       "      <td>Diesel</td>\n",
       "      <td>Manual</td>\n",
       "      <td>1st Owner</td>\n",
       "      <td>January 15,2017</td>\n",
       "      <td>1956 cc</td>\n",
       "      <td>5 Seats</td>\n",
       "    </tr>\n",
       "    <tr>\n",
       "      <th>1</th>\n",
       "      <td>Renault Duster RXZ Turbo CVT</td>\n",
       "      <td></td>\n",
       "      <td></td>\n",
       "      <td>Petrol</td>\n",
       "      <td>Automatic</td>\n",
       "      <td>1st Owner</td>\n",
       "      <td>January 15,2018</td>\n",
       "      <td>1330 cc</td>\n",
       "      <td>5 Seats</td>\n",
       "    </tr>\n",
       "  </tbody>\n",
       "</table>\n",
       "</div>"
      ],
      "text/plain": [
       "                                        0           1           2       3  \\\n",
       "0  Jeep Compass 2.0 Longitude Option BSIV  10.03 Lakh  86,226 kms  Diesel   \n",
       "1            Renault Duster RXZ Turbo CVT                          Petrol   \n",
       "\n",
       "           4          5                6        7        8  \n",
       "0     Manual  1st Owner  January 15,2017  1956 cc  5 Seats  \n",
       "1  Automatic  1st Owner  January 15,2018  1330 cc  5 Seats  "
      ]
     },
     "execution_count": 61,
     "metadata": {},
     "output_type": "execute_result"
    }
   ],
   "source": [
    "df"
   ]
  },
  {
   "cell_type": "code",
   "execution_count": 62,
   "id": "8eaee272-d244-49bf-b637-ca5b891add29",
   "metadata": {},
   "outputs": [],
   "source": [
    "# For setting the Column Name :->\n",
    "df = pd.DataFrame(car_data, columns=['car_name', 'car_prices_in_rupee', 'kms_driven', 'fuel_type','transmission','ownership','manufacture',\n",
    "                                     'engine','Seats'])"
   ]
  },
  {
   "cell_type": "code",
   "execution_count": 63,
   "id": "93dc5c4b-f473-459f-b6ce-cd125b3fb785",
   "metadata": {},
   "outputs": [
    {
     "data": {
      "text/html": [
       "<div>\n",
       "<style scoped>\n",
       "    .dataframe tbody tr th:only-of-type {\n",
       "        vertical-align: middle;\n",
       "    }\n",
       "\n",
       "    .dataframe tbody tr th {\n",
       "        vertical-align: top;\n",
       "    }\n",
       "\n",
       "    .dataframe thead th {\n",
       "        text-align: right;\n",
       "    }\n",
       "</style>\n",
       "<table border=\"1\" class=\"dataframe\">\n",
       "  <thead>\n",
       "    <tr style=\"text-align: right;\">\n",
       "      <th></th>\n",
       "      <th>car_name</th>\n",
       "      <th>car_prices_in_rupee</th>\n",
       "      <th>kms_driven</th>\n",
       "      <th>fuel_type</th>\n",
       "      <th>transmission</th>\n",
       "      <th>ownership</th>\n",
       "      <th>manufacture</th>\n",
       "      <th>engine</th>\n",
       "      <th>Seats</th>\n",
       "    </tr>\n",
       "  </thead>\n",
       "  <tbody>\n",
       "    <tr>\n",
       "      <th>0</th>\n",
       "      <td>Jeep Compass 2.0 Longitude Option BSIV</td>\n",
       "      <td>10.03 Lakh</td>\n",
       "      <td>86,226 kms</td>\n",
       "      <td>Diesel</td>\n",
       "      <td>Manual</td>\n",
       "      <td>1st Owner</td>\n",
       "      <td>January 15,2017</td>\n",
       "      <td>1956 cc</td>\n",
       "      <td>5 Seats</td>\n",
       "    </tr>\n",
       "    <tr>\n",
       "      <th>1</th>\n",
       "      <td>Renault Duster RXZ Turbo CVT</td>\n",
       "      <td></td>\n",
       "      <td></td>\n",
       "      <td>Petrol</td>\n",
       "      <td>Automatic</td>\n",
       "      <td>1st Owner</td>\n",
       "      <td>January 15,2018</td>\n",
       "      <td>1330 cc</td>\n",
       "      <td>5 Seats</td>\n",
       "    </tr>\n",
       "  </tbody>\n",
       "</table>\n",
       "</div>"
      ],
      "text/plain": [
       "                                 car_name car_prices_in_rupee  kms_driven  \\\n",
       "0  Jeep Compass 2.0 Longitude Option BSIV          10.03 Lakh  86,226 kms   \n",
       "1            Renault Duster RXZ Turbo CVT                                   \n",
       "\n",
       "  fuel_type transmission  ownership      manufacture   engine    Seats  \n",
       "0    Diesel       Manual  1st Owner  January 15,2017  1956 cc  5 Seats  \n",
       "1    Petrol    Automatic  1st Owner  January 15,2018  1330 cc  5 Seats  "
      ]
     },
     "execution_count": 63,
     "metadata": {},
     "output_type": "execute_result"
    }
   ],
   "source": [
    "df"
   ]
  },
  {
   "cell_type": "raw",
   "id": "75b782d2-0e38-4525-942f-92a6af7e0a56",
   "metadata": {},
   "source": [
    "--------------------------------------->>>It's a huge Hassel to Create Table with the help of list <<<<<<<<<<<------------------------------------------"
   ]
  },
  {
   "cell_type": "markdown",
   "id": "77a97c22-3d38-4fea-8767-b2f7213cb179",
   "metadata": {},
   "source": [
    "## Creating a Dictionary -> Creating table with the help of Dictionary "
   ]
  },
  {
   "cell_type": "markdown",
   "id": "e8e18c14-8cb7-4ebe-8ceb-fed1fff07668",
   "metadata": {},
   "source": [
    "With the Dictionary we can create this table so so easily "
   ]
  },
  {
   "cell_type": "code",
   "execution_count": 64,
   "id": "09dcdade-329a-476a-b585-00e9a2e87e4e",
   "metadata": {},
   "outputs": [],
   "source": [
    "# Creating a Dictionary only\n",
    "data = {\n",
    "    \"car_name\":[\"Jeep Compass 2.0 Longitude Option BSIV\",\n",
    "        \"Renault Duster RXZ Turbo CVT\"],\n",
    "   \"car_prices_in_rupee\": [\"10.03 Lakh\", \" \"],\n",
    "   \"kms_driven\": [\"86,226 kms\", \" \",],\n",
    "   \"fuel_type\": [\"Diesel\", \"Petrol\"],\n",
    "   \"transmission\": [\"Manual\", \"Automatic\"],\n",
    "    \"ownership\": [\"1st Owner\", \"1st Owner\"],\n",
    "    \"manufacture\":[\"January 15,2017\",\n",
    "        \"January 15,2018\"],\n",
    "   \"engine\": [\"1956 cc\", \"1330 cc\"],\n",
    "    \"Seats\":[\"5 Seats\", \"5 Seats\"]\n",
    "}"
   ]
  },
  {
   "cell_type": "code",
   "execution_count": 65,
   "id": "3d23f71f-3c35-45ea-b2d9-74b1679d5b91",
   "metadata": {},
   "outputs": [
    {
     "data": {
      "text/plain": [
       "{'car_name': ['Jeep Compass 2.0 Longitude Option BSIV',\n",
       "  'Renault Duster RXZ Turbo CVT'],\n",
       " 'car_prices_in_rupee': ['10.03 Lakh', ' '],\n",
       " 'kms_driven': ['86,226 kms', ' '],\n",
       " 'fuel_type': ['Diesel', 'Petrol'],\n",
       " 'transmission': ['Manual', 'Automatic'],\n",
       " 'ownership': ['1st Owner', '1st Owner'],\n",
       " 'manufacture': ['January 15,2017', 'January 15,2018'],\n",
       " 'engine': ['1956 cc', '1330 cc'],\n",
       " 'Seats': ['5 Seats', '5 Seats']}"
      ]
     },
     "execution_count": 65,
     "metadata": {},
     "output_type": "execute_result"
    }
   ],
   "source": [
    "data"
   ]
  },
  {
   "cell_type": "code",
   "execution_count": 66,
   "id": "a82b5cb8-09ab-46dd-8d5e-7e441cf756e8",
   "metadata": {},
   "outputs": [],
   "source": [
    "# Converting this Dictionary into a Data frame\n",
    "import pandas as pd"
   ]
  },
  {
   "cell_type": "code",
   "execution_count": 67,
   "id": "52a8929d-73cc-4418-8647-763e98d81034",
   "metadata": {},
   "outputs": [],
   "source": [
    "# Create DataFrame\n",
    "df = pd.DataFrame(data)"
   ]
  },
  {
   "cell_type": "code",
   "execution_count": 68,
   "id": "7fd0911c-ed34-411c-94b1-6e446742f08e",
   "metadata": {},
   "outputs": [
    {
     "data": {
      "text/plain": [
       "{'car_name': ['Jeep Compass 2.0 Longitude Option BSIV',\n",
       "  'Renault Duster RXZ Turbo CVT'],\n",
       " 'car_prices_in_rupee': ['10.03 Lakh', ' '],\n",
       " 'kms_driven': ['86,226 kms', ' '],\n",
       " 'fuel_type': ['Diesel', 'Petrol'],\n",
       " 'transmission': ['Manual', 'Automatic'],\n",
       " 'ownership': ['1st Owner', '1st Owner'],\n",
       " 'manufacture': ['January 15,2017', 'January 15,2018'],\n",
       " 'engine': ['1956 cc', '1330 cc'],\n",
       " 'Seats': ['5 Seats', '5 Seats']}"
      ]
     },
     "execution_count": 68,
     "metadata": {},
     "output_type": "execute_result"
    }
   ],
   "source": [
    "data"
   ]
  },
  {
   "cell_type": "code",
   "execution_count": 69,
   "id": "6cb1353a-db66-4b37-be88-21981d7087bf",
   "metadata": {},
   "outputs": [
    {
     "name": "stdout",
     "output_type": "stream",
     "text": [
      "                                 car_name car_prices_in_rupee  kms_driven  \\\n",
      "0  Jeep Compass 2.0 Longitude Option BSIV          10.03 Lakh  86,226 kms   \n",
      "1            Renault Duster RXZ Turbo CVT                                   \n",
      "\n",
      "  fuel_type transmission  ownership      manufacture   engine    Seats  \n",
      "0    Diesel       Manual  1st Owner  January 15,2017  1956 cc  5 Seats  \n",
      "1    Petrol    Automatic  1st Owner  January 15,2018  1330 cc  5 Seats  \n"
     ]
    }
   ],
   "source": [
    "# Display the DataFrame\n",
    "print(df)"
   ]
  },
  {
   "cell_type": "code",
   "execution_count": 70,
   "id": "ea98456e-605b-4075-a653-65f5c46c246d",
   "metadata": {},
   "outputs": [
    {
     "data": {
      "text/html": [
       "<div>\n",
       "<style scoped>\n",
       "    .dataframe tbody tr th:only-of-type {\n",
       "        vertical-align: middle;\n",
       "    }\n",
       "\n",
       "    .dataframe tbody tr th {\n",
       "        vertical-align: top;\n",
       "    }\n",
       "\n",
       "    .dataframe thead th {\n",
       "        text-align: right;\n",
       "    }\n",
       "</style>\n",
       "<table border=\"1\" class=\"dataframe\">\n",
       "  <thead>\n",
       "    <tr style=\"text-align: right;\">\n",
       "      <th></th>\n",
       "      <th>car_name</th>\n",
       "      <th>car_prices_in_rupee</th>\n",
       "      <th>kms_driven</th>\n",
       "      <th>fuel_type</th>\n",
       "      <th>transmission</th>\n",
       "      <th>ownership</th>\n",
       "      <th>manufacture</th>\n",
       "      <th>engine</th>\n",
       "      <th>Seats</th>\n",
       "    </tr>\n",
       "  </thead>\n",
       "  <tbody>\n",
       "    <tr>\n",
       "      <th>0</th>\n",
       "      <td>Jeep Compass 2.0 Longitude Option BSIV</td>\n",
       "      <td>10.03 Lakh</td>\n",
       "      <td>86,226 kms</td>\n",
       "      <td>Diesel</td>\n",
       "      <td>Manual</td>\n",
       "      <td>1st Owner</td>\n",
       "      <td>January 15,2017</td>\n",
       "      <td>1956 cc</td>\n",
       "      <td>5 Seats</td>\n",
       "    </tr>\n",
       "    <tr>\n",
       "      <th>1</th>\n",
       "      <td>Renault Duster RXZ Turbo CVT</td>\n",
       "      <td></td>\n",
       "      <td></td>\n",
       "      <td>Petrol</td>\n",
       "      <td>Automatic</td>\n",
       "      <td>1st Owner</td>\n",
       "      <td>January 15,2018</td>\n",
       "      <td>1330 cc</td>\n",
       "      <td>5 Seats</td>\n",
       "    </tr>\n",
       "  </tbody>\n",
       "</table>\n",
       "</div>"
      ],
      "text/plain": [
       "                                 car_name car_prices_in_rupee  kms_driven  \\\n",
       "0  Jeep Compass 2.0 Longitude Option BSIV          10.03 Lakh  86,226 kms   \n",
       "1            Renault Duster RXZ Turbo CVT                                   \n",
       "\n",
       "  fuel_type transmission  ownership      manufacture   engine    Seats  \n",
       "0    Diesel       Manual  1st Owner  January 15,2017  1956 cc  5 Seats  \n",
       "1    Petrol    Automatic  1st Owner  January 15,2018  1330 cc  5 Seats  "
      ]
     },
     "execution_count": 70,
     "metadata": {},
     "output_type": "execute_result"
    }
   ],
   "source": [
    "df"
   ]
  },
  {
   "cell_type": "raw",
   "id": "29b0a4bf-524c-4756-a279-f90cabd1b322",
   "metadata": {},
   "source": [
    "-------------------------------------------> So i will use Dictionary for making a Data Frame<<<---------------------------------------------------"
   ]
  },
  {
   "cell_type": "markdown",
   "id": "efe26ebe-bf82-40e9-8e7a-379c643a7b67",
   "metadata": {},
   "source": [
    "# Data Cleaning Process A to Z"
   ]
  },
  {
   "cell_type": "code",
   "execution_count": 71,
   "id": "6aea3793-002f-4b34-8685-d955f407a843",
   "metadata": {},
   "outputs": [],
   "source": [
    "import pandas as pd"
   ]
  },
  {
   "cell_type": "code",
   "execution_count": 72,
   "id": "8d17d59e-5c8c-4ec2-b593-23e85bf09d5c",
   "metadata": {},
   "outputs": [],
   "source": [
    "dataset = pd.read_csv('Car_Price_MyOwn_Data.csv')"
   ]
  },
  {
   "cell_type": "code",
   "execution_count": 73,
   "id": "9da68459-3925-40df-90bb-839d4f51653e",
   "metadata": {
    "scrolled": true
   },
   "outputs": [
    {
     "data": {
      "text/html": [
       "<div>\n",
       "<style scoped>\n",
       "    .dataframe tbody tr th:only-of-type {\n",
       "        vertical-align: middle;\n",
       "    }\n",
       "\n",
       "    .dataframe tbody tr th {\n",
       "        vertical-align: top;\n",
       "    }\n",
       "\n",
       "    .dataframe thead th {\n",
       "        text-align: right;\n",
       "    }\n",
       "</style>\n",
       "<table border=\"1\" class=\"dataframe\">\n",
       "  <thead>\n",
       "    <tr style=\"text-align: right;\">\n",
       "      <th></th>\n",
       "      <th>car_name</th>\n",
       "      <th>car_prices_in_rupee</th>\n",
       "      <th>kms_driven</th>\n",
       "      <th>fuel_type</th>\n",
       "      <th>transmission</th>\n",
       "      <th>ownership</th>\n",
       "      <th>manufacture</th>\n",
       "      <th>engine</th>\n",
       "      <th>Seats</th>\n",
       "    </tr>\n",
       "  </thead>\n",
       "  <tbody>\n",
       "    <tr>\n",
       "      <th>0</th>\n",
       "      <td>Jeep Compass 2.0 Longitude Option BSIV</td>\n",
       "      <td>10.03 Lakh</td>\n",
       "      <td>86,226 kms</td>\n",
       "      <td>Diesel</td>\n",
       "      <td>Manual</td>\n",
       "      <td>1st Owner</td>\n",
       "      <td>January 15,2017</td>\n",
       "      <td>1956 cc</td>\n",
       "      <td>5 Seats</td>\n",
       "    </tr>\n",
       "    <tr>\n",
       "      <th>1</th>\n",
       "      <td>Renault Duster RXZ Turbo CVT</td>\n",
       "      <td>NaN</td>\n",
       "      <td>13,248 kms</td>\n",
       "      <td>Petrol</td>\n",
       "      <td>Automatic</td>\n",
       "      <td>1st Owner</td>\n",
       "      <td>January 15,2018</td>\n",
       "      <td>1330 cc</td>\n",
       "      <td>5 Seats</td>\n",
       "    </tr>\n",
       "    <tr>\n",
       "      <th>2</th>\n",
       "      <td>Toyota Camry 2.5 G</td>\n",
       "      <td>16.4</td>\n",
       "      <td>60,343 kms</td>\n",
       "      <td>Petrol</td>\n",
       "      <td>Automatic</td>\n",
       "      <td>1st Owner</td>\n",
       "      <td>January 15,2019</td>\n",
       "      <td>2494 cc</td>\n",
       "      <td>5 Seats</td>\n",
       "    </tr>\n",
       "    <tr>\n",
       "      <th>3</th>\n",
       "      <td>Honda Jazz VX CVT</td>\n",
       "      <td>16.40 Crore</td>\n",
       "      <td>26,696 kms</td>\n",
       "      <td>Petrol</td>\n",
       "      <td>Automatic</td>\n",
       "      <td>1st Owner</td>\n",
       "      <td>March 15,2020</td>\n",
       "      <td>1199 cc</td>\n",
       "      <td>5 Seats</td>\n",
       "    </tr>\n",
       "    <tr>\n",
       "      <th>4</th>\n",
       "      <td>Mahindra XUV300 W6</td>\n",
       "      <td>35,000</td>\n",
       "      <td>65,000 kms</td>\n",
       "      <td>Diesel</td>\n",
       "      <td>Automatic</td>\n",
       "      <td>2nd Owner</td>\n",
       "      <td>January 15,2020</td>\n",
       "      <td>2000 cc</td>\n",
       "      <td>2 Seats</td>\n",
       "    </tr>\n",
       "    <tr>\n",
       "      <th>5</th>\n",
       "      <td>Mahindra XUV300 W6</td>\n",
       "      <td>35,000</td>\n",
       "      <td>65,000 kms</td>\n",
       "      <td>Diesel</td>\n",
       "      <td>Automatic</td>\n",
       "      <td>2nd Owner</td>\n",
       "      <td>January 15,2020</td>\n",
       "      <td>2000 cc</td>\n",
       "      <td>2 Seats</td>\n",
       "    </tr>\n",
       "  </tbody>\n",
       "</table>\n",
       "</div>"
      ],
      "text/plain": [
       "                                 car_name car_prices_in_rupee  kms_driven  \\\n",
       "0  Jeep Compass 2.0 Longitude Option BSIV          10.03 Lakh  86,226 kms   \n",
       "1            Renault Duster RXZ Turbo CVT                 NaN  13,248 kms   \n",
       "2                      Toyota Camry 2.5 G                16.4  60,343 kms   \n",
       "3                       Honda Jazz VX CVT         16.40 Crore  26,696 kms   \n",
       "4                      Mahindra XUV300 W6              35,000  65,000 kms   \n",
       "5                      Mahindra XUV300 W6              35,000  65,000 kms   \n",
       "\n",
       "  fuel_type transmission  ownership      manufacture   engine    Seats  \n",
       "0    Diesel       Manual  1st Owner  January 15,2017  1956 cc  5 Seats  \n",
       "1    Petrol    Automatic  1st Owner  January 15,2018  1330 cc  5 Seats  \n",
       "2    Petrol    Automatic  1st Owner  January 15,2019  2494 cc  5 Seats  \n",
       "3    Petrol    Automatic  1st Owner    March 15,2020  1199 cc  5 Seats  \n",
       "4    Diesel    Automatic  2nd Owner  January 15,2020  2000 cc  2 Seats  \n",
       "5    Diesel    Automatic  2nd Owner  January 15,2020  2000 cc  2 Seats  "
      ]
     },
     "execution_count": 73,
     "metadata": {},
     "output_type": "execute_result"
    }
   ],
   "source": [
    "dataset"
   ]
  },
  {
   "cell_type": "markdown",
   "id": "54df9494-c36d-447f-abd4-f23505849ad2",
   "metadata": {},
   "source": [
    "## Always I will work with a single Row "
   ]
  },
  {
   "cell_type": "code",
   "execution_count": 74,
   "id": "a5cf43c8-0a88-43c2-a55c-74fd7f3cf726",
   "metadata": {},
   "outputs": [
    {
     "data": {
      "text/html": [
       "<div>\n",
       "<style scoped>\n",
       "    .dataframe tbody tr th:only-of-type {\n",
       "        vertical-align: middle;\n",
       "    }\n",
       "\n",
       "    .dataframe tbody tr th {\n",
       "        vertical-align: top;\n",
       "    }\n",
       "\n",
       "    .dataframe thead th {\n",
       "        text-align: right;\n",
       "    }\n",
       "</style>\n",
       "<table border=\"1\" class=\"dataframe\">\n",
       "  <thead>\n",
       "    <tr style=\"text-align: right;\">\n",
       "      <th></th>\n",
       "      <th>car_name</th>\n",
       "      <th>car_prices_in_rupee</th>\n",
       "      <th>kms_driven</th>\n",
       "      <th>fuel_type</th>\n",
       "      <th>transmission</th>\n",
       "      <th>ownership</th>\n",
       "      <th>manufacture</th>\n",
       "      <th>engine</th>\n",
       "      <th>Seats</th>\n",
       "    </tr>\n",
       "  </thead>\n",
       "  <tbody>\n",
       "    <tr>\n",
       "      <th>0</th>\n",
       "      <td>Jeep Compass 2.0 Longitude Option BSIV</td>\n",
       "      <td>10.03 Lakh</td>\n",
       "      <td>86,226 kms</td>\n",
       "      <td>Diesel</td>\n",
       "      <td>Manual</td>\n",
       "      <td>1st Owner</td>\n",
       "      <td>January 15,2017</td>\n",
       "      <td>1956 cc</td>\n",
       "      <td>5 Seats</td>\n",
       "    </tr>\n",
       "  </tbody>\n",
       "</table>\n",
       "</div>"
      ],
      "text/plain": [
       "                                 car_name car_prices_in_rupee  kms_driven  \\\n",
       "0  Jeep Compass 2.0 Longitude Option BSIV          10.03 Lakh  86,226 kms   \n",
       "\n",
       "  fuel_type transmission  ownership      manufacture   engine    Seats  \n",
       "0    Diesel       Manual  1st Owner  January 15,2017  1956 cc  5 Seats  "
      ]
     },
     "execution_count": 74,
     "metadata": {},
     "output_type": "execute_result"
    }
   ],
   "source": [
    "dataset.head(1)"
   ]
  },
  {
   "cell_type": "markdown",
   "id": "da856b78-8889-4124-b547-d4b1218b67d1",
   "metadata": {},
   "source": [
    "## General OverVeiw"
   ]
  },
  {
   "cell_type": "raw",
   "id": "cd291048-fc57-4e83-8885-1f9f7d15e374",
   "metadata": {},
   "source": [
    "This step involves checking the\n",
    " ->number of rows and columns, \n",
    "->data types, ->and a few sample entries."
   ]
  },
  {
   "cell_type": "markdown",
   "id": "d89430ee-1c79-4b12-9afc-cbb6bdbabdf0",
   "metadata": {},
   "source": [
    "### To see the overall Data "
   ]
  },
  {
   "cell_type": "code",
   "execution_count": 76,
   "id": "c5fddfb0-4eb6-455b-ab30-75498bfc7675",
   "metadata": {},
   "outputs": [
    {
     "data": {
      "text/plain": [
       "(6, 9)"
      ]
     },
     "execution_count": 76,
     "metadata": {},
     "output_type": "execute_result"
    }
   ],
   "source": [
    "dataset.shape"
   ]
  },
  {
   "cell_type": "code",
   "execution_count": 77,
   "id": "53d0c9ab-717d-46b9-ac90-f194e22de402",
   "metadata": {},
   "outputs": [
    {
     "name": "stdout",
     "output_type": "stream",
     "text": [
      "\n",
      "Number of Rows: 6\n",
      "Number of Columns: 9\n"
     ]
    }
   ],
   "source": [
    "# In more Detail to See the Datasets\n",
    "# Check the number of rows and columns\n",
    "print(f\"\\nNumber of Rows: {dataset.shape[0]}\")\n",
    "print(f\"Number of Columns: {dataset.shape[1]}\")"
   ]
  },
  {
   "cell_type": "markdown",
   "id": "7e5ff54d-b797-44e3-9697-dd8d00352159",
   "metadata": {},
   "source": [
    "### To see the only Rows"
   ]
  },
  {
   "cell_type": "code",
   "execution_count": 78,
   "id": "f12dc2cb-845c-4805-8bff-2c30bbc9cb5d",
   "metadata": {},
   "outputs": [
    {
     "data": {
      "text/plain": [
       "6"
      ]
     },
     "execution_count": 78,
     "metadata": {},
     "output_type": "execute_result"
    }
   ],
   "source": [
    "dataset.shape[0]"
   ]
  },
  {
   "cell_type": "markdown",
   "id": "f106ef57-f0f0-42f5-a644-82660a1b042d",
   "metadata": {},
   "source": [
    "### To See the DataType"
   ]
  },
  {
   "cell_type": "code",
   "execution_count": 79,
   "id": "6870198e-3ccf-44c3-b9b4-bc7a7601f976",
   "metadata": {},
   "outputs": [
    {
     "name": "stdout",
     "output_type": "stream",
     "text": [
      "<class 'pandas.core.frame.DataFrame'>\n",
      "RangeIndex: 6 entries, 0 to 5\n",
      "Data columns (total 9 columns):\n",
      " #   Column               Non-Null Count  Dtype \n",
      "---  ------               --------------  ----- \n",
      " 0   car_name             6 non-null      object\n",
      " 1   car_prices_in_rupee  5 non-null      object\n",
      " 2   kms_driven           6 non-null      object\n",
      " 3   fuel_type            6 non-null      object\n",
      " 4   transmission         6 non-null      object\n",
      " 5   ownership            6 non-null      object\n",
      " 6   manufacture          6 non-null      object\n",
      " 7   engine               6 non-null      object\n",
      " 8   Seats                6 non-null      object\n",
      "dtypes: object(9)\n",
      "memory usage: 564.0+ bytes\n"
     ]
    }
   ],
   "source": [
    "dataset.info()"
   ]
  },
  {
   "cell_type": "code",
   "execution_count": 80,
   "id": "5d0e1dd4-1cd1-4d2e-aaa2-3261baca129c",
   "metadata": {},
   "outputs": [
    {
     "name": "stdout",
     "output_type": "stream",
     "text": [
      "DataFrame Info:\n",
      "<class 'pandas.core.frame.DataFrame'>\n",
      "RangeIndex: 6 entries, 0 to 5\n",
      "Data columns (total 9 columns):\n",
      " #   Column               Non-Null Count  Dtype \n",
      "---  ------               --------------  ----- \n",
      " 0   car_name             6 non-null      object\n",
      " 1   car_prices_in_rupee  5 non-null      object\n",
      " 2   kms_driven           6 non-null      object\n",
      " 3   fuel_type            6 non-null      object\n",
      " 4   transmission         6 non-null      object\n",
      " 5   ownership            6 non-null      object\n",
      " 6   manufacture          6 non-null      object\n",
      " 7   engine               6 non-null      object\n",
      " 8   Seats                6 non-null      object\n",
      "dtypes: object(9)\n",
      "memory usage: 564.0+ bytes\n"
     ]
    }
   ],
   "source": [
    "# To show this , in better version \n",
    "# Check the structure of the DataFrame\n",
    "print(\"DataFrame Info:\")\n",
    "dataset.info()"
   ]
  },
  {
   "cell_type": "markdown",
   "id": "2e1a97ef-3d9f-4b76-b09c-dd1752d08dd1",
   "metadata": {},
   "source": [
    "# Missing Content "
   ]
  },
  {
   "cell_type": "markdown",
   "id": "cae27a81-3752-41d1-9e72-b32958611fd6",
   "metadata": {},
   "source": [
    "### 1st work is to remove the missing content or place some data in the missing content"
   ]
  },
  {
   "cell_type": "code",
   "execution_count": 81,
   "id": "a3aea65a-047c-49f4-824c-aa0855b2b01e",
   "metadata": {},
   "outputs": [
    {
     "data": {
      "text/html": [
       "<div>\n",
       "<style scoped>\n",
       "    .dataframe tbody tr th:only-of-type {\n",
       "        vertical-align: middle;\n",
       "    }\n",
       "\n",
       "    .dataframe tbody tr th {\n",
       "        vertical-align: top;\n",
       "    }\n",
       "\n",
       "    .dataframe thead th {\n",
       "        text-align: right;\n",
       "    }\n",
       "</style>\n",
       "<table border=\"1\" class=\"dataframe\">\n",
       "  <thead>\n",
       "    <tr style=\"text-align: right;\">\n",
       "      <th></th>\n",
       "      <th>car_name</th>\n",
       "      <th>car_prices_in_rupee</th>\n",
       "      <th>kms_driven</th>\n",
       "      <th>fuel_type</th>\n",
       "      <th>transmission</th>\n",
       "      <th>ownership</th>\n",
       "      <th>manufacture</th>\n",
       "      <th>engine</th>\n",
       "      <th>Seats</th>\n",
       "    </tr>\n",
       "  </thead>\n",
       "  <tbody>\n",
       "    <tr>\n",
       "      <th>0</th>\n",
       "      <td>False</td>\n",
       "      <td>False</td>\n",
       "      <td>False</td>\n",
       "      <td>False</td>\n",
       "      <td>False</td>\n",
       "      <td>False</td>\n",
       "      <td>False</td>\n",
       "      <td>False</td>\n",
       "      <td>False</td>\n",
       "    </tr>\n",
       "    <tr>\n",
       "      <th>1</th>\n",
       "      <td>False</td>\n",
       "      <td>True</td>\n",
       "      <td>False</td>\n",
       "      <td>False</td>\n",
       "      <td>False</td>\n",
       "      <td>False</td>\n",
       "      <td>False</td>\n",
       "      <td>False</td>\n",
       "      <td>False</td>\n",
       "    </tr>\n",
       "    <tr>\n",
       "      <th>2</th>\n",
       "      <td>False</td>\n",
       "      <td>False</td>\n",
       "      <td>False</td>\n",
       "      <td>False</td>\n",
       "      <td>False</td>\n",
       "      <td>False</td>\n",
       "      <td>False</td>\n",
       "      <td>False</td>\n",
       "      <td>False</td>\n",
       "    </tr>\n",
       "    <tr>\n",
       "      <th>3</th>\n",
       "      <td>False</td>\n",
       "      <td>False</td>\n",
       "      <td>False</td>\n",
       "      <td>False</td>\n",
       "      <td>False</td>\n",
       "      <td>False</td>\n",
       "      <td>False</td>\n",
       "      <td>False</td>\n",
       "      <td>False</td>\n",
       "    </tr>\n",
       "    <tr>\n",
       "      <th>4</th>\n",
       "      <td>False</td>\n",
       "      <td>False</td>\n",
       "      <td>False</td>\n",
       "      <td>False</td>\n",
       "      <td>False</td>\n",
       "      <td>False</td>\n",
       "      <td>False</td>\n",
       "      <td>False</td>\n",
       "      <td>False</td>\n",
       "    </tr>\n",
       "    <tr>\n",
       "      <th>5</th>\n",
       "      <td>False</td>\n",
       "      <td>False</td>\n",
       "      <td>False</td>\n",
       "      <td>False</td>\n",
       "      <td>False</td>\n",
       "      <td>False</td>\n",
       "      <td>False</td>\n",
       "      <td>False</td>\n",
       "      <td>False</td>\n",
       "    </tr>\n",
       "  </tbody>\n",
       "</table>\n",
       "</div>"
      ],
      "text/plain": [
       "   car_name  car_prices_in_rupee  kms_driven  fuel_type  transmission  \\\n",
       "0     False                False       False      False         False   \n",
       "1     False                 True       False      False         False   \n",
       "2     False                False       False      False         False   \n",
       "3     False                False       False      False         False   \n",
       "4     False                False       False      False         False   \n",
       "5     False                False       False      False         False   \n",
       "\n",
       "   ownership  manufacture  engine  Seats  \n",
       "0      False        False   False  False  \n",
       "1      False        False   False  False  \n",
       "2      False        False   False  False  \n",
       "3      False        False   False  False  \n",
       "4      False        False   False  False  \n",
       "5      False        False   False  False  "
      ]
     },
     "execution_count": 81,
     "metadata": {},
     "output_type": "execute_result"
    }
   ],
   "source": [
    "#True means --> missing Content \n",
    "# False means --> not missing content\n",
    "dataset.isnull()"
   ]
  },
  {
   "cell_type": "code",
   "execution_count": 82,
   "id": "f97f9f80-91c3-4de8-804a-bdeca14b36a6",
   "metadata": {},
   "outputs": [
    {
     "data": {
      "text/plain": [
       "car_name               0\n",
       "car_prices_in_rupee    1\n",
       "kms_driven             0\n",
       "fuel_type              0\n",
       "transmission           0\n",
       "ownership              0\n",
       "manufacture            0\n",
       "engine                 0\n",
       "Seats                  0\n",
       "dtype: int64"
      ]
     },
     "execution_count": 82,
     "metadata": {},
     "output_type": "execute_result"
    }
   ],
   "source": [
    "# sum() er folee jar joto missing content aceh , sheta jante parbo !!\n",
    "dataset.isnull().sum()"
   ]
  },
  {
   "cell_type": "code",
   "execution_count": 83,
   "id": "8d3aa880-c21b-43ad-9d16-441658f721fe",
   "metadata": {},
   "outputs": [
    {
     "name": "stdout",
     "output_type": "stream",
     "text": [
      "\n",
      "Missing Values:\n",
      "car_name               0\n",
      "car_prices_in_rupee    1\n",
      "kms_driven             0\n",
      "fuel_type              0\n",
      "transmission           0\n",
      "ownership              0\n",
      "manufacture            0\n",
      "engine                 0\n",
      "Seats                  0\n",
      "dtype: int64\n"
     ]
    }
   ],
   "source": [
    "# To see this , a better version \n",
    "\n",
    "print(\"\\nMissing Values:\")\n",
    "missing_values = dataset.isnull().sum()\n",
    "print(missing_values)"
   ]
  },
  {
   "cell_type": "markdown",
   "id": "b55fc13b-2e08-492a-848a-6f1da28e18f3",
   "metadata": {},
   "source": [
    "### For good observation , we have to find this in Percentage form "
   ]
  },
  {
   "cell_type": "code",
   "execution_count": 84,
   "id": "62e62fe9-0fee-4769-9f00-77406f166f9e",
   "metadata": {},
   "outputs": [
    {
     "data": {
      "text/plain": [
       "car_name                0.000000\n",
       "car_prices_in_rupee    16.666667\n",
       "kms_driven              0.000000\n",
       "fuel_type               0.000000\n",
       "transmission            0.000000\n",
       "ownership               0.000000\n",
       "manufacture             0.000000\n",
       "engine                  0.000000\n",
       "Seats                   0.000000\n",
       "dtype: float64"
      ]
     },
     "execution_count": 84,
     "metadata": {},
     "output_type": "execute_result"
    }
   ],
   "source": [
    "# To find the Percentage of Missing content \n",
    "(dataset.isnull().sum()/dataset.shape[0])*100"
   ]
  },
  {
   "cell_type": "markdown",
   "id": "44a3732e-ad2c-42a2-bae3-aae80b36fd1c",
   "metadata": {},
   "source": [
    "### To remove the missing Data"
   ]
  },
  {
   "cell_type": "code",
   "execution_count": 85,
   "id": "c5382d60-f893-4e7a-acf7-71f8b4509ed7",
   "metadata": {},
   "outputs": [],
   "source": [
    "#permenetly removed the missing content \n",
    "dataset.dropna(inplace=True)"
   ]
  },
  {
   "cell_type": "code",
   "execution_count": 86,
   "id": "2c9df94a-8df8-4e00-88b6-b9a8a2b97cb4",
   "metadata": {},
   "outputs": [
    {
     "data": {
      "text/html": [
       "<div>\n",
       "<style scoped>\n",
       "    .dataframe tbody tr th:only-of-type {\n",
       "        vertical-align: middle;\n",
       "    }\n",
       "\n",
       "    .dataframe tbody tr th {\n",
       "        vertical-align: top;\n",
       "    }\n",
       "\n",
       "    .dataframe thead th {\n",
       "        text-align: right;\n",
       "    }\n",
       "</style>\n",
       "<table border=\"1\" class=\"dataframe\">\n",
       "  <thead>\n",
       "    <tr style=\"text-align: right;\">\n",
       "      <th></th>\n",
       "      <th>car_name</th>\n",
       "      <th>car_prices_in_rupee</th>\n",
       "      <th>kms_driven</th>\n",
       "      <th>fuel_type</th>\n",
       "      <th>transmission</th>\n",
       "      <th>ownership</th>\n",
       "      <th>manufacture</th>\n",
       "      <th>engine</th>\n",
       "      <th>Seats</th>\n",
       "    </tr>\n",
       "  </thead>\n",
       "  <tbody>\n",
       "    <tr>\n",
       "      <th>0</th>\n",
       "      <td>Jeep Compass 2.0 Longitude Option BSIV</td>\n",
       "      <td>10.03 Lakh</td>\n",
       "      <td>86,226 kms</td>\n",
       "      <td>Diesel</td>\n",
       "      <td>Manual</td>\n",
       "      <td>1st Owner</td>\n",
       "      <td>January 15,2017</td>\n",
       "      <td>1956 cc</td>\n",
       "      <td>5 Seats</td>\n",
       "    </tr>\n",
       "    <tr>\n",
       "      <th>2</th>\n",
       "      <td>Toyota Camry 2.5 G</td>\n",
       "      <td>16.4</td>\n",
       "      <td>60,343 kms</td>\n",
       "      <td>Petrol</td>\n",
       "      <td>Automatic</td>\n",
       "      <td>1st Owner</td>\n",
       "      <td>January 15,2019</td>\n",
       "      <td>2494 cc</td>\n",
       "      <td>5 Seats</td>\n",
       "    </tr>\n",
       "    <tr>\n",
       "      <th>3</th>\n",
       "      <td>Honda Jazz VX CVT</td>\n",
       "      <td>16.40 Crore</td>\n",
       "      <td>26,696 kms</td>\n",
       "      <td>Petrol</td>\n",
       "      <td>Automatic</td>\n",
       "      <td>1st Owner</td>\n",
       "      <td>March 15,2020</td>\n",
       "      <td>1199 cc</td>\n",
       "      <td>5 Seats</td>\n",
       "    </tr>\n",
       "    <tr>\n",
       "      <th>4</th>\n",
       "      <td>Mahindra XUV300 W6</td>\n",
       "      <td>35,000</td>\n",
       "      <td>65,000 kms</td>\n",
       "      <td>Diesel</td>\n",
       "      <td>Automatic</td>\n",
       "      <td>2nd Owner</td>\n",
       "      <td>January 15,2020</td>\n",
       "      <td>2000 cc</td>\n",
       "      <td>2 Seats</td>\n",
       "    </tr>\n",
       "    <tr>\n",
       "      <th>5</th>\n",
       "      <td>Mahindra XUV300 W6</td>\n",
       "      <td>35,000</td>\n",
       "      <td>65,000 kms</td>\n",
       "      <td>Diesel</td>\n",
       "      <td>Automatic</td>\n",
       "      <td>2nd Owner</td>\n",
       "      <td>January 15,2020</td>\n",
       "      <td>2000 cc</td>\n",
       "      <td>2 Seats</td>\n",
       "    </tr>\n",
       "  </tbody>\n",
       "</table>\n",
       "</div>"
      ],
      "text/plain": [
       "                                 car_name car_prices_in_rupee  kms_driven  \\\n",
       "0  Jeep Compass 2.0 Longitude Option BSIV          10.03 Lakh  86,226 kms   \n",
       "2                      Toyota Camry 2.5 G                16.4  60,343 kms   \n",
       "3                       Honda Jazz VX CVT         16.40 Crore  26,696 kms   \n",
       "4                      Mahindra XUV300 W6              35,000  65,000 kms   \n",
       "5                      Mahindra XUV300 W6              35,000  65,000 kms   \n",
       "\n",
       "  fuel_type transmission  ownership      manufacture   engine    Seats  \n",
       "0    Diesel       Manual  1st Owner  January 15,2017  1956 cc  5 Seats  \n",
       "2    Petrol    Automatic  1st Owner  January 15,2019  2494 cc  5 Seats  \n",
       "3    Petrol    Automatic  1st Owner    March 15,2020  1199 cc  5 Seats  \n",
       "4    Diesel    Automatic  2nd Owner  January 15,2020  2000 cc  2 Seats  \n",
       "5    Diesel    Automatic  2nd Owner  January 15,2020  2000 cc  2 Seats  "
      ]
     },
     "execution_count": 86,
     "metadata": {},
     "output_type": "execute_result"
    }
   ],
   "source": [
    "#To see the NaN is permanently is deleted or not !!\n",
    "dataset"
   ]
  },
  {
   "cell_type": "markdown",
   "id": "0ab19a2c-90e1-46b2-9ede-8d9a7b269c09",
   "metadata": {},
   "source": [
    "# For Duplicate Values"
   ]
  },
  {
   "cell_type": "code",
   "execution_count": 87,
   "id": "64dcfd61-448d-4506-9c30-e1c86d787a2a",
   "metadata": {},
   "outputs": [
    {
     "name": "stdout",
     "output_type": "stream",
     "text": [
      "\n",
      "Duplicate Entries:\n",
      "Number of Duplicate Rows: 1\n",
      "\n",
      "Duplicates Removed. New Number of Rows: 4\n"
     ]
    }
   ],
   "source": [
    "# Check for duplicate rows\n",
    "print(\"\\nDuplicate Entries:\")\n",
    "duplicates = dataset.duplicated().sum()\n",
    "print(f\"Number of Duplicate Rows: {duplicates}\")\n",
    "\n",
    "# If duplicates are found, you can remove them\n",
    "if duplicates > 0:\n",
    "    dataset = dataset.drop_duplicates()\n",
    "    print(f\"\\nDuplicates Removed. New Number of Rows: {dataset.shape[0]}\")"
   ]
  },
  {
   "cell_type": "code",
   "execution_count": 88,
   "id": "807acede-b79a-4ec3-84ae-7f644ba9fe7e",
   "metadata": {},
   "outputs": [
    {
     "data": {
      "text/html": [
       "<div>\n",
       "<style scoped>\n",
       "    .dataframe tbody tr th:only-of-type {\n",
       "        vertical-align: middle;\n",
       "    }\n",
       "\n",
       "    .dataframe tbody tr th {\n",
       "        vertical-align: top;\n",
       "    }\n",
       "\n",
       "    .dataframe thead th {\n",
       "        text-align: right;\n",
       "    }\n",
       "</style>\n",
       "<table border=\"1\" class=\"dataframe\">\n",
       "  <thead>\n",
       "    <tr style=\"text-align: right;\">\n",
       "      <th></th>\n",
       "      <th>car_name</th>\n",
       "      <th>car_prices_in_rupee</th>\n",
       "      <th>kms_driven</th>\n",
       "      <th>fuel_type</th>\n",
       "      <th>transmission</th>\n",
       "      <th>ownership</th>\n",
       "      <th>manufacture</th>\n",
       "      <th>engine</th>\n",
       "      <th>Seats</th>\n",
       "    </tr>\n",
       "  </thead>\n",
       "  <tbody>\n",
       "    <tr>\n",
       "      <th>0</th>\n",
       "      <td>Jeep Compass 2.0 Longitude Option BSIV</td>\n",
       "      <td>10.03 Lakh</td>\n",
       "      <td>86,226 kms</td>\n",
       "      <td>Diesel</td>\n",
       "      <td>Manual</td>\n",
       "      <td>1st Owner</td>\n",
       "      <td>January 15,2017</td>\n",
       "      <td>1956 cc</td>\n",
       "      <td>5 Seats</td>\n",
       "    </tr>\n",
       "    <tr>\n",
       "      <th>2</th>\n",
       "      <td>Toyota Camry 2.5 G</td>\n",
       "      <td>16.4</td>\n",
       "      <td>60,343 kms</td>\n",
       "      <td>Petrol</td>\n",
       "      <td>Automatic</td>\n",
       "      <td>1st Owner</td>\n",
       "      <td>January 15,2019</td>\n",
       "      <td>2494 cc</td>\n",
       "      <td>5 Seats</td>\n",
       "    </tr>\n",
       "    <tr>\n",
       "      <th>3</th>\n",
       "      <td>Honda Jazz VX CVT</td>\n",
       "      <td>16.40 Crore</td>\n",
       "      <td>26,696 kms</td>\n",
       "      <td>Petrol</td>\n",
       "      <td>Automatic</td>\n",
       "      <td>1st Owner</td>\n",
       "      <td>March 15,2020</td>\n",
       "      <td>1199 cc</td>\n",
       "      <td>5 Seats</td>\n",
       "    </tr>\n",
       "    <tr>\n",
       "      <th>4</th>\n",
       "      <td>Mahindra XUV300 W6</td>\n",
       "      <td>35,000</td>\n",
       "      <td>65,000 kms</td>\n",
       "      <td>Diesel</td>\n",
       "      <td>Automatic</td>\n",
       "      <td>2nd Owner</td>\n",
       "      <td>January 15,2020</td>\n",
       "      <td>2000 cc</td>\n",
       "      <td>2 Seats</td>\n",
       "    </tr>\n",
       "  </tbody>\n",
       "</table>\n",
       "</div>"
      ],
      "text/plain": [
       "                                 car_name car_prices_in_rupee  kms_driven  \\\n",
       "0  Jeep Compass 2.0 Longitude Option BSIV          10.03 Lakh  86,226 kms   \n",
       "2                      Toyota Camry 2.5 G                16.4  60,343 kms   \n",
       "3                       Honda Jazz VX CVT         16.40 Crore  26,696 kms   \n",
       "4                      Mahindra XUV300 W6              35,000  65,000 kms   \n",
       "\n",
       "  fuel_type transmission  ownership      manufacture   engine    Seats  \n",
       "0    Diesel       Manual  1st Owner  January 15,2017  1956 cc  5 Seats  \n",
       "2    Petrol    Automatic  1st Owner  January 15,2019  2494 cc  5 Seats  \n",
       "3    Petrol    Automatic  1st Owner    March 15,2020  1199 cc  5 Seats  \n",
       "4    Diesel    Automatic  2nd Owner  January 15,2020  2000 cc  2 Seats  "
      ]
     },
     "execution_count": 88,
     "metadata": {},
     "output_type": "execute_result"
    }
   ],
   "source": [
    "#To see the Datasets\n",
    "dataset"
   ]
  },
  {
   "cell_type": "code",
   "execution_count": 89,
   "id": "09c739c6-5395-4d4c-9da1-1ec0f0ec41b6",
   "metadata": {},
   "outputs": [
    {
     "name": "stdout",
     "output_type": "stream",
     "text": [
      "\n",
      "Statistical Summary:\n",
      "                                      car_name car_prices_in_rupee  \\\n",
      "count                                        4                   4   \n",
      "unique                                       4                   4   \n",
      "top     Jeep Compass 2.0 Longitude Option BSIV          10.03 Lakh   \n",
      "freq                                         1                   1   \n",
      "\n",
      "        kms_driven fuel_type transmission  ownership      manufacture  \\\n",
      "count            4         4            4          4                4   \n",
      "unique           4         2            2          2                4   \n",
      "top     86,226 kms    Diesel    Automatic  1st Owner  January 15,2017   \n",
      "freq             1         2            3          3                1   \n",
      "\n",
      "         engine    Seats  \n",
      "count         4        4  \n",
      "unique        4        2  \n",
      "top     1956 cc  5 Seats  \n",
      "freq          1        3  \n"
     ]
    }
   ],
   "source": [
    "# Describe numerical columns to identify potential outliers\n",
    "print(\"\\nStatistical Summary:\")\n",
    "summary = dataset.describe()\n",
    "print(summary)"
   ]
  },
  {
   "cell_type": "markdown",
   "id": "396f74de-6268-4b62-a57f-eb713edd046b",
   "metadata": {},
   "source": [
    "# One By One Column Obeservtion "
   ]
  },
  {
   "cell_type": "code",
   "execution_count": 90,
   "id": "3596103a-5647-4a13-a288-e88820fcd751",
   "metadata": {},
   "outputs": [
    {
     "data": {
      "text/plain": [
       "0    Jeep Compass 2.0 Longitude Option BSIV\n",
       "2                        Toyota Camry 2.5 G\n",
       "3                         Honda Jazz VX CVT\n",
       "4                        Mahindra XUV300 W6\n",
       "Name: car_name, dtype: object"
      ]
     },
     "execution_count": 90,
     "metadata": {},
     "output_type": "execute_result"
    }
   ],
   "source": [
    "dataset['car_name']"
   ]
  },
  {
   "cell_type": "raw",
   "id": "2cc2a15f-226f-4dfa-b4aa-8b9fc3eea889",
   "metadata": {},
   "source": [
    "------------------------------------->>>>To separate carName and Company Name <<<<<<<-----------------------------------"
   ]
  },
  {
   "cell_type": "code",
   "execution_count": 91,
   "id": "27482865-3d1c-4d30-afcc-9b75fa941466",
   "metadata": {},
   "outputs": [
    {
     "data": {
      "text/plain": [
       "'Jeep Compass 2.0 Longitude Option BSIV'"
      ]
     },
     "execution_count": 91,
     "metadata": {},
     "output_type": "execute_result"
    }
   ],
   "source": [
    "# WE Will work on a Data only , then entire Data\n",
    "dataset['car_name'][0]"
   ]
  },
  {
   "cell_type": "code",
   "execution_count": 92,
   "id": "8eddb6ba-fdb7-4a93-942c-45c040bcd69b",
   "metadata": {},
   "outputs": [
    {
     "data": {
      "text/plain": [
       "'Jeep'"
      ]
     },
     "execution_count": 92,
     "metadata": {},
     "output_type": "execute_result"
    }
   ],
   "source": [
    "# I will use Slicing to separate the Car name and Company Name \n",
    "x=dataset['car_name'][0]\n",
    "x[:x.index(\" \")] # For Specific Data, so entire Data I will have to create the customize function "
   ]
  },
  {
   "cell_type": "code",
   "execution_count": 93,
   "id": "386663cc-0995-4ba4-b845-ca5776f78c3c",
   "metadata": {},
   "outputs": [],
   "source": [
    "# To Create the customize function --> for the company_name\n",
    "def company_name(x):\n",
    "    return x[:x.index(\" \")]"
   ]
  },
  {
   "cell_type": "code",
   "execution_count": 94,
   "id": "251eec39-4b18-4426-8b5f-0b16190ff762",
   "metadata": {},
   "outputs": [
    {
     "data": {
      "text/plain": [
       "0        Jeep\n",
       "2      Toyota\n",
       "3       Honda\n",
       "4    Mahindra\n",
       "Name: car_name, dtype: object"
      ]
     },
     "execution_count": 94,
     "metadata": {},
     "output_type": "execute_result"
    }
   ],
   "source": [
    "dataset[\"car_name\"].apply(company_name)"
   ]
  },
  {
   "cell_type": "code",
   "execution_count": 95,
   "id": "4c545b0a-01af-4f28-9bb5-69586d7a8945",
   "metadata": {},
   "outputs": [
    {
     "name": "stderr",
     "output_type": "stream",
     "text": [
      "C:\\Users\\hirak\\AppData\\Local\\Temp\\ipykernel_20060\\1984364988.py:2: SettingWithCopyWarning: \n",
      "A value is trying to be set on a copy of a slice from a DataFrame.\n",
      "Try using .loc[row_indexer,col_indexer] = value instead\n",
      "\n",
      "See the caveats in the documentation: https://pandas.pydata.org/pandas-docs/stable/user_guide/indexing.html#returning-a-view-versus-a-copy\n",
      "  dataset[\"company_name\"]=dataset[\"car_name\"].apply(company_name)\n"
     ]
    }
   ],
   "source": [
    "# TO add this in the Main Dataset we will do is .......\n",
    "dataset[\"company_name\"]=dataset[\"car_name\"].apply(company_name)"
   ]
  },
  {
   "cell_type": "raw",
   "id": "de9c0391-ec7b-465c-a872-081e16b1d014",
   "metadata": {},
   "source": [
    "The above eror is ocured bczzz...\n",
    "\n",
    "->The warning you're encountering, SettingWithCopyWarning, occurs in pandas when you try to modify a subset of a DataFrame that was \n",
    "created by filtering or slicing.This warning is raised to alert you that the operation might not affect the original DataFrame but rather a copy,\n",
    "leading to unexpected behavior.\n",
    "\n",
    "\n",
    "How to Fix It==>>\n",
    "To ensure that you're modifying the original DataFrame and avoid the warning,\n",
    "use .loc[] to explicitly specify the part of the DataFrame you want to modify:\n",
    "\n",
    "dataset.loc[:, \"company_name\"] = dataset[\"car_name\"].apply(company_name)"
   ]
  },
  {
   "cell_type": "code",
   "execution_count": 96,
   "id": "c1457f35-b0e1-4674-842b-4e7fbed697c7",
   "metadata": {},
   "outputs": [],
   "source": [
    "# Here is the error is solved\n",
    "dataset.loc[:, \"company_name\"] = dataset[\"car_name\"].apply(company_name)"
   ]
  },
  {
   "cell_type": "code",
   "execution_count": 97,
   "id": "129c2ec6-8211-4215-b88b-582808608a6e",
   "metadata": {},
   "outputs": [
    {
     "data": {
      "text/html": [
       "<div>\n",
       "<style scoped>\n",
       "    .dataframe tbody tr th:only-of-type {\n",
       "        vertical-align: middle;\n",
       "    }\n",
       "\n",
       "    .dataframe tbody tr th {\n",
       "        vertical-align: top;\n",
       "    }\n",
       "\n",
       "    .dataframe thead th {\n",
       "        text-align: right;\n",
       "    }\n",
       "</style>\n",
       "<table border=\"1\" class=\"dataframe\">\n",
       "  <thead>\n",
       "    <tr style=\"text-align: right;\">\n",
       "      <th></th>\n",
       "      <th>car_name</th>\n",
       "      <th>car_prices_in_rupee</th>\n",
       "      <th>kms_driven</th>\n",
       "      <th>fuel_type</th>\n",
       "      <th>transmission</th>\n",
       "      <th>ownership</th>\n",
       "      <th>manufacture</th>\n",
       "      <th>engine</th>\n",
       "      <th>Seats</th>\n",
       "      <th>company_name</th>\n",
       "    </tr>\n",
       "  </thead>\n",
       "  <tbody>\n",
       "    <tr>\n",
       "      <th>0</th>\n",
       "      <td>Jeep Compass 2.0 Longitude Option BSIV</td>\n",
       "      <td>10.03 Lakh</td>\n",
       "      <td>86,226 kms</td>\n",
       "      <td>Diesel</td>\n",
       "      <td>Manual</td>\n",
       "      <td>1st Owner</td>\n",
       "      <td>January 15,2017</td>\n",
       "      <td>1956 cc</td>\n",
       "      <td>5 Seats</td>\n",
       "      <td>Jeep</td>\n",
       "    </tr>\n",
       "    <tr>\n",
       "      <th>2</th>\n",
       "      <td>Toyota Camry 2.5 G</td>\n",
       "      <td>16.4</td>\n",
       "      <td>60,343 kms</td>\n",
       "      <td>Petrol</td>\n",
       "      <td>Automatic</td>\n",
       "      <td>1st Owner</td>\n",
       "      <td>January 15,2019</td>\n",
       "      <td>2494 cc</td>\n",
       "      <td>5 Seats</td>\n",
       "      <td>Toyota</td>\n",
       "    </tr>\n",
       "    <tr>\n",
       "      <th>3</th>\n",
       "      <td>Honda Jazz VX CVT</td>\n",
       "      <td>16.40 Crore</td>\n",
       "      <td>26,696 kms</td>\n",
       "      <td>Petrol</td>\n",
       "      <td>Automatic</td>\n",
       "      <td>1st Owner</td>\n",
       "      <td>March 15,2020</td>\n",
       "      <td>1199 cc</td>\n",
       "      <td>5 Seats</td>\n",
       "      <td>Honda</td>\n",
       "    </tr>\n",
       "    <tr>\n",
       "      <th>4</th>\n",
       "      <td>Mahindra XUV300 W6</td>\n",
       "      <td>35,000</td>\n",
       "      <td>65,000 kms</td>\n",
       "      <td>Diesel</td>\n",
       "      <td>Automatic</td>\n",
       "      <td>2nd Owner</td>\n",
       "      <td>January 15,2020</td>\n",
       "      <td>2000 cc</td>\n",
       "      <td>2 Seats</td>\n",
       "      <td>Mahindra</td>\n",
       "    </tr>\n",
       "  </tbody>\n",
       "</table>\n",
       "</div>"
      ],
      "text/plain": [
       "                                 car_name car_prices_in_rupee  kms_driven  \\\n",
       "0  Jeep Compass 2.0 Longitude Option BSIV          10.03 Lakh  86,226 kms   \n",
       "2                      Toyota Camry 2.5 G                16.4  60,343 kms   \n",
       "3                       Honda Jazz VX CVT         16.40 Crore  26,696 kms   \n",
       "4                      Mahindra XUV300 W6              35,000  65,000 kms   \n",
       "\n",
       "  fuel_type transmission  ownership      manufacture   engine    Seats  \\\n",
       "0    Diesel       Manual  1st Owner  January 15,2017  1956 cc  5 Seats   \n",
       "2    Petrol    Automatic  1st Owner  January 15,2019  2494 cc  5 Seats   \n",
       "3    Petrol    Automatic  1st Owner    March 15,2020  1199 cc  5 Seats   \n",
       "4    Diesel    Automatic  2nd Owner  January 15,2020  2000 cc  2 Seats   \n",
       "\n",
       "  company_name  \n",
       "0         Jeep  \n",
       "2       Toyota  \n",
       "3        Honda  \n",
       "4     Mahindra  "
      ]
     },
     "execution_count": 97,
     "metadata": {},
     "output_type": "execute_result"
    }
   ],
   "source": [
    "dataset"
   ]
  },
  {
   "cell_type": "code",
   "execution_count": 98,
   "id": "66159af1-76b3-4fc0-9050-b8f14f7f689c",
   "metadata": {},
   "outputs": [],
   "source": [
    "# To Create the customize function --> for the car_name\n",
    "def car_name(x):\n",
    "    return x[x.index(\" \")+1:]"
   ]
  },
  {
   "cell_type": "code",
   "execution_count": 99,
   "id": "73bf48c3-f125-4b2b-a76a-e1b98da3cba5",
   "metadata": {},
   "outputs": [
    {
     "data": {
      "text/plain": [
       "0    Compass 2.0 Longitude Option BSIV\n",
       "2                          Camry 2.5 G\n",
       "3                          Jazz VX CVT\n",
       "4                            XUV300 W6\n",
       "Name: car_name, dtype: object"
      ]
     },
     "execution_count": 99,
     "metadata": {},
     "output_type": "execute_result"
    }
   ],
   "source": [
    "dataset[\"car_name\"].apply(car_name)"
   ]
  },
  {
   "cell_type": "code",
   "execution_count": 100,
   "id": "74b89004-e6f7-4807-80a1-220774652025",
   "metadata": {},
   "outputs": [
    {
     "name": "stderr",
     "output_type": "stream",
     "text": [
      "C:\\Users\\hirak\\AppData\\Local\\Temp\\ipykernel_20060\\2769808641.py:1: SettingWithCopyWarning: \n",
      "A value is trying to be set on a copy of a slice from a DataFrame.\n",
      "Try using .loc[row_indexer,col_indexer] = value instead\n",
      "\n",
      "See the caveats in the documentation: https://pandas.pydata.org/pandas-docs/stable/user_guide/indexing.html#returning-a-view-versus-a-copy\n",
      "  dataset[\"car_name\"]=dataset[\"car_name\"].apply(car_name)\n"
     ]
    }
   ],
   "source": [
    "dataset[\"car_name\"]=dataset[\"car_name\"].apply(car_name)"
   ]
  },
  {
   "cell_type": "raw",
   "id": "b4256f48-b2b8-460c-8b58-71d5de236782",
   "metadata": {},
   "source": [
    "The above eror is ocured bczzz...\n",
    "\n",
    "->The warning you're encountering, SettingWithCopyWarning, occurs in pandas when you try to modify a subset of a DataFrame that was \n",
    "created by filtering or slicing.This warning is raised to alert you that the operation might not affect the original DataFrame but rather a copy,\n",
    "leading to unexpected behavior.\n",
    "\n",
    "How to Fix It==>>\n",
    "To ensure that you're modifying the original DataFrame and avoid the warning,\n",
    "use .loc[] to explicitly specify the part of the DataFrame you want to modify:\n",
    "\n",
    "dataset.loc[:, \"car_name\"] = dataset[\"car_name\"].apply(car_name)"
   ]
  },
  {
   "cell_type": "code",
   "execution_count": 101,
   "id": "402f423b-9041-4dbe-b404-55f19055d279",
   "metadata": {},
   "outputs": [],
   "source": [
    "# here is the error is solved\n",
    "dataset.loc[:, \"car_name\"] = dataset[\"car_name\"].apply(car_name)"
   ]
  },
  {
   "cell_type": "code",
   "execution_count": 102,
   "id": "48c75377-97e7-4cab-ba03-688d3457c30e",
   "metadata": {},
   "outputs": [
    {
     "data": {
      "text/html": [
       "<div>\n",
       "<style scoped>\n",
       "    .dataframe tbody tr th:only-of-type {\n",
       "        vertical-align: middle;\n",
       "    }\n",
       "\n",
       "    .dataframe tbody tr th {\n",
       "        vertical-align: top;\n",
       "    }\n",
       "\n",
       "    .dataframe thead th {\n",
       "        text-align: right;\n",
       "    }\n",
       "</style>\n",
       "<table border=\"1\" class=\"dataframe\">\n",
       "  <thead>\n",
       "    <tr style=\"text-align: right;\">\n",
       "      <th></th>\n",
       "      <th>car_name</th>\n",
       "      <th>car_prices_in_rupee</th>\n",
       "      <th>kms_driven</th>\n",
       "      <th>fuel_type</th>\n",
       "      <th>transmission</th>\n",
       "      <th>ownership</th>\n",
       "      <th>manufacture</th>\n",
       "      <th>engine</th>\n",
       "      <th>Seats</th>\n",
       "      <th>company_name</th>\n",
       "    </tr>\n",
       "  </thead>\n",
       "  <tbody>\n",
       "    <tr>\n",
       "      <th>0</th>\n",
       "      <td>2.0 Longitude Option BSIV</td>\n",
       "      <td>10.03 Lakh</td>\n",
       "      <td>86,226 kms</td>\n",
       "      <td>Diesel</td>\n",
       "      <td>Manual</td>\n",
       "      <td>1st Owner</td>\n",
       "      <td>January 15,2017</td>\n",
       "      <td>1956 cc</td>\n",
       "      <td>5 Seats</td>\n",
       "      <td>Jeep</td>\n",
       "    </tr>\n",
       "    <tr>\n",
       "      <th>2</th>\n",
       "      <td>2.5 G</td>\n",
       "      <td>16.4</td>\n",
       "      <td>60,343 kms</td>\n",
       "      <td>Petrol</td>\n",
       "      <td>Automatic</td>\n",
       "      <td>1st Owner</td>\n",
       "      <td>January 15,2019</td>\n",
       "      <td>2494 cc</td>\n",
       "      <td>5 Seats</td>\n",
       "      <td>Toyota</td>\n",
       "    </tr>\n",
       "    <tr>\n",
       "      <th>3</th>\n",
       "      <td>VX CVT</td>\n",
       "      <td>16.40 Crore</td>\n",
       "      <td>26,696 kms</td>\n",
       "      <td>Petrol</td>\n",
       "      <td>Automatic</td>\n",
       "      <td>1st Owner</td>\n",
       "      <td>March 15,2020</td>\n",
       "      <td>1199 cc</td>\n",
       "      <td>5 Seats</td>\n",
       "      <td>Honda</td>\n",
       "    </tr>\n",
       "    <tr>\n",
       "      <th>4</th>\n",
       "      <td>W6</td>\n",
       "      <td>35,000</td>\n",
       "      <td>65,000 kms</td>\n",
       "      <td>Diesel</td>\n",
       "      <td>Automatic</td>\n",
       "      <td>2nd Owner</td>\n",
       "      <td>January 15,2020</td>\n",
       "      <td>2000 cc</td>\n",
       "      <td>2 Seats</td>\n",
       "      <td>Mahindra</td>\n",
       "    </tr>\n",
       "  </tbody>\n",
       "</table>\n",
       "</div>"
      ],
      "text/plain": [
       "                    car_name car_prices_in_rupee  kms_driven fuel_type  \\\n",
       "0  2.0 Longitude Option BSIV          10.03 Lakh  86,226 kms    Diesel   \n",
       "2                      2.5 G                16.4  60,343 kms    Petrol   \n",
       "3                     VX CVT         16.40 Crore  26,696 kms    Petrol   \n",
       "4                         W6              35,000  65,000 kms    Diesel   \n",
       "\n",
       "  transmission  ownership      manufacture   engine    Seats company_name  \n",
       "0       Manual  1st Owner  January 15,2017  1956 cc  5 Seats         Jeep  \n",
       "2    Automatic  1st Owner  January 15,2019  2494 cc  5 Seats       Toyota  \n",
       "3    Automatic  1st Owner    March 15,2020  1199 cc  5 Seats        Honda  \n",
       "4    Automatic  2nd Owner  January 15,2020  2000 cc  2 Seats     Mahindra  "
      ]
     },
     "execution_count": 102,
     "metadata": {},
     "output_type": "execute_result"
    }
   ],
   "source": [
    "dataset"
   ]
  },
  {
   "cell_type": "markdown",
   "id": "d1bcffd7-4d0f-41c8-9230-2ad10fea8812",
   "metadata": {},
   "source": [
    "### Car_Price_in_Rupee"
   ]
  },
  {
   "cell_type": "code",
   "execution_count": 103,
   "id": "e504e515-d1ac-4d2d-93e5-3a33d3758460",
   "metadata": {},
   "outputs": [
    {
     "data": {
      "text/plain": [
       "0     10.03 Lakh\n",
       "2           16.4\n",
       "3    16.40 Crore\n",
       "4         35,000\n",
       "Name: car_prices_in_rupee, dtype: object"
      ]
     },
     "execution_count": 103,
     "metadata": {},
     "output_type": "execute_result"
    }
   ],
   "source": [
    "dataset[\"car_prices_in_rupee\"]"
   ]
  },
  {
   "cell_type": "raw",
   "id": "ed59c1db-0d6c-4089-ad6b-a26da29520b5",
   "metadata": {},
   "source": [
    "35,000, 10.03 Lakh, 16.40 Crore\n",
    "-->In pandas Under a number comma is not supported \n",
    "--> Lakh has to remove \n",
    "--> Crore has to remove too"
   ]
  },
  {
   "cell_type": "raw",
   "id": "b765a5f6-ae7a-4533-a99c-342f586e4036",
   "metadata": {},
   "source": [
    "                 ---------------------->>> Concept of removing Something Form the Date <<<<<<<<<<<<<<<<---------------------------------- "
   ]
  },
  {
   "cell_type": "raw",
   "id": "d777d280-b43c-4d29-9dac-f53d6a6bf381",
   "metadata": {},
   "source": [
    "'''\n",
    "# Remove the coma first ---> using [str] and [replace]   ==> like 35,000\n",
    "dataset[\"car_prices_in_rupee\"] = dataset[\"car_prices_in_rupee\"].str.replace(\",\",\"\") \n",
    "\n",
    "output: \n",
    " 35000\n",
    "\n",
    "1956 cc\n",
    "\n",
    "#To remove this CC\n",
    "# Remove the sapce with cc first --> using [str] and [replace]\n",
    "dataset[\"engine\"] = dataset[\"engine\"].str.replace(\" cc\",\"\")\n",
    "\n",
    "Output: \n",
    " 1956\n",
    "\n",
    "January 15,2017\n",
    "\n",
    "#To Remove the coma first ---> using [str] and [replace]\n",
    "dataset[\"manufacture\"] = dataset[\"manufacture\"].str.replace(\",\",\" ,\")\n",
    "\n",
    "Output : \n",
    " 2017-01-15\n",
    "\n",
    " '''"
   ]
  },
  {
   "cell_type": "code",
   "execution_count": 104,
   "id": "9ae6f494-4606-44d4-9e94-9999a91fc1fb",
   "metadata": {},
   "outputs": [
    {
     "name": "stderr",
     "output_type": "stream",
     "text": [
      "C:\\Users\\hirak\\AppData\\Local\\Temp\\ipykernel_20060\\1404091914.py:2: SettingWithCopyWarning: \n",
      "A value is trying to be set on a copy of a slice from a DataFrame.\n",
      "Try using .loc[row_indexer,col_indexer] = value instead\n",
      "\n",
      "See the caveats in the documentation: https://pandas.pydata.org/pandas-docs/stable/user_guide/indexing.html#returning-a-view-versus-a-copy\n",
      "  dataset[\"car_prices_in_rupee\"] = dataset[\"car_prices_in_rupee\"].str.replace(\",\",\"\")\n"
     ]
    }
   ],
   "source": [
    "# Remove the coma first ---> using [str] and [replace]   ==> like 35,000\n",
    "dataset[\"car_prices_in_rupee\"] = dataset[\"car_prices_in_rupee\"].str.replace(\",\",\"\")"
   ]
  },
  {
   "cell_type": "raw",
   "id": "a43d1c9a-a1be-4c84-b4a9-7181e590def5",
   "metadata": {},
   "source": [
    "The above eror is ocured bczzz...\n",
    "\n",
    "->The warning you're encountering, SettingWithCopyWarning, occurs in pandas when you try to modify a subset of a DataFrame that was \n",
    "created by filtering or slicing.This warning is raised to alert you that the operation might not affect the original DataFrame but rather a copy,\n",
    "leading to unexpected behavior.\n",
    "\n",
    "How to Fix It==>>\n",
    "To ensure that you're modifying the original DataFrame and avoid the warning,\n",
    "use .loc[] to explicitly specify the part of the DataFrame you want to modify:\n",
    "\n",
    "dataset.loc[:, \"car_prices_in_rupee\"] = dataset[\"car_prices_in_rupee\"].replace(\",\",\"\")"
   ]
  },
  {
   "cell_type": "code",
   "execution_count": 105,
   "id": "797fc1bc-fe4c-464b-9786-d06ca4d25c6e",
   "metadata": {},
   "outputs": [],
   "source": [
    "# Remove the coma first ---> using [str] and [replace]   ==> like 35,000\n",
    "dataset.loc[:,\"car_prices_in_rupee\"] = dataset[\"car_prices_in_rupee\"].str.replace(\",\",\"\")"
   ]
  },
  {
   "cell_type": "code",
   "execution_count": 106,
   "id": "53e695e6-08ea-4c2a-b8dc-b8b3f0dbcac7",
   "metadata": {},
   "outputs": [
    {
     "data": {
      "text/html": [
       "<div>\n",
       "<style scoped>\n",
       "    .dataframe tbody tr th:only-of-type {\n",
       "        vertical-align: middle;\n",
       "    }\n",
       "\n",
       "    .dataframe tbody tr th {\n",
       "        vertical-align: top;\n",
       "    }\n",
       "\n",
       "    .dataframe thead th {\n",
       "        text-align: right;\n",
       "    }\n",
       "</style>\n",
       "<table border=\"1\" class=\"dataframe\">\n",
       "  <thead>\n",
       "    <tr style=\"text-align: right;\">\n",
       "      <th></th>\n",
       "      <th>car_name</th>\n",
       "      <th>car_prices_in_rupee</th>\n",
       "      <th>kms_driven</th>\n",
       "      <th>fuel_type</th>\n",
       "      <th>transmission</th>\n",
       "      <th>ownership</th>\n",
       "      <th>manufacture</th>\n",
       "      <th>engine</th>\n",
       "      <th>Seats</th>\n",
       "      <th>company_name</th>\n",
       "    </tr>\n",
       "  </thead>\n",
       "  <tbody>\n",
       "    <tr>\n",
       "      <th>0</th>\n",
       "      <td>2.0 Longitude Option BSIV</td>\n",
       "      <td>10.03 Lakh</td>\n",
       "      <td>86,226 kms</td>\n",
       "      <td>Diesel</td>\n",
       "      <td>Manual</td>\n",
       "      <td>1st Owner</td>\n",
       "      <td>January 15,2017</td>\n",
       "      <td>1956 cc</td>\n",
       "      <td>5 Seats</td>\n",
       "      <td>Jeep</td>\n",
       "    </tr>\n",
       "    <tr>\n",
       "      <th>2</th>\n",
       "      <td>2.5 G</td>\n",
       "      <td>16.4</td>\n",
       "      <td>60,343 kms</td>\n",
       "      <td>Petrol</td>\n",
       "      <td>Automatic</td>\n",
       "      <td>1st Owner</td>\n",
       "      <td>January 15,2019</td>\n",
       "      <td>2494 cc</td>\n",
       "      <td>5 Seats</td>\n",
       "      <td>Toyota</td>\n",
       "    </tr>\n",
       "    <tr>\n",
       "      <th>3</th>\n",
       "      <td>VX CVT</td>\n",
       "      <td>16.40 Crore</td>\n",
       "      <td>26,696 kms</td>\n",
       "      <td>Petrol</td>\n",
       "      <td>Automatic</td>\n",
       "      <td>1st Owner</td>\n",
       "      <td>March 15,2020</td>\n",
       "      <td>1199 cc</td>\n",
       "      <td>5 Seats</td>\n",
       "      <td>Honda</td>\n",
       "    </tr>\n",
       "    <tr>\n",
       "      <th>4</th>\n",
       "      <td>W6</td>\n",
       "      <td>35000</td>\n",
       "      <td>65,000 kms</td>\n",
       "      <td>Diesel</td>\n",
       "      <td>Automatic</td>\n",
       "      <td>2nd Owner</td>\n",
       "      <td>January 15,2020</td>\n",
       "      <td>2000 cc</td>\n",
       "      <td>2 Seats</td>\n",
       "      <td>Mahindra</td>\n",
       "    </tr>\n",
       "  </tbody>\n",
       "</table>\n",
       "</div>"
      ],
      "text/plain": [
       "                    car_name car_prices_in_rupee  kms_driven fuel_type  \\\n",
       "0  2.0 Longitude Option BSIV          10.03 Lakh  86,226 kms    Diesel   \n",
       "2                      2.5 G                16.4  60,343 kms    Petrol   \n",
       "3                     VX CVT         16.40 Crore  26,696 kms    Petrol   \n",
       "4                         W6               35000  65,000 kms    Diesel   \n",
       "\n",
       "  transmission  ownership      manufacture   engine    Seats company_name  \n",
       "0       Manual  1st Owner  January 15,2017  1956 cc  5 Seats         Jeep  \n",
       "2    Automatic  1st Owner  January 15,2019  2494 cc  5 Seats       Toyota  \n",
       "3    Automatic  1st Owner    March 15,2020  1199 cc  5 Seats        Honda  \n",
       "4    Automatic  2nd Owner  January 15,2020  2000 cc  2 Seats     Mahindra  "
      ]
     },
     "execution_count": 106,
     "metadata": {},
     "output_type": "execute_result"
    }
   ],
   "source": [
    "dataset"
   ]
  },
  {
   "cell_type": "code",
   "execution_count": 107,
   "id": "63dff95b-670c-4155-a0dd-3562081ba9d7",
   "metadata": {},
   "outputs": [
    {
     "data": {
      "text/plain": [
       "1639999999.9999998"
      ]
     },
     "execution_count": 107,
     "metadata": {},
     "output_type": "execute_result"
    }
   ],
   "source": [
    "# 16.40 crore --> 16.40* 100000000\n",
    "16.40* 100000000\n",
    "\n",
    "# [\"16.40\", \"Crore\"] ekhane 0 index = 16.40-->p[0]   And Crore hocce = 1 index -->p[1]\n",
    "# [\"10.03\", \"Lakh\"] ekhane 0 index = 10.03-->p[0]  And Lakh hocce = 1 index -->p[1]"
   ]
  },
  {
   "cell_type": "code",
   "execution_count": 108,
   "id": "aa28ae78-865b-4799-81c9-5a0cd095bb6b",
   "metadata": {},
   "outputs": [
    {
     "data": {
      "text/plain": [
       "['10.03', 'Lakh']"
      ]
     },
     "execution_count": 108,
     "metadata": {},
     "output_type": "execute_result"
    }
   ],
   "source": [
    "# The steps that i am going to do is--> Step: 1\n",
    "l= \"10.03 Lakh\"\n",
    "a = l.split(\" \")\n",
    "a # Now I will find the Data in the list"
   ]
  },
  {
   "cell_type": "code",
   "execution_count": 109,
   "id": "883c16ea-c4e0-485c-bd15-9043d70b8329",
   "metadata": {},
   "outputs": [
    {
     "data": {
      "text/plain": [
       "'10.03'"
      ]
     },
     "execution_count": 109,
     "metadata": {},
     "output_type": "execute_result"
    }
   ],
   "source": [
    "# Working with 28.90 or index = zero --> step: 2\n",
    "l= \"10.03 Lakh\"\n",
    "a = l.split(\" \")\n",
    "a[0]"
   ]
  },
  {
   "cell_type": "code",
   "execution_count": 110,
   "id": "9962d78d-2bc2-44a0-b8d1-9de64504815d",
   "metadata": {},
   "outputs": [
    {
     "data": {
      "text/plain": [
       "1002999.9999999999"
      ]
     },
     "execution_count": 110,
     "metadata": {},
     "output_type": "execute_result"
    }
   ],
   "source": [
    "# Now I Will Multiply this value 28.9 by 100000 -> so that I find the Number in thousands --> step: 4\n",
    "l= \"10.03 Lakh\"\n",
    "a = l.split(\" \")\n",
    "float(a[0])*100000"
   ]
  },
  {
   "cell_type": "code",
   "execution_count": 111,
   "id": "0f68d7d8-9512-42b5-ad04-ba0f85d2a5a5",
   "metadata": {},
   "outputs": [
    {
     "data": {
      "text/plain": [
       "1003000.0"
      ]
     },
     "execution_count": 111,
     "metadata": {},
     "output_type": "execute_result"
    }
   ],
   "source": [
    "# If any round value, to reduce that mistake we will use the Round function --> step: 5\n",
    "#Such that round(3.14159, 2) rounds the number to two decimal places, resulting in 3.14.\n",
    "l= \"10.03 Lakh\"\n",
    "a = l.split(\" \")\n",
    "round(float(a[0])*100000,1)"
   ]
  },
  {
   "cell_type": "markdown",
   "id": "c91d08d6-a8a2-4246-8c3e-a5b2ff12446e",
   "metadata": {},
   "source": [
    "                                       -->>>>>>># Step: 1 To Step: 5 in Coding style #<<<<--------------"
   ]
  },
  {
   "cell_type": "code",
   "execution_count": 112,
   "id": "71ead8c6-78c7-40b9-8b0a-db0c9d324576",
   "metadata": {},
   "outputs": [],
   "source": [
    "# To Create this Function And -> pura process jeta hocce sheta String Format e convert kore again insert korteci \n",
    "\n",
    "#try and except: Handles unexpected errors (like missing or malformed input) and prevents your program from crashing.\n",
    "#else: Provides an alternative path if none of the if or elif conditions are met, but it does not handle errors.\n",
    "\n",
    "\n",
    "def rupe_change(x):\n",
    "    p = x.split(\" \")\n",
    "    try:\n",
    "        if p[1] == \"Lakh\":\n",
    "            return str(round(float(p[0]) * 100000, 1))\n",
    "        elif p[1] == \"Crore\":\n",
    "            return str(round(float(p[0]) * 10000000, 1))\n",
    "    except:\n",
    "        return x\n"
   ]
  },
  {
   "cell_type": "code",
   "execution_count": 113,
   "id": "5a033094-6414-4cd8-95b1-4cc08b21e83b",
   "metadata": {},
   "outputs": [
    {
     "data": {
      "text/plain": [
       "0      1003000.0\n",
       "2           16.4\n",
       "3    164000000.0\n",
       "4          35000\n",
       "Name: car_prices_in_rupee, dtype: object"
      ]
     },
     "execution_count": 113,
     "metadata": {},
     "output_type": "execute_result"
    }
   ],
   "source": [
    "dataset[\"car_prices_in_rupee\"].apply(rupe_change)"
   ]
  },
  {
   "cell_type": "code",
   "execution_count": 114,
   "id": "d4e28569-43ab-49a5-896b-3df25a17246d",
   "metadata": {},
   "outputs": [
    {
     "name": "stderr",
     "output_type": "stream",
     "text": [
      "C:\\Users\\hirak\\AppData\\Local\\Temp\\ipykernel_20060\\1316675269.py:2: SettingWithCopyWarning: \n",
      "A value is trying to be set on a copy of a slice from a DataFrame.\n",
      "Try using .loc[row_indexer,col_indexer] = value instead\n",
      "\n",
      "See the caveats in the documentation: https://pandas.pydata.org/pandas-docs/stable/user_guide/indexing.html#returning-a-view-versus-a-copy\n",
      "  dataset[\"car_prices_in_rupee\"] =dataset[\"car_prices_in_rupee\"].apply(rupe_change)\n"
     ]
    }
   ],
   "source": [
    "# To check the conversion type\n",
    "dataset[\"car_prices_in_rupee\"] =dataset[\"car_prices_in_rupee\"].apply(rupe_change)"
   ]
  },
  {
   "cell_type": "raw",
   "id": "59e56aa9-2304-40b7-b9f4-94ed637f17fd",
   "metadata": {},
   "source": [
    "The above eror is ocured bczzz...\n",
    "\n",
    "->The warning you're encountering, SettingWithCopyWarning, occurs in pandas when you try to modify a subset of a DataFrame that was \n",
    "created by filtering or slicing.This warning is raised to alert you that the operation might not affect the original DataFrame but rather a copy,\n",
    "leading to unexpected behavior.\n",
    "\n",
    "How to Fix It==>>\n",
    "To ensure that you're modifying the original DataFrame and avoid the warning,\n",
    "use .loc[] to explicitly specify the part of the DataFrame you want to modify:\n",
    "\n",
    "dataset.loc[:, \"car_name\"] = dataset[\"car_name\"].apply(car_name)"
   ]
  },
  {
   "cell_type": "code",
   "execution_count": 115,
   "id": "672d4e66-cc8d-4ade-9556-e26e525fc994",
   "metadata": {},
   "outputs": [],
   "source": [
    "# To check the conversion type\n",
    "dataset.loc[:,\"car_prices_in_rupee\"] =dataset[\"car_prices_in_rupee\"].apply(rupe_change)"
   ]
  },
  {
   "cell_type": "code",
   "execution_count": 116,
   "id": "db2c22c4-0aac-44d3-9994-3406865ace1d",
   "metadata": {},
   "outputs": [
    {
     "name": "stdout",
     "output_type": "stream",
     "text": [
      "<class 'pandas.core.frame.DataFrame'>\n",
      "Index: 4 entries, 0 to 4\n",
      "Data columns (total 10 columns):\n",
      " #   Column               Non-Null Count  Dtype \n",
      "---  ------               --------------  ----- \n",
      " 0   car_name             4 non-null      object\n",
      " 1   car_prices_in_rupee  4 non-null      object\n",
      " 2   kms_driven           4 non-null      object\n",
      " 3   fuel_type            4 non-null      object\n",
      " 4   transmission         4 non-null      object\n",
      " 5   ownership            4 non-null      object\n",
      " 6   manufacture          4 non-null      object\n",
      " 7   engine               4 non-null      object\n",
      " 8   Seats                4 non-null      object\n",
      " 9   company_name         4 non-null      object\n",
      "dtypes: object(10)\n",
      "memory usage: 524.0+ bytes\n"
     ]
    }
   ],
   "source": [
    "dataset.info()"
   ]
  },
  {
   "cell_type": "code",
   "execution_count": 117,
   "id": "e3bf7937-0a05-40cd-95eb-38269b29e367",
   "metadata": {},
   "outputs": [
    {
     "data": {
      "text/plain": [
       "0      1003000.0\n",
       "2           16.4\n",
       "3    164000000.0\n",
       "4        35000.0\n",
       "Name: car_prices_in_rupee, dtype: float64"
      ]
     },
     "execution_count": 117,
     "metadata": {},
     "output_type": "execute_result"
    }
   ],
   "source": [
    "# In the above section I see, the car_price_in_rupee is still in Object Form  \n",
    "# So let's Convert this into float Value \n",
    "\n",
    "dataset[\"car_prices_in_rupee\"].astype(\"float\") # Now it is converted into floating Value\n"
   ]
  },
  {
   "cell_type": "code",
   "execution_count": 118,
   "id": "e4fad95a-b01f-4722-a3c9-b862d6a32e6a",
   "metadata": {},
   "outputs": [
    {
     "name": "stderr",
     "output_type": "stream",
     "text": [
      "C:\\Users\\hirak\\AppData\\Local\\Temp\\ipykernel_20060\\3851568327.py:2: SettingWithCopyWarning: \n",
      "A value is trying to be set on a copy of a slice from a DataFrame.\n",
      "Try using .loc[row_indexer,col_indexer] = value instead\n",
      "\n",
      "See the caveats in the documentation: https://pandas.pydata.org/pandas-docs/stable/user_guide/indexing.html#returning-a-view-versus-a-copy\n",
      "  dataset[\"car_prices_in_rupee\"]=dataset[\"car_prices_in_rupee\"].astype(\"float64\") # Now it is converted into floating Value\n"
     ]
    }
   ],
   "source": [
    "#Now loading this into the Dataset\n",
    "dataset[\"car_prices_in_rupee\"]=dataset[\"car_prices_in_rupee\"].astype(\"float64\") # Now it is converted into floating Value"
   ]
  },
  {
   "cell_type": "raw",
   "id": "f85c10d4-5fb2-4ccf-bf91-3d6659eb5deb",
   "metadata": {},
   "source": [
    "The above eror is ocured bczzz...\n",
    "\n",
    "->The warning you're encountering, SettingWithCopyWarning, occurs in pandas when you try to modify a subset of a DataFrame that was \n",
    "created by filtering or slicing.This warning is raised to alert you that the operation might not affect the original DataFrame but rather a copy,\n",
    "leading to unexpected behavior.\n",
    "\n",
    "How to Fix It==>>\n",
    "To ensure that you're modifying the original DataFrame and avoid the warning,\n",
    "use .loc[] to explicitly specify the part of the DataFrame you want to modify:\n",
    "\n",
    "dataset.loc[:, \"car_prices_in_rupee\"] = dataset[\"car_prices_in_rupee\"].astype(\"float64\")"
   ]
  },
  {
   "cell_type": "code",
   "execution_count": 119,
   "id": "d36b5ae4-3f2a-4e7c-8334-7bf529dafe3c",
   "metadata": {},
   "outputs": [],
   "source": [
    "#here is solved the error \n",
    "dataset.loc[:, \"car_prices_in_rupee\"] = dataset[\"car_prices_in_rupee\"].astype(\"float64\")"
   ]
  },
  {
   "cell_type": "code",
   "execution_count": 120,
   "id": "151239b8-7b62-4e2f-95a2-4a2849c4db7f",
   "metadata": {},
   "outputs": [
    {
     "data": {
      "text/html": [
       "<div>\n",
       "<style scoped>\n",
       "    .dataframe tbody tr th:only-of-type {\n",
       "        vertical-align: middle;\n",
       "    }\n",
       "\n",
       "    .dataframe tbody tr th {\n",
       "        vertical-align: top;\n",
       "    }\n",
       "\n",
       "    .dataframe thead th {\n",
       "        text-align: right;\n",
       "    }\n",
       "</style>\n",
       "<table border=\"1\" class=\"dataframe\">\n",
       "  <thead>\n",
       "    <tr style=\"text-align: right;\">\n",
       "      <th></th>\n",
       "      <th>car_name</th>\n",
       "      <th>car_prices_in_rupee</th>\n",
       "      <th>kms_driven</th>\n",
       "      <th>fuel_type</th>\n",
       "      <th>transmission</th>\n",
       "      <th>ownership</th>\n",
       "      <th>manufacture</th>\n",
       "      <th>engine</th>\n",
       "      <th>Seats</th>\n",
       "      <th>company_name</th>\n",
       "    </tr>\n",
       "  </thead>\n",
       "  <tbody>\n",
       "    <tr>\n",
       "      <th>0</th>\n",
       "      <td>2.0 Longitude Option BSIV</td>\n",
       "      <td>1003000.0</td>\n",
       "      <td>86,226 kms</td>\n",
       "      <td>Diesel</td>\n",
       "      <td>Manual</td>\n",
       "      <td>1st Owner</td>\n",
       "      <td>January 15,2017</td>\n",
       "      <td>1956 cc</td>\n",
       "      <td>5 Seats</td>\n",
       "      <td>Jeep</td>\n",
       "    </tr>\n",
       "    <tr>\n",
       "      <th>2</th>\n",
       "      <td>2.5 G</td>\n",
       "      <td>16.4</td>\n",
       "      <td>60,343 kms</td>\n",
       "      <td>Petrol</td>\n",
       "      <td>Automatic</td>\n",
       "      <td>1st Owner</td>\n",
       "      <td>January 15,2019</td>\n",
       "      <td>2494 cc</td>\n",
       "      <td>5 Seats</td>\n",
       "      <td>Toyota</td>\n",
       "    </tr>\n",
       "    <tr>\n",
       "      <th>3</th>\n",
       "      <td>VX CVT</td>\n",
       "      <td>164000000.0</td>\n",
       "      <td>26,696 kms</td>\n",
       "      <td>Petrol</td>\n",
       "      <td>Automatic</td>\n",
       "      <td>1st Owner</td>\n",
       "      <td>March 15,2020</td>\n",
       "      <td>1199 cc</td>\n",
       "      <td>5 Seats</td>\n",
       "      <td>Honda</td>\n",
       "    </tr>\n",
       "    <tr>\n",
       "      <th>4</th>\n",
       "      <td>W6</td>\n",
       "      <td>35000.0</td>\n",
       "      <td>65,000 kms</td>\n",
       "      <td>Diesel</td>\n",
       "      <td>Automatic</td>\n",
       "      <td>2nd Owner</td>\n",
       "      <td>January 15,2020</td>\n",
       "      <td>2000 cc</td>\n",
       "      <td>2 Seats</td>\n",
       "      <td>Mahindra</td>\n",
       "    </tr>\n",
       "  </tbody>\n",
       "</table>\n",
       "</div>"
      ],
      "text/plain": [
       "                    car_name  car_prices_in_rupee  kms_driven fuel_type  \\\n",
       "0  2.0 Longitude Option BSIV            1003000.0  86,226 kms    Diesel   \n",
       "2                      2.5 G                 16.4  60,343 kms    Petrol   \n",
       "3                     VX CVT          164000000.0  26,696 kms    Petrol   \n",
       "4                         W6              35000.0  65,000 kms    Diesel   \n",
       "\n",
       "  transmission  ownership      manufacture   engine    Seats company_name  \n",
       "0       Manual  1st Owner  January 15,2017  1956 cc  5 Seats         Jeep  \n",
       "2    Automatic  1st Owner  January 15,2019  2494 cc  5 Seats       Toyota  \n",
       "3    Automatic  1st Owner    March 15,2020  1199 cc  5 Seats        Honda  \n",
       "4    Automatic  2nd Owner  January 15,2020  2000 cc  2 Seats     Mahindra  "
      ]
     },
     "execution_count": 120,
     "metadata": {},
     "output_type": "execute_result"
    }
   ],
   "source": [
    "dataset"
   ]
  },
  {
   "cell_type": "markdown",
   "id": "e9fc5b91-981b-4195-9caa-40ee69549916",
   "metadata": {},
   "source": [
    "### Kms_driveen"
   ]
  },
  {
   "cell_type": "code",
   "execution_count": 121,
   "id": "1c6cbc8f-6aff-469b-88fb-edb1b9f3f5b4",
   "metadata": {},
   "outputs": [
    {
     "data": {
      "text/plain": [
       "0    86,226 kms\n",
       "2    60,343 kms\n",
       "3    26,696 kms\n",
       "4    65,000 kms\n",
       "Name: kms_driven, dtype: object"
      ]
     },
     "execution_count": 121,
     "metadata": {},
     "output_type": "execute_result"
    }
   ],
   "source": [
    "# I Have to remove the coma here and Kms As well , simplify problem only \n",
    "dataset[\"kms_driven\"]"
   ]
  },
  {
   "cell_type": "code",
   "execution_count": 122,
   "id": "b3394676-0524-4de7-bf7c-6caf49d3eb8f",
   "metadata": {},
   "outputs": [
    {
     "name": "stderr",
     "output_type": "stream",
     "text": [
      "C:\\Users\\hirak\\AppData\\Local\\Temp\\ipykernel_20060\\651834355.py:2: SettingWithCopyWarning: \n",
      "A value is trying to be set on a copy of a slice from a DataFrame.\n",
      "Try using .loc[row_indexer,col_indexer] = value instead\n",
      "\n",
      "See the caveats in the documentation: https://pandas.pydata.org/pandas-docs/stable/user_guide/indexing.html#returning-a-view-versus-a-copy\n",
      "  dataset[\"kms_driven\"] = dataset[\"kms_driven\"].str.replace(\",\",\"\")\n"
     ]
    }
   ],
   "source": [
    "# Remove the coma first ---> using [str] and [replace]\n",
    "dataset[\"kms_driven\"] = dataset[\"kms_driven\"].str.replace(\",\",\"\")"
   ]
  },
  {
   "cell_type": "raw",
   "id": "88c687d7-ff87-4143-b61c-5971cab069e7",
   "metadata": {},
   "source": [
    "The above eror is ocured bczzz...\n",
    "\n",
    "->The warning you're encountering, SettingWithCopyWarning, occurs in pandas when you try to modify a subset of a DataFrame that was \n",
    "created by filtering or slicing.This warning is raised to alert you that the operation might not affect the original DataFrame but rather a copy,\n",
    "leading to unexpected behavior.\n",
    "\n",
    "How to Fix It==>>\n",
    "To ensure that you're modifying the original DataFrame and avoid the warning,\n",
    "use .loc[] to explicitly specify the part of the DataFrame you want to modify:\n",
    "\n",
    "dataset.loc[:, \"kms_driven\"] = dataset[\"kms_driven\"].str.replace(\",\",\"\")"
   ]
  },
  {
   "cell_type": "code",
   "execution_count": 123,
   "id": "492f8c89-9afd-4460-9074-8f9514fe6210",
   "metadata": {},
   "outputs": [],
   "source": [
    "# here is the error is solved\n",
    "dataset.loc[:, \"kms_driven\"] = dataset[\"kms_driven\"].str.replace(\",\",\"\")"
   ]
  },
  {
   "cell_type": "code",
   "execution_count": 124,
   "id": "c8369383-b352-4ea5-af7e-800a4c03bfe0",
   "metadata": {},
   "outputs": [
    {
     "name": "stderr",
     "output_type": "stream",
     "text": [
      "C:\\Users\\hirak\\AppData\\Local\\Temp\\ipykernel_20060\\358403156.py:2: SettingWithCopyWarning: \n",
      "A value is trying to be set on a copy of a slice from a DataFrame.\n",
      "Try using .loc[row_indexer,col_indexer] = value instead\n",
      "\n",
      "See the caveats in the documentation: https://pandas.pydata.org/pandas-docs/stable/user_guide/indexing.html#returning-a-view-versus-a-copy\n",
      "  dataset[\"kms_driven\"] = dataset[\"kms_driven\"].str.replace(\" kms\",\"\")\n"
     ]
    }
   ],
   "source": [
    "# Remove the sapce with kms first --> using [str] and [replace]\n",
    "dataset[\"kms_driven\"] = dataset[\"kms_driven\"].str.replace(\" kms\",\"\")"
   ]
  },
  {
   "cell_type": "raw",
   "id": "d026820f-9af7-4ce2-9b86-8bc86e57693f",
   "metadata": {},
   "source": [
    "The above eror is ocured bczzz...\n",
    "\n",
    "->The warning you're encountering, SettingWithCopyWarning, occurs in pandas when you try to modify a subset of a DataFrame that was \n",
    "created by filtering or slicing.This warning is raised to alert you that the operation might not affect the original DataFrame but rather a copy,\n",
    "leading to unexpected behavior.\n",
    "\n",
    "How to Fix It==>>\n",
    "To ensure that you're modifying the original DataFrame and avoid the warning,\n",
    "use .loc[] to explicitly specify the part of the DataFrame you want to modify:\n",
    "\n",
    "dataset.loc[:, \"kms_driven\"] = dataset[\"kms_driven\"].str.replace(\" kms\",\"\")"
   ]
  },
  {
   "cell_type": "code",
   "execution_count": 125,
   "id": "bfef14dd-cc1f-4f24-b941-f9624293c80c",
   "metadata": {},
   "outputs": [],
   "source": [
    "# here is the error is solved\n",
    "dataset.loc[:, \"kms_driven\"] = dataset[\"kms_driven\"].str.replace(\" kms\",\"\")"
   ]
  },
  {
   "cell_type": "code",
   "execution_count": 126,
   "id": "25d9b1e9-e269-4a9a-ac78-908752455eb7",
   "metadata": {},
   "outputs": [
    {
     "data": {
      "text/plain": [
       "0    86226\n",
       "2    60343\n",
       "3    26696\n",
       "4    65000\n",
       "Name: kms_driven, dtype: object"
      ]
     },
     "execution_count": 126,
     "metadata": {},
     "output_type": "execute_result"
    }
   ],
   "source": [
    "dataset['kms_driven'] # But it is Object from Data or String type Data"
   ]
  },
  {
   "cell_type": "code",
   "execution_count": 127,
   "id": "35d88db9-165f-4321-8e10-40ba9d090340",
   "metadata": {},
   "outputs": [
    {
     "data": {
      "text/plain": [
       "0    86226\n",
       "2    60343\n",
       "3    26696\n",
       "4    65000\n",
       "Name: kms_driven, dtype: int64"
      ]
     },
     "execution_count": 127,
     "metadata": {},
     "output_type": "execute_result"
    }
   ],
   "source": [
    "# Dat convert this object form to Integer Type Data\n",
    "dataset['kms_driven'].astype(\"int64\")"
   ]
  },
  {
   "cell_type": "code",
   "execution_count": 128,
   "id": "5cd461cb-2156-427b-8ecd-12110a03c0b3",
   "metadata": {},
   "outputs": [
    {
     "name": "stderr",
     "output_type": "stream",
     "text": [
      "C:\\Users\\hirak\\AppData\\Local\\Temp\\ipykernel_20060\\3812278928.py:2: SettingWithCopyWarning: \n",
      "A value is trying to be set on a copy of a slice from a DataFrame.\n",
      "Try using .loc[row_indexer,col_indexer] = value instead\n",
      "\n",
      "See the caveats in the documentation: https://pandas.pydata.org/pandas-docs/stable/user_guide/indexing.html#returning-a-view-versus-a-copy\n",
      "  dataset[\"kms_driven\"]=dataset['kms_driven'].astype(\"int64\")\n"
     ]
    }
   ],
   "source": [
    "#Now loading this into the Dataset\n",
    "dataset[\"kms_driven\"]=dataset['kms_driven'].astype(\"int64\")"
   ]
  },
  {
   "cell_type": "raw",
   "id": "9990229f-aab1-46bb-9566-601b36f56bfe",
   "metadata": {},
   "source": [
    "The above eror is ocured bczzz...\n",
    "\n",
    "->The warning you're encountering, SettingWithCopyWarning, occurs in pandas when you try to modify a subset of a DataFrame that was \n",
    "created by filtering or slicing.This warning is raised to alert you that the operation might not affect the original DataFrame but rather a copy,\n",
    "leading to unexpected behavior.\n",
    "\n",
    "How to Fix It==>>\n",
    "To ensure that you're modifying the original DataFrame and avoid the warning,\n",
    "use .loc[] to explicitly specify the part of the DataFrame you want to modify:\n",
    "\n",
    "dataset.loc[:, \"kms_driven\"] = dataset[\"kms_driven\"].astype(\"int64\")"
   ]
  },
  {
   "cell_type": "code",
   "execution_count": 129,
   "id": "bc955e0b-2946-4d1f-8572-8f29899931a4",
   "metadata": {},
   "outputs": [],
   "source": [
    "#Here is the solved of this error \n",
    "dataset.loc[:, \"kms_driven\"] = dataset[\"kms_driven\"].astype(\"int64\")"
   ]
  },
  {
   "cell_type": "code",
   "execution_count": 130,
   "id": "239dde05-f3fb-4708-b165-f59478fea9a4",
   "metadata": {},
   "outputs": [
    {
     "data": {
      "text/html": [
       "<div>\n",
       "<style scoped>\n",
       "    .dataframe tbody tr th:only-of-type {\n",
       "        vertical-align: middle;\n",
       "    }\n",
       "\n",
       "    .dataframe tbody tr th {\n",
       "        vertical-align: top;\n",
       "    }\n",
       "\n",
       "    .dataframe thead th {\n",
       "        text-align: right;\n",
       "    }\n",
       "</style>\n",
       "<table border=\"1\" class=\"dataframe\">\n",
       "  <thead>\n",
       "    <tr style=\"text-align: right;\">\n",
       "      <th></th>\n",
       "      <th>car_name</th>\n",
       "      <th>car_prices_in_rupee</th>\n",
       "      <th>kms_driven</th>\n",
       "      <th>fuel_type</th>\n",
       "      <th>transmission</th>\n",
       "      <th>ownership</th>\n",
       "      <th>manufacture</th>\n",
       "      <th>engine</th>\n",
       "      <th>Seats</th>\n",
       "      <th>company_name</th>\n",
       "    </tr>\n",
       "  </thead>\n",
       "  <tbody>\n",
       "    <tr>\n",
       "      <th>0</th>\n",
       "      <td>2.0 Longitude Option BSIV</td>\n",
       "      <td>1003000.0</td>\n",
       "      <td>86226</td>\n",
       "      <td>Diesel</td>\n",
       "      <td>Manual</td>\n",
       "      <td>1st Owner</td>\n",
       "      <td>January 15,2017</td>\n",
       "      <td>1956 cc</td>\n",
       "      <td>5 Seats</td>\n",
       "      <td>Jeep</td>\n",
       "    </tr>\n",
       "    <tr>\n",
       "      <th>2</th>\n",
       "      <td>2.5 G</td>\n",
       "      <td>16.4</td>\n",
       "      <td>60343</td>\n",
       "      <td>Petrol</td>\n",
       "      <td>Automatic</td>\n",
       "      <td>1st Owner</td>\n",
       "      <td>January 15,2019</td>\n",
       "      <td>2494 cc</td>\n",
       "      <td>5 Seats</td>\n",
       "      <td>Toyota</td>\n",
       "    </tr>\n",
       "    <tr>\n",
       "      <th>3</th>\n",
       "      <td>VX CVT</td>\n",
       "      <td>164000000.0</td>\n",
       "      <td>26696</td>\n",
       "      <td>Petrol</td>\n",
       "      <td>Automatic</td>\n",
       "      <td>1st Owner</td>\n",
       "      <td>March 15,2020</td>\n",
       "      <td>1199 cc</td>\n",
       "      <td>5 Seats</td>\n",
       "      <td>Honda</td>\n",
       "    </tr>\n",
       "    <tr>\n",
       "      <th>4</th>\n",
       "      <td>W6</td>\n",
       "      <td>35000.0</td>\n",
       "      <td>65000</td>\n",
       "      <td>Diesel</td>\n",
       "      <td>Automatic</td>\n",
       "      <td>2nd Owner</td>\n",
       "      <td>January 15,2020</td>\n",
       "      <td>2000 cc</td>\n",
       "      <td>2 Seats</td>\n",
       "      <td>Mahindra</td>\n",
       "    </tr>\n",
       "  </tbody>\n",
       "</table>\n",
       "</div>"
      ],
      "text/plain": [
       "                    car_name  car_prices_in_rupee  kms_driven fuel_type  \\\n",
       "0  2.0 Longitude Option BSIV            1003000.0       86226    Diesel   \n",
       "2                      2.5 G                 16.4       60343    Petrol   \n",
       "3                     VX CVT          164000000.0       26696    Petrol   \n",
       "4                         W6              35000.0       65000    Diesel   \n",
       "\n",
       "  transmission  ownership      manufacture   engine    Seats company_name  \n",
       "0       Manual  1st Owner  January 15,2017  1956 cc  5 Seats         Jeep  \n",
       "2    Automatic  1st Owner  January 15,2019  2494 cc  5 Seats       Toyota  \n",
       "3    Automatic  1st Owner    March 15,2020  1199 cc  5 Seats        Honda  \n",
       "4    Automatic  2nd Owner  January 15,2020  2000 cc  2 Seats     Mahindra  "
      ]
     },
     "execution_count": 130,
     "metadata": {},
     "output_type": "execute_result"
    }
   ],
   "source": [
    "dataset"
   ]
  },
  {
   "cell_type": "markdown",
   "id": "7729b6a1-ae74-4505-b54a-66658dc6c6a6",
   "metadata": {},
   "source": [
    "### Fuel_Type"
   ]
  },
  {
   "cell_type": "raw",
   "id": "fef7556f-c54e-476a-affe-1a428fdcc23d",
   "metadata": {},
   "source": [
    "I will keep this  as it is ......."
   ]
  },
  {
   "cell_type": "markdown",
   "id": "3a701fa4-35ce-46ac-852b-dbed5132f195",
   "metadata": {},
   "source": [
    "### Transmissoin "
   ]
  },
  {
   "cell_type": "raw",
   "id": "f8ad1a9a-55ac-4cf1-9b6d-108add80bab1",
   "metadata": {},
   "source": [
    "I will keep this as it is........"
   ]
  },
  {
   "cell_type": "markdown",
   "id": "36cb863c-15f7-48bc-a57f-9da554d19068",
   "metadata": {},
   "source": [
    "### Ownership"
   ]
  },
  {
   "cell_type": "raw",
   "id": "827f09e7-0527-4753-bf8a-74f52ad29a54",
   "metadata": {},
   "source": [
    "I will keep this as it  but i will have to encode this in 1st order , 2nd order ..But will do it next time ..."
   ]
  },
  {
   "cell_type": "markdown",
   "id": "de7f6a12-ecfe-4dd0-8e0b-a95cd9c1a243",
   "metadata": {},
   "source": [
    "### Engine "
   ]
  },
  {
   "cell_type": "code",
   "execution_count": 132,
   "id": "19e0519d-de9d-41f3-ad82-5ea6b8067c82",
   "metadata": {},
   "outputs": [
    {
     "data": {
      "text/plain": [
       "0    1956 cc\n",
       "2    2494 cc\n",
       "3    1199 cc\n",
       "4    2000 cc\n",
       "Name: engine, dtype: object"
      ]
     },
     "execution_count": 132,
     "metadata": {},
     "output_type": "execute_result"
    }
   ],
   "source": [
    "# i have to remove the cc \n",
    "dataset[\"engine\"]"
   ]
  },
  {
   "cell_type": "code",
   "execution_count": 133,
   "id": "9571bf8f-7107-477c-85ea-25c48f91625f",
   "metadata": {},
   "outputs": [
    {
     "name": "stderr",
     "output_type": "stream",
     "text": [
      "C:\\Users\\hirak\\AppData\\Local\\Temp\\ipykernel_20060\\1946167548.py:2: SettingWithCopyWarning: \n",
      "A value is trying to be set on a copy of a slice from a DataFrame.\n",
      "Try using .loc[row_indexer,col_indexer] = value instead\n",
      "\n",
      "See the caveats in the documentation: https://pandas.pydata.org/pandas-docs/stable/user_guide/indexing.html#returning-a-view-versus-a-copy\n",
      "  dataset[\"engine\"] = dataset[\"engine\"].str.replace(\" cc\",\"\")\n"
     ]
    }
   ],
   "source": [
    "# Remove the sapce with cc first --> using [str] and [replace]\n",
    "dataset[\"engine\"] = dataset[\"engine\"].str.replace(\" cc\",\"\")"
   ]
  },
  {
   "cell_type": "raw",
   "id": "38475f15-2ad7-4ff6-8f07-d6aa379059ba",
   "metadata": {},
   "source": [
    "The above eror is ocured bczzz...\n",
    "\n",
    "->The warning you're encountering, SettingWithCopyWarning, occurs in pandas when you try to modify a subset of a DataFrame that was \n",
    "created by filtering or slicing.This warning is raised to alert you that the operation might not affect the original DataFrame but rather a copy,\n",
    "leading to unexpected behavior.\n",
    "\n",
    "How to Fix It==>>\n",
    "To ensure that you're modifying the original DataFrame and avoid the warning,\n",
    "use .loc[] to explicitly specify the part of the DataFrame you want to modify:\n",
    "\n",
    "dataset.loc[:, \"engine\"] = dataset[\"engine\"].str.replace(\" cc\",\"\")"
   ]
  },
  {
   "cell_type": "code",
   "execution_count": 134,
   "id": "d5dc8c2e-9e8a-413e-a740-38e7a5b3d210",
   "metadata": {},
   "outputs": [],
   "source": [
    "# Here is the solved of this error \n",
    "dataset.loc[:, \"engine\"] = dataset[\"engine\"].str.replace(\" cc\",\"\")"
   ]
  },
  {
   "cell_type": "code",
   "execution_count": 135,
   "id": "49115d28-5c30-43f7-a16a-aa9f4f5966a4",
   "metadata": {},
   "outputs": [
    {
     "data": {
      "text/html": [
       "<div>\n",
       "<style scoped>\n",
       "    .dataframe tbody tr th:only-of-type {\n",
       "        vertical-align: middle;\n",
       "    }\n",
       "\n",
       "    .dataframe tbody tr th {\n",
       "        vertical-align: top;\n",
       "    }\n",
       "\n",
       "    .dataframe thead th {\n",
       "        text-align: right;\n",
       "    }\n",
       "</style>\n",
       "<table border=\"1\" class=\"dataframe\">\n",
       "  <thead>\n",
       "    <tr style=\"text-align: right;\">\n",
       "      <th></th>\n",
       "      <th>car_name</th>\n",
       "      <th>car_prices_in_rupee</th>\n",
       "      <th>kms_driven</th>\n",
       "      <th>fuel_type</th>\n",
       "      <th>transmission</th>\n",
       "      <th>ownership</th>\n",
       "      <th>manufacture</th>\n",
       "      <th>engine</th>\n",
       "      <th>Seats</th>\n",
       "      <th>company_name</th>\n",
       "    </tr>\n",
       "  </thead>\n",
       "  <tbody>\n",
       "    <tr>\n",
       "      <th>0</th>\n",
       "      <td>2.0 Longitude Option BSIV</td>\n",
       "      <td>1003000.0</td>\n",
       "      <td>86226</td>\n",
       "      <td>Diesel</td>\n",
       "      <td>Manual</td>\n",
       "      <td>1st Owner</td>\n",
       "      <td>January 15,2017</td>\n",
       "      <td>1956</td>\n",
       "      <td>5 Seats</td>\n",
       "      <td>Jeep</td>\n",
       "    </tr>\n",
       "    <tr>\n",
       "      <th>2</th>\n",
       "      <td>2.5 G</td>\n",
       "      <td>16.4</td>\n",
       "      <td>60343</td>\n",
       "      <td>Petrol</td>\n",
       "      <td>Automatic</td>\n",
       "      <td>1st Owner</td>\n",
       "      <td>January 15,2019</td>\n",
       "      <td>2494</td>\n",
       "      <td>5 Seats</td>\n",
       "      <td>Toyota</td>\n",
       "    </tr>\n",
       "    <tr>\n",
       "      <th>3</th>\n",
       "      <td>VX CVT</td>\n",
       "      <td>164000000.0</td>\n",
       "      <td>26696</td>\n",
       "      <td>Petrol</td>\n",
       "      <td>Automatic</td>\n",
       "      <td>1st Owner</td>\n",
       "      <td>March 15,2020</td>\n",
       "      <td>1199</td>\n",
       "      <td>5 Seats</td>\n",
       "      <td>Honda</td>\n",
       "    </tr>\n",
       "    <tr>\n",
       "      <th>4</th>\n",
       "      <td>W6</td>\n",
       "      <td>35000.0</td>\n",
       "      <td>65000</td>\n",
       "      <td>Diesel</td>\n",
       "      <td>Automatic</td>\n",
       "      <td>2nd Owner</td>\n",
       "      <td>January 15,2020</td>\n",
       "      <td>2000</td>\n",
       "      <td>2 Seats</td>\n",
       "      <td>Mahindra</td>\n",
       "    </tr>\n",
       "  </tbody>\n",
       "</table>\n",
       "</div>"
      ],
      "text/plain": [
       "                    car_name  car_prices_in_rupee  kms_driven fuel_type  \\\n",
       "0  2.0 Longitude Option BSIV            1003000.0       86226    Diesel   \n",
       "2                      2.5 G                 16.4       60343    Petrol   \n",
       "3                     VX CVT          164000000.0       26696    Petrol   \n",
       "4                         W6              35000.0       65000    Diesel   \n",
       "\n",
       "  transmission  ownership      manufacture engine    Seats company_name  \n",
       "0       Manual  1st Owner  January 15,2017   1956  5 Seats         Jeep  \n",
       "2    Automatic  1st Owner  January 15,2019   2494  5 Seats       Toyota  \n",
       "3    Automatic  1st Owner    March 15,2020   1199  5 Seats        Honda  \n",
       "4    Automatic  2nd Owner  January 15,2020   2000  2 Seats     Mahindra  "
      ]
     },
     "execution_count": 135,
     "metadata": {},
     "output_type": "execute_result"
    }
   ],
   "source": [
    "dataset"
   ]
  },
  {
   "cell_type": "markdown",
   "id": "8ae4443f-c057-4a7a-b03a-eeb386af7ab2",
   "metadata": {},
   "source": [
    "### Seats"
   ]
  },
  {
   "cell_type": "code",
   "execution_count": 136,
   "id": "8d265e9a-333b-49f9-9a84-21b90fb0a2d6",
   "metadata": {},
   "outputs": [
    {
     "data": {
      "text/plain": [
       "0    5 Seats\n",
       "2    5 Seats\n",
       "3    5 Seats\n",
       "4    2 Seats\n",
       "Name: Seats, dtype: object"
      ]
     },
     "execution_count": 136,
     "metadata": {},
     "output_type": "execute_result"
    }
   ],
   "source": [
    "# I have to remove the seats here \n",
    "dataset[\"Seats\"]"
   ]
  },
  {
   "cell_type": "code",
   "execution_count": 137,
   "id": "e3612995-ff42-42bc-a9d5-a914f87e947e",
   "metadata": {},
   "outputs": [
    {
     "name": "stderr",
     "output_type": "stream",
     "text": [
      "C:\\Users\\hirak\\AppData\\Local\\Temp\\ipykernel_20060\\2509635251.py:2: SettingWithCopyWarning: \n",
      "A value is trying to be set on a copy of a slice from a DataFrame.\n",
      "Try using .loc[row_indexer,col_indexer] = value instead\n",
      "\n",
      "See the caveats in the documentation: https://pandas.pydata.org/pandas-docs/stable/user_guide/indexing.html#returning-a-view-versus-a-copy\n",
      "  dataset[\"Seats\"] = dataset[\"Seats\"].str.replace(\" Seats\",\"\")\n"
     ]
    }
   ],
   "source": [
    "# Remove the sapce with Seats first --> using [str] and [replace]\n",
    "dataset[\"Seats\"] = dataset[\"Seats\"].str.replace(\" Seats\",\"\")"
   ]
  },
  {
   "cell_type": "raw",
   "id": "bfd830f8-e8b6-4a8d-8233-3fc38dbbc002",
   "metadata": {},
   "source": [
    "The above eror is ocured bczzz...\n",
    "\n",
    "->The warning you're encountering, SettingWithCopyWarning, occurs in pandas when you try to modify a subset of a DataFrame that was \n",
    "created by filtering or slicing.This warning is raised to alert you that the operation might not affect the original DataFrame but rather a copy,\n",
    "leading to unexpected behavior.\n",
    "\n",
    "How to Fix It==>>\n",
    "To ensure that you're modifying the original DataFrame and avoid the warning,\n",
    "use .loc[] to explicitly specify the part of the DataFrame you want to modify:\n",
    "\n",
    "dataset.loc[:, \"Seats\"] = dataset[\"Seats\"].str.replace(\" Seats\",\"\")"
   ]
  },
  {
   "cell_type": "code",
   "execution_count": 139,
   "id": "c4fd8a0d-5ecf-418c-bc89-e831ebc5420a",
   "metadata": {},
   "outputs": [],
   "source": [
    "# Here is the Solved of this error \n",
    "dataset.loc[:, \"Seats\"] = dataset[\"Seats\"].str.replace(\" Seats\",\"\")"
   ]
  },
  {
   "cell_type": "code",
   "execution_count": 140,
   "id": "da2a1164-1b20-4ecb-8b18-917e54cbee66",
   "metadata": {},
   "outputs": [
    {
     "name": "stderr",
     "output_type": "stream",
     "text": [
      "C:\\Users\\hirak\\AppData\\Local\\Temp\\ipykernel_20060\\3248931806.py:2: SettingWithCopyWarning: \n",
      "A value is trying to be set on a copy of a slice from a DataFrame.\n",
      "Try using .loc[row_indexer,col_indexer] = value instead\n",
      "\n",
      "See the caveats in the documentation: https://pandas.pydata.org/pandas-docs/stable/user_guide/indexing.html#returning-a-view-versus-a-copy\n",
      "  dataset[\"Seats\"]=dataset['Seats'].astype(\"int64\")\n"
     ]
    }
   ],
   "source": [
    "# Dat convert this object form to Integer Type Data\n",
    "dataset[\"Seats\"]=dataset['Seats'].astype(\"int64\")"
   ]
  },
  {
   "cell_type": "raw",
   "id": "a21b7d24-0581-47ff-9e78-52a201c768df",
   "metadata": {},
   "source": [
    "The above eror is ocured bczzz...\n",
    "\n",
    "->The warning you're encountering, SettingWithCopyWarning, occurs in pandas when you try to modify a subset of a DataFrame that was \n",
    "created by filtering or slicing.This warning is raised to alert you that the operation might not affect the original DataFrame but rather a copy,\n",
    "leading to unexpected behavior.\n",
    "\n",
    "How to Fix It==>>\n",
    "To ensure that you're modifying the original DataFrame and avoid the warning,\n",
    "use .loc[] to explicitly specify the part of the DataFrame you want to modify:\n",
    "\n",
    "dataset.loc[:, \"Seats\"] = dataset[\"Seats\"].astype(\"int64\")"
   ]
  },
  {
   "cell_type": "code",
   "execution_count": 141,
   "id": "2c73d349-c14e-4796-b4c1-5b45611dd5cb",
   "metadata": {},
   "outputs": [],
   "source": [
    "# here is the solved of this error \n",
    "dataset.loc[:, \"Seats\"] = dataset[\"Seats\"].astype(\"int64\")"
   ]
  },
  {
   "cell_type": "code",
   "execution_count": 142,
   "id": "02ee9dcd-ffe9-4e73-b53d-02270684cf3d",
   "metadata": {},
   "outputs": [
    {
     "data": {
      "text/html": [
       "<div>\n",
       "<style scoped>\n",
       "    .dataframe tbody tr th:only-of-type {\n",
       "        vertical-align: middle;\n",
       "    }\n",
       "\n",
       "    .dataframe tbody tr th {\n",
       "        vertical-align: top;\n",
       "    }\n",
       "\n",
       "    .dataframe thead th {\n",
       "        text-align: right;\n",
       "    }\n",
       "</style>\n",
       "<table border=\"1\" class=\"dataframe\">\n",
       "  <thead>\n",
       "    <tr style=\"text-align: right;\">\n",
       "      <th></th>\n",
       "      <th>car_name</th>\n",
       "      <th>car_prices_in_rupee</th>\n",
       "      <th>kms_driven</th>\n",
       "      <th>fuel_type</th>\n",
       "      <th>transmission</th>\n",
       "      <th>ownership</th>\n",
       "      <th>manufacture</th>\n",
       "      <th>engine</th>\n",
       "      <th>Seats</th>\n",
       "      <th>company_name</th>\n",
       "    </tr>\n",
       "  </thead>\n",
       "  <tbody>\n",
       "    <tr>\n",
       "      <th>0</th>\n",
       "      <td>2.0 Longitude Option BSIV</td>\n",
       "      <td>1003000.0</td>\n",
       "      <td>86226</td>\n",
       "      <td>Diesel</td>\n",
       "      <td>Manual</td>\n",
       "      <td>1st Owner</td>\n",
       "      <td>January 15,2017</td>\n",
       "      <td>1956</td>\n",
       "      <td>5</td>\n",
       "      <td>Jeep</td>\n",
       "    </tr>\n",
       "    <tr>\n",
       "      <th>2</th>\n",
       "      <td>2.5 G</td>\n",
       "      <td>16.4</td>\n",
       "      <td>60343</td>\n",
       "      <td>Petrol</td>\n",
       "      <td>Automatic</td>\n",
       "      <td>1st Owner</td>\n",
       "      <td>January 15,2019</td>\n",
       "      <td>2494</td>\n",
       "      <td>5</td>\n",
       "      <td>Toyota</td>\n",
       "    </tr>\n",
       "    <tr>\n",
       "      <th>3</th>\n",
       "      <td>VX CVT</td>\n",
       "      <td>164000000.0</td>\n",
       "      <td>26696</td>\n",
       "      <td>Petrol</td>\n",
       "      <td>Automatic</td>\n",
       "      <td>1st Owner</td>\n",
       "      <td>March 15,2020</td>\n",
       "      <td>1199</td>\n",
       "      <td>5</td>\n",
       "      <td>Honda</td>\n",
       "    </tr>\n",
       "    <tr>\n",
       "      <th>4</th>\n",
       "      <td>W6</td>\n",
       "      <td>35000.0</td>\n",
       "      <td>65000</td>\n",
       "      <td>Diesel</td>\n",
       "      <td>Automatic</td>\n",
       "      <td>2nd Owner</td>\n",
       "      <td>January 15,2020</td>\n",
       "      <td>2000</td>\n",
       "      <td>2</td>\n",
       "      <td>Mahindra</td>\n",
       "    </tr>\n",
       "  </tbody>\n",
       "</table>\n",
       "</div>"
      ],
      "text/plain": [
       "                    car_name  car_prices_in_rupee  kms_driven fuel_type  \\\n",
       "0  2.0 Longitude Option BSIV            1003000.0       86226    Diesel   \n",
       "2                      2.5 G                 16.4       60343    Petrol   \n",
       "3                     VX CVT          164000000.0       26696    Petrol   \n",
       "4                         W6              35000.0       65000    Diesel   \n",
       "\n",
       "  transmission  ownership      manufacture engine  Seats company_name  \n",
       "0       Manual  1st Owner  January 15,2017   1956      5         Jeep  \n",
       "2    Automatic  1st Owner  January 15,2019   2494      5       Toyota  \n",
       "3    Automatic  1st Owner    March 15,2020   1199      5        Honda  \n",
       "4    Automatic  2nd Owner  January 15,2020   2000      2     Mahindra  "
      ]
     },
     "execution_count": 142,
     "metadata": {},
     "output_type": "execute_result"
    }
   ],
   "source": [
    "dataset"
   ]
  },
  {
   "cell_type": "markdown",
   "id": "09512ad7-857c-4eed-bd2f-e3e40cbaa541",
   "metadata": {},
   "source": [
    "### Manufacturing Date "
   ]
  },
  {
   "cell_type": "code",
   "execution_count": 143,
   "id": "f4a1bdc4-889b-477d-a5c2-3b6510f83e7b",
   "metadata": {},
   "outputs": [
    {
     "data": {
      "text/plain": [
       "0    January 15,2017\n",
       "2    January 15,2019\n",
       "3      March 15,2020\n",
       "4    January 15,2020\n",
       "Name: manufacture, dtype: object"
      ]
     },
     "execution_count": 143,
     "metadata": {},
     "output_type": "execute_result"
    }
   ],
   "source": [
    "dataset[\"manufacture\"]"
   ]
  },
  {
   "cell_type": "markdown",
   "id": "081bbf42-ea47-4a3f-8d91-58088286501c",
   "metadata": {},
   "source": [
    "what i have to do is , convert this into the proper Date form "
   ]
  },
  {
   "cell_type": "code",
   "execution_count": 144,
   "id": "7bcf3a12-4564-40a3-96bd-be892fba7e62",
   "metadata": {},
   "outputs": [
    {
     "name": "stderr",
     "output_type": "stream",
     "text": [
      "C:\\Users\\hirak\\AppData\\Local\\Temp\\ipykernel_20060\\297156618.py:2: SettingWithCopyWarning: \n",
      "A value is trying to be set on a copy of a slice from a DataFrame.\n",
      "Try using .loc[row_indexer,col_indexer] = value instead\n",
      "\n",
      "See the caveats in the documentation: https://pandas.pydata.org/pandas-docs/stable/user_guide/indexing.html#returning-a-view-versus-a-copy\n",
      "  dataset[\"manufacture\"] = dataset[\"manufacture\"].str.replace(\",\",\", \")\n"
     ]
    }
   ],
   "source": [
    "# Remove the coma first ---> using [str] and [replace]\n",
    "dataset[\"manufacture\"] = dataset[\"manufacture\"].str.replace(\",\",\", \")"
   ]
  },
  {
   "cell_type": "raw",
   "id": "3ffae489-5611-4327-8c81-2d2e537c8e39",
   "metadata": {},
   "source": [
    "The above eror is ocured bczzz...\n",
    "\n",
    "->The warning you're encountering, SettingWithCopyWarning, occurs in pandas when you try to modify a subset of a DataFrame that was \n",
    "created by filtering or slicing.This warning is raised to alert you that the operation might not affect the original DataFrame but rather a copy,\n",
    "leading to unexpected behavior.\n",
    "\n",
    "How to Fix It==>>\n",
    "To ensure that you're modifying the original DataFrame and avoid the warning,\n",
    "use .loc[] to explicitly specify the part of the DataFrame you want to modify:\n",
    "\n",
    "dataset.loc[:, \"manufacture\"] = dataset[\"manufacture\"].str.replace(\",\",\", \")"
   ]
  },
  {
   "cell_type": "code",
   "execution_count": 145,
   "id": "9edbbf01-7aea-47e0-8abd-94e783e49d3d",
   "metadata": {},
   "outputs": [],
   "source": [
    "# Here is the solved of this error \n",
    "dataset.loc[:, \"manufacture\"] = dataset[\"manufacture\"].str.replace(\",\",\", \")"
   ]
  },
  {
   "cell_type": "code",
   "execution_count": 146,
   "id": "4dc9ef60-012b-46a7-9493-6352577c5a50",
   "metadata": {},
   "outputs": [
    {
     "data": {
      "text/plain": [
       "0   2017-01-15\n",
       "2   2019-01-15\n",
       "3   2020-03-15\n",
       "4   2020-01-15\n",
       "Name: manufacture, dtype: datetime64[ns]"
      ]
     },
     "execution_count": 146,
     "metadata": {},
     "output_type": "execute_result"
    }
   ],
   "source": [
    "pd.to_datetime(dataset['manufacture'])"
   ]
  },
  {
   "cell_type": "code",
   "execution_count": 147,
   "id": "f7377415-5f6b-4dbd-bd1e-5e658807057d",
   "metadata": {},
   "outputs": [
    {
     "name": "stderr",
     "output_type": "stream",
     "text": [
      "C:\\Users\\hirak\\AppData\\Local\\Temp\\ipykernel_20060\\4068019883.py:1: SettingWithCopyWarning: \n",
      "A value is trying to be set on a copy of a slice from a DataFrame.\n",
      "Try using .loc[row_indexer,col_indexer] = value instead\n",
      "\n",
      "See the caveats in the documentation: https://pandas.pydata.org/pandas-docs/stable/user_guide/indexing.html#returning-a-view-versus-a-copy\n",
      "  dataset[\"manufacture\"]=pd.to_datetime(dataset['manufacture'])\n"
     ]
    }
   ],
   "source": [
    "dataset[\"manufacture\"]=pd.to_datetime(dataset['manufacture'])"
   ]
  },
  {
   "cell_type": "code",
   "execution_count": null,
   "id": "8f556478-9dc1-4224-a614-c342005b5c91",
   "metadata": {},
   "outputs": [],
   "source": [
    "The above eror is ocured bczzz...\n",
    "\n",
    "->The warning you're encountering, SettingWithCopyWarning, occurs in pandas when you try to modify a subset of a DataFrame that was \n",
    "created by filtering or slicing.This warning is raised to alert you that the operation might not affect the original DataFrame but rather a copy,\n",
    "leading to unexpected behavior.\n",
    "\n",
    "\n",
    "How to Fix It==>>\n",
    "To ensure that you're modifying the original DataFrame and avoid the warning,\n",
    "use .loc[] to explicitly specify the part of the DataFrame you want to modify:\n",
    "\n",
    "dataset.loc[:, \"manufacture\"] = pd.to_datetime(dataset['manufacture'])"
   ]
  },
  {
   "cell_type": "code",
   "execution_count": 149,
   "id": "57b539dd-1e81-4766-b6ef-134b71aac9e5",
   "metadata": {},
   "outputs": [],
   "source": [
    "# here is the solved of this error \n",
    "dataset.loc[:, \"manufacture\"] = pd.to_datetime(dataset['manufacture'])"
   ]
  },
  {
   "cell_type": "code",
   "execution_count": 150,
   "id": "6831857d-e8f6-4b1c-91e0-98af66d4116b",
   "metadata": {},
   "outputs": [
    {
     "data": {
      "text/html": [
       "<div>\n",
       "<style scoped>\n",
       "    .dataframe tbody tr th:only-of-type {\n",
       "        vertical-align: middle;\n",
       "    }\n",
       "\n",
       "    .dataframe tbody tr th {\n",
       "        vertical-align: top;\n",
       "    }\n",
       "\n",
       "    .dataframe thead th {\n",
       "        text-align: right;\n",
       "    }\n",
       "</style>\n",
       "<table border=\"1\" class=\"dataframe\">\n",
       "  <thead>\n",
       "    <tr style=\"text-align: right;\">\n",
       "      <th></th>\n",
       "      <th>car_name</th>\n",
       "      <th>car_prices_in_rupee</th>\n",
       "      <th>kms_driven</th>\n",
       "      <th>fuel_type</th>\n",
       "      <th>transmission</th>\n",
       "      <th>ownership</th>\n",
       "      <th>manufacture</th>\n",
       "      <th>engine</th>\n",
       "      <th>Seats</th>\n",
       "      <th>company_name</th>\n",
       "    </tr>\n",
       "  </thead>\n",
       "  <tbody>\n",
       "    <tr>\n",
       "      <th>0</th>\n",
       "      <td>2.0 Longitude Option BSIV</td>\n",
       "      <td>1003000.0</td>\n",
       "      <td>86226</td>\n",
       "      <td>Diesel</td>\n",
       "      <td>Manual</td>\n",
       "      <td>1st Owner</td>\n",
       "      <td>2017-01-15</td>\n",
       "      <td>1956</td>\n",
       "      <td>5</td>\n",
       "      <td>Jeep</td>\n",
       "    </tr>\n",
       "    <tr>\n",
       "      <th>2</th>\n",
       "      <td>2.5 G</td>\n",
       "      <td>16.4</td>\n",
       "      <td>60343</td>\n",
       "      <td>Petrol</td>\n",
       "      <td>Automatic</td>\n",
       "      <td>1st Owner</td>\n",
       "      <td>2019-01-15</td>\n",
       "      <td>2494</td>\n",
       "      <td>5</td>\n",
       "      <td>Toyota</td>\n",
       "    </tr>\n",
       "    <tr>\n",
       "      <th>3</th>\n",
       "      <td>VX CVT</td>\n",
       "      <td>164000000.0</td>\n",
       "      <td>26696</td>\n",
       "      <td>Petrol</td>\n",
       "      <td>Automatic</td>\n",
       "      <td>1st Owner</td>\n",
       "      <td>2020-03-15</td>\n",
       "      <td>1199</td>\n",
       "      <td>5</td>\n",
       "      <td>Honda</td>\n",
       "    </tr>\n",
       "    <tr>\n",
       "      <th>4</th>\n",
       "      <td>W6</td>\n",
       "      <td>35000.0</td>\n",
       "      <td>65000</td>\n",
       "      <td>Diesel</td>\n",
       "      <td>Automatic</td>\n",
       "      <td>2nd Owner</td>\n",
       "      <td>2020-01-15</td>\n",
       "      <td>2000</td>\n",
       "      <td>2</td>\n",
       "      <td>Mahindra</td>\n",
       "    </tr>\n",
       "  </tbody>\n",
       "</table>\n",
       "</div>"
      ],
      "text/plain": [
       "                    car_name  car_prices_in_rupee  kms_driven fuel_type  \\\n",
       "0  2.0 Longitude Option BSIV            1003000.0       86226    Diesel   \n",
       "2                      2.5 G                 16.4       60343    Petrol   \n",
       "3                     VX CVT          164000000.0       26696    Petrol   \n",
       "4                         W6              35000.0       65000    Diesel   \n",
       "\n",
       "  transmission  ownership manufacture engine  Seats company_name  \n",
       "0       Manual  1st Owner  2017-01-15   1956      5         Jeep  \n",
       "2    Automatic  1st Owner  2019-01-15   2494      5       Toyota  \n",
       "3    Automatic  1st Owner  2020-03-15   1199      5        Honda  \n",
       "4    Automatic  2nd Owner  2020-01-15   2000      2     Mahindra  "
      ]
     },
     "execution_count": 150,
     "metadata": {},
     "output_type": "execute_result"
    }
   ],
   "source": [
    "dataset"
   ]
  },
  {
   "cell_type": "markdown",
   "id": "04541a4c-3a41-4ef6-a850-34f0fd2bea22",
   "metadata": {},
   "source": [
    "# --->>>Now this full Data Set is Ready for The data Analytics<<<-----"
   ]
  },
  {
   "cell_type": "markdown",
   "id": "aaeee9f2-1a0a-4ff4-8bcc-d776b6f33a4b",
   "metadata": {},
   "source": [
    "#         -->> The End <<---                                              -->> The End <<---"
   ]
  },
  {
   "cell_type": "markdown",
   "id": "fbd3e108-dff2-404f-9837-4cc02c65095a",
   "metadata": {},
   "source": [
    "### Now way to Save the DataFram in CSE File to my Decstop "
   ]
  },
  {
   "cell_type": "code",
   "execution_count": 151,
   "id": "8ad55721-02c1-4d67-89dd-fb6e2be24c01",
   "metadata": {},
   "outputs": [],
   "source": [
    "dataset.to_csv(r'F:\\Python with Data Analytics\\Data Clean Own Project\\ClEanedData.csv')"
   ]
  },
  {
   "cell_type": "code",
   "execution_count": null,
   "id": "30c7c09a-fdb0-45c1-8abe-6a9743f26022",
   "metadata": {},
   "outputs": [],
   "source": []
  }
 ],
 "metadata": {
  "kernelspec": {
   "display_name": "Python 3 (ipykernel)",
   "language": "python",
   "name": "python3"
  },
  "language_info": {
   "codemirror_mode": {
    "name": "ipython",
    "version": 3
   },
   "file_extension": ".py",
   "mimetype": "text/x-python",
   "name": "python",
   "nbconvert_exporter": "python",
   "pygments_lexer": "ipython3",
   "version": "3.12.3"
  }
 },
 "nbformat": 4,
 "nbformat_minor": 5
}
