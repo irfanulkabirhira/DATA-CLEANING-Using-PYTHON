{
 "cells": [
  {
   "cell_type": "code",
   "execution_count": 114,
   "id": "494849bb-1927-4bf7-a60f-5568d31d7f50",
   "metadata": {},
   "outputs": [
    {
     "name": "stdout",
     "output_type": "stream",
     "text": [
      "                                 car_name car_prices_in_rupee  kms_driven  \\\n",
      "0  Jeep Compass 2.0 Longitude Option BSIV          10.03 Lakh  86,226 kms   \n",
      "1            Renault Duster RXZ Turbo CVT                                   \n",
      "2                      Toyota Camry 2.5 G                16.4  60,343 kms   \n",
      "3                       Honda Jazz VX CVT          7.77 Crore  26,696 kms   \n",
      "\n",
      "  fuel_type transmission  ownership      manufacture   engine    Seats  \n",
      "0    Diesel       Manual  1st Owner  January 15,2017  1956 cc  5 Seats  \n",
      "1    Petrol    Automatic  1st Owner  January 15,2018  1330 cc  5 Seats  \n",
      "2    Petrol    Automatic  1st Owner  January 15,2019  2494 cc  5 Seats  \n",
      "3    Petrol    Automatic  1st Owner  January 15,2020  1199 cc  5 Seats  \n"
     ]
    }
   ],
   "source": [
    "import pandas as pd\n",
    "\n",
    "# Data to create the table\n",
    "data = {\n",
    "    \"car_name\": [\n",
    "        \"Jeep Compass 2.0 Longitude Option BSIV\",\n",
    "        \"Renault Duster RXZ Turbo CVT\",\n",
    "        \"Toyota Camry 2.5 G\",\n",
    "        \"Honda Jazz VX CVT\"\n",
    "    ],\n",
    "    \"car_prices_in_rupee\": [\"10.03 Lakh\", \" \", \"16.4\", \"7.77 Crore\"],\n",
    "    \"kms_driven\": [\"86,226 kms\", \" \", \"60,343 kms\", \"26,696 kms\"],\n",
    "    \"fuel_type\": [\"Diesel\", \"Petrol\", \"Petrol\", \"Petrol\"],\n",
    "    \"transmission\": [\"Manual\", \"Automatic\", \"Automatic\", \"Automatic\"],\n",
    "    \"ownership\": [\"1st Owner\", \"1st Owner\", \"1st Owner\", \"1st Owner\"],\n",
    "    \"manufacture\": [\n",
    "        \"January 15,2017\",\n",
    "        \"January 15,2018\",\n",
    "        \"January 15,2019\",\n",
    "        \"January 15,2020\"\n",
    "    ],\n",
    "    \"engine\": [\"1956 cc\", \"1330 cc\", \"2494 cc\", \"1199 cc\"],\n",
    "    \"Seats\": [\"5 Seats\", \"5 Seats\", \"5 Seats\", \"5 Seats\"]\n",
    "}\n",
    "\n",
    "# Create DataFrame\n",
    "df = pd.DataFrame(data)\n",
    "\n",
    "# Display the DataFrame\n",
    "print(df)\n"
   ]
  },
  {
   "cell_type": "code",
   "execution_count": 115,
   "id": "a4134dd7-7125-4a2e-8d7c-764f3fb89651",
   "metadata": {},
   "outputs": [
    {
     "data": {
      "text/html": [
       "<div>\n",
       "<style scoped>\n",
       "    .dataframe tbody tr th:only-of-type {\n",
       "        vertical-align: middle;\n",
       "    }\n",
       "\n",
       "    .dataframe tbody tr th {\n",
       "        vertical-align: top;\n",
       "    }\n",
       "\n",
       "    .dataframe thead th {\n",
       "        text-align: right;\n",
       "    }\n",
       "</style>\n",
       "<table border=\"1\" class=\"dataframe\">\n",
       "  <thead>\n",
       "    <tr style=\"text-align: right;\">\n",
       "      <th></th>\n",
       "      <th>car_name</th>\n",
       "      <th>car_prices_in_rupee</th>\n",
       "      <th>kms_driven</th>\n",
       "      <th>fuel_type</th>\n",
       "      <th>transmission</th>\n",
       "      <th>ownership</th>\n",
       "      <th>manufacture</th>\n",
       "      <th>engine</th>\n",
       "      <th>Seats</th>\n",
       "    </tr>\n",
       "  </thead>\n",
       "  <tbody>\n",
       "    <tr>\n",
       "      <th>0</th>\n",
       "      <td>Jeep Compass 2.0 Longitude Option BSIV</td>\n",
       "      <td>10.03 Lakh</td>\n",
       "      <td>86,226 kms</td>\n",
       "      <td>Diesel</td>\n",
       "      <td>Manual</td>\n",
       "      <td>1st Owner</td>\n",
       "      <td>January 15,2017</td>\n",
       "      <td>1956 cc</td>\n",
       "      <td>5 Seats</td>\n",
       "    </tr>\n",
       "    <tr>\n",
       "      <th>1</th>\n",
       "      <td>Renault Duster RXZ Turbo CVT</td>\n",
       "      <td></td>\n",
       "      <td></td>\n",
       "      <td>Petrol</td>\n",
       "      <td>Automatic</td>\n",
       "      <td>1st Owner</td>\n",
       "      <td>January 15,2018</td>\n",
       "      <td>1330 cc</td>\n",
       "      <td>5 Seats</td>\n",
       "    </tr>\n",
       "    <tr>\n",
       "      <th>2</th>\n",
       "      <td>Toyota Camry 2.5 G</td>\n",
       "      <td>16.4</td>\n",
       "      <td>60,343 kms</td>\n",
       "      <td>Petrol</td>\n",
       "      <td>Automatic</td>\n",
       "      <td>1st Owner</td>\n",
       "      <td>January 15,2019</td>\n",
       "      <td>2494 cc</td>\n",
       "      <td>5 Seats</td>\n",
       "    </tr>\n",
       "    <tr>\n",
       "      <th>3</th>\n",
       "      <td>Honda Jazz VX CVT</td>\n",
       "      <td>7.77 Crore</td>\n",
       "      <td>26,696 kms</td>\n",
       "      <td>Petrol</td>\n",
       "      <td>Automatic</td>\n",
       "      <td>1st Owner</td>\n",
       "      <td>January 15,2020</td>\n",
       "      <td>1199 cc</td>\n",
       "      <td>5 Seats</td>\n",
       "    </tr>\n",
       "  </tbody>\n",
       "</table>\n",
       "</div>"
      ],
      "text/plain": [
       "                                 car_name car_prices_in_rupee  kms_driven  \\\n",
       "0  Jeep Compass 2.0 Longitude Option BSIV          10.03 Lakh  86,226 kms   \n",
       "1            Renault Duster RXZ Turbo CVT                                   \n",
       "2                      Toyota Camry 2.5 G                16.4  60,343 kms   \n",
       "3                       Honda Jazz VX CVT          7.77 Crore  26,696 kms   \n",
       "\n",
       "  fuel_type transmission  ownership      manufacture   engine    Seats  \n",
       "0    Diesel       Manual  1st Owner  January 15,2017  1956 cc  5 Seats  \n",
       "1    Petrol    Automatic  1st Owner  January 15,2018  1330 cc  5 Seats  \n",
       "2    Petrol    Automatic  1st Owner  January 15,2019  2494 cc  5 Seats  \n",
       "3    Petrol    Automatic  1st Owner  January 15,2020  1199 cc  5 Seats  "
      ]
     },
     "execution_count": 115,
     "metadata": {},
     "output_type": "execute_result"
    }
   ],
   "source": [
    "df"
   ]
  },
  {
   "cell_type": "markdown",
   "id": "5e56f91b-8742-4f14-abc5-5a6431160ef5",
   "metadata": {},
   "source": [
    "### Working with a single Data "
   ]
  },
  {
   "cell_type": "code",
   "execution_count": 116,
   "id": "df22e84b-7402-4fe2-beda-ef42ab86857d",
   "metadata": {},
   "outputs": [
    {
     "data": {
      "text/html": [
       "<div>\n",
       "<style scoped>\n",
       "    .dataframe tbody tr th:only-of-type {\n",
       "        vertical-align: middle;\n",
       "    }\n",
       "\n",
       "    .dataframe tbody tr th {\n",
       "        vertical-align: top;\n",
       "    }\n",
       "\n",
       "    .dataframe thead th {\n",
       "        text-align: right;\n",
       "    }\n",
       "</style>\n",
       "<table border=\"1\" class=\"dataframe\">\n",
       "  <thead>\n",
       "    <tr style=\"text-align: right;\">\n",
       "      <th></th>\n",
       "      <th>car_name</th>\n",
       "      <th>car_prices_in_rupee</th>\n",
       "      <th>kms_driven</th>\n",
       "      <th>fuel_type</th>\n",
       "      <th>transmission</th>\n",
       "      <th>ownership</th>\n",
       "      <th>manufacture</th>\n",
       "      <th>engine</th>\n",
       "      <th>Seats</th>\n",
       "    </tr>\n",
       "  </thead>\n",
       "  <tbody>\n",
       "    <tr>\n",
       "      <th>0</th>\n",
       "      <td>Jeep Compass 2.0 Longitude Option BSIV</td>\n",
       "      <td>10.03 Lakh</td>\n",
       "      <td>86,226 kms</td>\n",
       "      <td>Diesel</td>\n",
       "      <td>Manual</td>\n",
       "      <td>1st Owner</td>\n",
       "      <td>January 15,2017</td>\n",
       "      <td>1956 cc</td>\n",
       "      <td>5 Seats</td>\n",
       "    </tr>\n",
       "  </tbody>\n",
       "</table>\n",
       "</div>"
      ],
      "text/plain": [
       "                                 car_name car_prices_in_rupee  kms_driven  \\\n",
       "0  Jeep Compass 2.0 Longitude Option BSIV          10.03 Lakh  86,226 kms   \n",
       "\n",
       "  fuel_type transmission  ownership      manufacture   engine    Seats  \n",
       "0    Diesel       Manual  1st Owner  January 15,2017  1956 cc  5 Seats  "
      ]
     },
     "execution_count": 116,
     "metadata": {},
     "output_type": "execute_result"
    }
   ],
   "source": [
    "df.head(1)"
   ]
  },
  {
   "cell_type": "markdown",
   "id": "798c5c26-a74f-4088-be63-de7b42ce5599",
   "metadata": {},
   "source": [
    "# Here Not Showing The NaN value That's Why working With The CSV file Now "
   ]
  },
  {
   "cell_type": "code",
   "execution_count": 117,
   "id": "9e73892d-36f8-4665-ae7a-c3b872d51ba7",
   "metadata": {},
   "outputs": [],
   "source": [
    "dataset = pd.read_csv('Car_Price_MyOwn_Data.csv')"
   ]
  },
  {
   "cell_type": "code",
   "execution_count": 118,
   "id": "2983ac4f-b4f0-4e7b-8805-cfb2d71d8c69",
   "metadata": {},
   "outputs": [
    {
     "data": {
      "text/html": [
       "<div>\n",
       "<style scoped>\n",
       "    .dataframe tbody tr th:only-of-type {\n",
       "        vertical-align: middle;\n",
       "    }\n",
       "\n",
       "    .dataframe tbody tr th {\n",
       "        vertical-align: top;\n",
       "    }\n",
       "\n",
       "    .dataframe thead th {\n",
       "        text-align: right;\n",
       "    }\n",
       "</style>\n",
       "<table border=\"1\" class=\"dataframe\">\n",
       "  <thead>\n",
       "    <tr style=\"text-align: right;\">\n",
       "      <th></th>\n",
       "      <th>car_name</th>\n",
       "      <th>car_prices_in_rupee</th>\n",
       "      <th>kms_driven</th>\n",
       "      <th>fuel_type</th>\n",
       "      <th>transmission</th>\n",
       "      <th>ownership</th>\n",
       "      <th>manufacture</th>\n",
       "      <th>engine</th>\n",
       "      <th>Seats</th>\n",
       "    </tr>\n",
       "  </thead>\n",
       "  <tbody>\n",
       "    <tr>\n",
       "      <th>0</th>\n",
       "      <td>Jeep Compass 2.0 Longitude Option BSIV</td>\n",
       "      <td>10.03 Lakh</td>\n",
       "      <td>86,226 kms</td>\n",
       "      <td>Diesel</td>\n",
       "      <td>Manual</td>\n",
       "      <td>1st Owner</td>\n",
       "      <td>January 15,2017</td>\n",
       "      <td>1956 cc</td>\n",
       "      <td>5 Seats</td>\n",
       "    </tr>\n",
       "    <tr>\n",
       "      <th>1</th>\n",
       "      <td>Renault Duster RXZ Turbo CVT</td>\n",
       "      <td>NaN</td>\n",
       "      <td>13,248 kms</td>\n",
       "      <td>Petrol</td>\n",
       "      <td>Automatic</td>\n",
       "      <td>1st Owner</td>\n",
       "      <td>January 15,2018</td>\n",
       "      <td>1330 cc</td>\n",
       "      <td>5 Seats</td>\n",
       "    </tr>\n",
       "    <tr>\n",
       "      <th>2</th>\n",
       "      <td>Toyota Camry 2.5 G</td>\n",
       "      <td>16.4</td>\n",
       "      <td>60,343 kms</td>\n",
       "      <td>Petrol</td>\n",
       "      <td>Automatic</td>\n",
       "      <td>1st Owner</td>\n",
       "      <td>January 15,2019</td>\n",
       "      <td>2494 cc</td>\n",
       "      <td>5 Seats</td>\n",
       "    </tr>\n",
       "    <tr>\n",
       "      <th>3</th>\n",
       "      <td>Honda Jazz VX CVT</td>\n",
       "      <td>16.40 Crore</td>\n",
       "      <td>26,696 kms</td>\n",
       "      <td>Petrol</td>\n",
       "      <td>Automatic</td>\n",
       "      <td>1st Owner</td>\n",
       "      <td>March 15,2020</td>\n",
       "      <td>1199 cc</td>\n",
       "      <td>5 Seats</td>\n",
       "    </tr>\n",
       "    <tr>\n",
       "      <th>4</th>\n",
       "      <td>Mahindra XUV300 W6</td>\n",
       "      <td>35,000</td>\n",
       "      <td>65,000 kms</td>\n",
       "      <td>Diesel</td>\n",
       "      <td>Automatic</td>\n",
       "      <td>2nd Owner</td>\n",
       "      <td>January 15,2020</td>\n",
       "      <td>2000 cc</td>\n",
       "      <td>2 Seats</td>\n",
       "    </tr>\n",
       "  </tbody>\n",
       "</table>\n",
       "</div>"
      ],
      "text/plain": [
       "                                 car_name car_prices_in_rupee  kms_driven  \\\n",
       "0  Jeep Compass 2.0 Longitude Option BSIV          10.03 Lakh  86,226 kms   \n",
       "1            Renault Duster RXZ Turbo CVT                 NaN  13,248 kms   \n",
       "2                      Toyota Camry 2.5 G                16.4  60,343 kms   \n",
       "3                       Honda Jazz VX CVT         16.40 Crore  26,696 kms   \n",
       "4                      Mahindra XUV300 W6              35,000  65,000 kms   \n",
       "\n",
       "  fuel_type transmission  ownership      manufacture   engine    Seats  \n",
       "0    Diesel       Manual  1st Owner  January 15,2017  1956 cc  5 Seats  \n",
       "1    Petrol    Automatic  1st Owner  January 15,2018  1330 cc  5 Seats  \n",
       "2    Petrol    Automatic  1st Owner  January 15,2019  2494 cc  5 Seats  \n",
       "3    Petrol    Automatic  1st Owner    March 15,2020  1199 cc  5 Seats  \n",
       "4    Diesel    Automatic  2nd Owner  January 15,2020  2000 cc  2 Seats  "
      ]
     },
     "execution_count": 118,
     "metadata": {},
     "output_type": "execute_result"
    }
   ],
   "source": [
    "dataset"
   ]
  },
  {
   "cell_type": "markdown",
   "id": "3949f531-1c7b-4471-bc47-cdd91973aa77",
   "metadata": {},
   "source": [
    "### Alwyas will Work with a single Row "
   ]
  },
  {
   "cell_type": "code",
   "execution_count": 119,
   "id": "752b3811-b235-4648-ac84-e428a104d5e9",
   "metadata": {},
   "outputs": [
    {
     "data": {
      "text/html": [
       "<div>\n",
       "<style scoped>\n",
       "    .dataframe tbody tr th:only-of-type {\n",
       "        vertical-align: middle;\n",
       "    }\n",
       "\n",
       "    .dataframe tbody tr th {\n",
       "        vertical-align: top;\n",
       "    }\n",
       "\n",
       "    .dataframe thead th {\n",
       "        text-align: right;\n",
       "    }\n",
       "</style>\n",
       "<table border=\"1\" class=\"dataframe\">\n",
       "  <thead>\n",
       "    <tr style=\"text-align: right;\">\n",
       "      <th></th>\n",
       "      <th>car_name</th>\n",
       "      <th>car_prices_in_rupee</th>\n",
       "      <th>kms_driven</th>\n",
       "      <th>fuel_type</th>\n",
       "      <th>transmission</th>\n",
       "      <th>ownership</th>\n",
       "      <th>manufacture</th>\n",
       "      <th>engine</th>\n",
       "      <th>Seats</th>\n",
       "    </tr>\n",
       "  </thead>\n",
       "  <tbody>\n",
       "    <tr>\n",
       "      <th>0</th>\n",
       "      <td>Jeep Compass 2.0 Longitude Option BSIV</td>\n",
       "      <td>10.03 Lakh</td>\n",
       "      <td>86,226 kms</td>\n",
       "      <td>Diesel</td>\n",
       "      <td>Manual</td>\n",
       "      <td>1st Owner</td>\n",
       "      <td>January 15,2017</td>\n",
       "      <td>1956 cc</td>\n",
       "      <td>5 Seats</td>\n",
       "    </tr>\n",
       "  </tbody>\n",
       "</table>\n",
       "</div>"
      ],
      "text/plain": [
       "                                 car_name car_prices_in_rupee  kms_driven  \\\n",
       "0  Jeep Compass 2.0 Longitude Option BSIV          10.03 Lakh  86,226 kms   \n",
       "\n",
       "  fuel_type transmission  ownership      manufacture   engine    Seats  \n",
       "0    Diesel       Manual  1st Owner  January 15,2017  1956 cc  5 Seats  "
      ]
     },
     "execution_count": 119,
     "metadata": {},
     "output_type": "execute_result"
    }
   ],
   "source": [
    "dataset.head(1)"
   ]
  },
  {
   "cell_type": "markdown",
   "id": "9688546d-8832-471c-a6c0-bd303188e3c9",
   "metadata": {},
   "source": [
    "### To see the Overall Data "
   ]
  },
  {
   "cell_type": "code",
   "execution_count": 120,
   "id": "6705563a-3a77-4e89-a719-5123f843a491",
   "metadata": {},
   "outputs": [
    {
     "data": {
      "text/plain": [
       "(5, 9)"
      ]
     },
     "execution_count": 120,
     "metadata": {},
     "output_type": "execute_result"
    }
   ],
   "source": [
    "dataset.shape"
   ]
  },
  {
   "cell_type": "markdown",
   "id": "3eaae32f-4829-44cc-b953-e08658cd5e4f",
   "metadata": {},
   "source": [
    "### To see the only Rows"
   ]
  },
  {
   "cell_type": "code",
   "execution_count": 121,
   "id": "c2e1ce30-75d7-400f-a28e-1db4f4736015",
   "metadata": {},
   "outputs": [
    {
     "data": {
      "text/plain": [
       "5"
      ]
     },
     "execution_count": 121,
     "metadata": {},
     "output_type": "execute_result"
    }
   ],
   "source": [
    "dataset.shape[0]"
   ]
  },
  {
   "cell_type": "markdown",
   "id": "fc445fc1-c0d2-46b7-a8e8-936b05cb6323",
   "metadata": {},
   "source": [
    "### To See the DataType"
   ]
  },
  {
   "cell_type": "code",
   "execution_count": 122,
   "id": "91271f77-7eb0-49e6-8c02-1ee66f1abcf4",
   "metadata": {},
   "outputs": [
    {
     "name": "stdout",
     "output_type": "stream",
     "text": [
      "<class 'pandas.core.frame.DataFrame'>\n",
      "RangeIndex: 5 entries, 0 to 4\n",
      "Data columns (total 9 columns):\n",
      " #   Column               Non-Null Count  Dtype \n",
      "---  ------               --------------  ----- \n",
      " 0   car_name             5 non-null      object\n",
      " 1   car_prices_in_rupee  4 non-null      object\n",
      " 2   kms_driven           5 non-null      object\n",
      " 3   fuel_type            5 non-null      object\n",
      " 4   transmission         5 non-null      object\n",
      " 5   ownership            5 non-null      object\n",
      " 6   manufacture          5 non-null      object\n",
      " 7   engine               5 non-null      object\n",
      " 8   Seats                5 non-null      object\n",
      "dtypes: object(9)\n",
      "memory usage: 492.0+ bytes\n"
     ]
    }
   ],
   "source": [
    "dataset.info()"
   ]
  },
  {
   "cell_type": "markdown",
   "id": "32c2cd3d-602c-4d0c-a57c-9cec2fe54d86",
   "metadata": {},
   "source": [
    "# Missing Content "
   ]
  },
  {
   "cell_type": "markdown",
   "id": "08a524a7-8d75-4e22-90b3-a4f156c299da",
   "metadata": {},
   "source": [
    "### 1st work is to remove the missing content or place some data in the missing content"
   ]
  },
  {
   "cell_type": "code",
   "execution_count": 123,
   "id": "16573342-c739-4f83-9693-dd89dd8481e0",
   "metadata": {},
   "outputs": [
    {
     "data": {
      "text/html": [
       "<div>\n",
       "<style scoped>\n",
       "    .dataframe tbody tr th:only-of-type {\n",
       "        vertical-align: middle;\n",
       "    }\n",
       "\n",
       "    .dataframe tbody tr th {\n",
       "        vertical-align: top;\n",
       "    }\n",
       "\n",
       "    .dataframe thead th {\n",
       "        text-align: right;\n",
       "    }\n",
       "</style>\n",
       "<table border=\"1\" class=\"dataframe\">\n",
       "  <thead>\n",
       "    <tr style=\"text-align: right;\">\n",
       "      <th></th>\n",
       "      <th>car_name</th>\n",
       "      <th>car_prices_in_rupee</th>\n",
       "      <th>kms_driven</th>\n",
       "      <th>fuel_type</th>\n",
       "      <th>transmission</th>\n",
       "      <th>ownership</th>\n",
       "      <th>manufacture</th>\n",
       "      <th>engine</th>\n",
       "      <th>Seats</th>\n",
       "    </tr>\n",
       "  </thead>\n",
       "  <tbody>\n",
       "    <tr>\n",
       "      <th>0</th>\n",
       "      <td>False</td>\n",
       "      <td>False</td>\n",
       "      <td>False</td>\n",
       "      <td>False</td>\n",
       "      <td>False</td>\n",
       "      <td>False</td>\n",
       "      <td>False</td>\n",
       "      <td>False</td>\n",
       "      <td>False</td>\n",
       "    </tr>\n",
       "    <tr>\n",
       "      <th>1</th>\n",
       "      <td>False</td>\n",
       "      <td>True</td>\n",
       "      <td>False</td>\n",
       "      <td>False</td>\n",
       "      <td>False</td>\n",
       "      <td>False</td>\n",
       "      <td>False</td>\n",
       "      <td>False</td>\n",
       "      <td>False</td>\n",
       "    </tr>\n",
       "    <tr>\n",
       "      <th>2</th>\n",
       "      <td>False</td>\n",
       "      <td>False</td>\n",
       "      <td>False</td>\n",
       "      <td>False</td>\n",
       "      <td>False</td>\n",
       "      <td>False</td>\n",
       "      <td>False</td>\n",
       "      <td>False</td>\n",
       "      <td>False</td>\n",
       "    </tr>\n",
       "    <tr>\n",
       "      <th>3</th>\n",
       "      <td>False</td>\n",
       "      <td>False</td>\n",
       "      <td>False</td>\n",
       "      <td>False</td>\n",
       "      <td>False</td>\n",
       "      <td>False</td>\n",
       "      <td>False</td>\n",
       "      <td>False</td>\n",
       "      <td>False</td>\n",
       "    </tr>\n",
       "    <tr>\n",
       "      <th>4</th>\n",
       "      <td>False</td>\n",
       "      <td>False</td>\n",
       "      <td>False</td>\n",
       "      <td>False</td>\n",
       "      <td>False</td>\n",
       "      <td>False</td>\n",
       "      <td>False</td>\n",
       "      <td>False</td>\n",
       "      <td>False</td>\n",
       "    </tr>\n",
       "  </tbody>\n",
       "</table>\n",
       "</div>"
      ],
      "text/plain": [
       "   car_name  car_prices_in_rupee  kms_driven  fuel_type  transmission  \\\n",
       "0     False                False       False      False         False   \n",
       "1     False                 True       False      False         False   \n",
       "2     False                False       False      False         False   \n",
       "3     False                False       False      False         False   \n",
       "4     False                False       False      False         False   \n",
       "\n",
       "   ownership  manufacture  engine  Seats  \n",
       "0      False        False   False  False  \n",
       "1      False        False   False  False  \n",
       "2      False        False   False  False  \n",
       "3      False        False   False  False  \n",
       "4      False        False   False  False  "
      ]
     },
     "execution_count": 123,
     "metadata": {},
     "output_type": "execute_result"
    }
   ],
   "source": [
    "#True means --> missing Content \n",
    "# False means --> not missing content\n",
    "dataset.isnull()"
   ]
  },
  {
   "cell_type": "code",
   "execution_count": 124,
   "id": "ada6cd1a-4426-4e41-91c1-5381b4f457d8",
   "metadata": {},
   "outputs": [
    {
     "data": {
      "text/plain": [
       "car_name               0\n",
       "car_prices_in_rupee    1\n",
       "kms_driven             0\n",
       "fuel_type              0\n",
       "transmission           0\n",
       "ownership              0\n",
       "manufacture            0\n",
       "engine                 0\n",
       "Seats                  0\n",
       "dtype: int64"
      ]
     },
     "execution_count": 124,
     "metadata": {},
     "output_type": "execute_result"
    }
   ],
   "source": [
    "# sum() er folee jar joto missing content aceh , sheta jante parbo !!\n",
    "dataset.isnull().sum()"
   ]
  },
  {
   "cell_type": "markdown",
   "id": "b1dd13e7-d5b4-42b7-ba3d-03caf57160c0",
   "metadata": {},
   "source": [
    "### For good observation , we have to find this in Percentage form "
   ]
  },
  {
   "cell_type": "code",
   "execution_count": 125,
   "id": "ffcff67a-f993-4fe9-9c3f-990a7c971326",
   "metadata": {},
   "outputs": [
    {
     "data": {
      "text/plain": [
       "car_name                0.0\n",
       "car_prices_in_rupee    20.0\n",
       "kms_driven              0.0\n",
       "fuel_type               0.0\n",
       "transmission            0.0\n",
       "ownership               0.0\n",
       "manufacture             0.0\n",
       "engine                  0.0\n",
       "Seats                   0.0\n",
       "dtype: float64"
      ]
     },
     "execution_count": 125,
     "metadata": {},
     "output_type": "execute_result"
    }
   ],
   "source": [
    "# To find the Percentage of Missing content \n",
    "(dataset.isnull().sum()/dataset.shape[0])*100"
   ]
  },
  {
   "cell_type": "markdown",
   "id": "f65208e4-924b-4249-95e1-215935a97df1",
   "metadata": {},
   "source": [
    "### To remove the missing Data"
   ]
  },
  {
   "cell_type": "code",
   "execution_count": 126,
   "id": "562d0e89-42f1-49bd-a8f4-590ce7404a70",
   "metadata": {},
   "outputs": [],
   "source": [
    "#permenetly removed the missing content \n",
    "dataset.dropna(inplace=True)"
   ]
  },
  {
   "cell_type": "code",
   "execution_count": 127,
   "id": "598a41a8-7b95-44f4-9943-5ac2a8d9c813",
   "metadata": {},
   "outputs": [
    {
     "data": {
      "text/html": [
       "<div>\n",
       "<style scoped>\n",
       "    .dataframe tbody tr th:only-of-type {\n",
       "        vertical-align: middle;\n",
       "    }\n",
       "\n",
       "    .dataframe tbody tr th {\n",
       "        vertical-align: top;\n",
       "    }\n",
       "\n",
       "    .dataframe thead th {\n",
       "        text-align: right;\n",
       "    }\n",
       "</style>\n",
       "<table border=\"1\" class=\"dataframe\">\n",
       "  <thead>\n",
       "    <tr style=\"text-align: right;\">\n",
       "      <th></th>\n",
       "      <th>car_name</th>\n",
       "      <th>car_prices_in_rupee</th>\n",
       "      <th>kms_driven</th>\n",
       "      <th>fuel_type</th>\n",
       "      <th>transmission</th>\n",
       "      <th>ownership</th>\n",
       "      <th>manufacture</th>\n",
       "      <th>engine</th>\n",
       "      <th>Seats</th>\n",
       "    </tr>\n",
       "  </thead>\n",
       "  <tbody>\n",
       "    <tr>\n",
       "      <th>0</th>\n",
       "      <td>Jeep Compass 2.0 Longitude Option BSIV</td>\n",
       "      <td>10.03 Lakh</td>\n",
       "      <td>86,226 kms</td>\n",
       "      <td>Diesel</td>\n",
       "      <td>Manual</td>\n",
       "      <td>1st Owner</td>\n",
       "      <td>January 15,2017</td>\n",
       "      <td>1956 cc</td>\n",
       "      <td>5 Seats</td>\n",
       "    </tr>\n",
       "    <tr>\n",
       "      <th>2</th>\n",
       "      <td>Toyota Camry 2.5 G</td>\n",
       "      <td>16.4</td>\n",
       "      <td>60,343 kms</td>\n",
       "      <td>Petrol</td>\n",
       "      <td>Automatic</td>\n",
       "      <td>1st Owner</td>\n",
       "      <td>January 15,2019</td>\n",
       "      <td>2494 cc</td>\n",
       "      <td>5 Seats</td>\n",
       "    </tr>\n",
       "    <tr>\n",
       "      <th>3</th>\n",
       "      <td>Honda Jazz VX CVT</td>\n",
       "      <td>16.40 Crore</td>\n",
       "      <td>26,696 kms</td>\n",
       "      <td>Petrol</td>\n",
       "      <td>Automatic</td>\n",
       "      <td>1st Owner</td>\n",
       "      <td>March 15,2020</td>\n",
       "      <td>1199 cc</td>\n",
       "      <td>5 Seats</td>\n",
       "    </tr>\n",
       "    <tr>\n",
       "      <th>4</th>\n",
       "      <td>Mahindra XUV300 W6</td>\n",
       "      <td>35,000</td>\n",
       "      <td>65,000 kms</td>\n",
       "      <td>Diesel</td>\n",
       "      <td>Automatic</td>\n",
       "      <td>2nd Owner</td>\n",
       "      <td>January 15,2020</td>\n",
       "      <td>2000 cc</td>\n",
       "      <td>2 Seats</td>\n",
       "    </tr>\n",
       "  </tbody>\n",
       "</table>\n",
       "</div>"
      ],
      "text/plain": [
       "                                 car_name car_prices_in_rupee  kms_driven  \\\n",
       "0  Jeep Compass 2.0 Longitude Option BSIV          10.03 Lakh  86,226 kms   \n",
       "2                      Toyota Camry 2.5 G                16.4  60,343 kms   \n",
       "3                       Honda Jazz VX CVT         16.40 Crore  26,696 kms   \n",
       "4                      Mahindra XUV300 W6              35,000  65,000 kms   \n",
       "\n",
       "  fuel_type transmission  ownership      manufacture   engine    Seats  \n",
       "0    Diesel       Manual  1st Owner  January 15,2017  1956 cc  5 Seats  \n",
       "2    Petrol    Automatic  1st Owner  January 15,2019  2494 cc  5 Seats  \n",
       "3    Petrol    Automatic  1st Owner    March 15,2020  1199 cc  5 Seats  \n",
       "4    Diesel    Automatic  2nd Owner  January 15,2020  2000 cc  2 Seats  "
      ]
     },
     "execution_count": 127,
     "metadata": {},
     "output_type": "execute_result"
    }
   ],
   "source": [
    "#To see the NaN is permanently is deleted or not !!\n",
    "dataset"
   ]
  },
  {
   "cell_type": "markdown",
   "id": "fbab615c-db9c-4d1e-9430-55cb7fa25fe2",
   "metadata": {},
   "source": [
    "# One By One Column Obeservtion "
   ]
  },
  {
   "cell_type": "markdown",
   "id": "b34cf529-48c6-47fb-bd30-dfcec43a8373",
   "metadata": {},
   "source": [
    "### Car_name"
   ]
  },
  {
   "cell_type": "code",
   "execution_count": 128,
   "id": "1ad9b628-2839-41cf-af96-933c38d4c2c5",
   "metadata": {},
   "outputs": [
    {
     "data": {
      "text/plain": [
       "0    Jeep Compass 2.0 Longitude Option BSIV\n",
       "2                        Toyota Camry 2.5 G\n",
       "3                         Honda Jazz VX CVT\n",
       "4                        Mahindra XUV300 W6\n",
       "Name: car_name, dtype: object"
      ]
     },
     "execution_count": 128,
     "metadata": {},
     "output_type": "execute_result"
    }
   ],
   "source": [
    "dataset['car_name']"
   ]
  },
  {
   "cell_type": "raw",
   "id": "1ed80abe-74eb-4984-9636-14f05087ff9d",
   "metadata": {},
   "source": [
    "------------------------------------->>>>To separate carName and Company Name <<<<<<<-----------------------------------"
   ]
  },
  {
   "cell_type": "code",
   "execution_count": 129,
   "id": "6996e16f-e1ba-4d58-b239-3228e3431368",
   "metadata": {},
   "outputs": [
    {
     "data": {
      "text/plain": [
       "'Jeep Compass 2.0 Longitude Option BSIV'"
      ]
     },
     "execution_count": 129,
     "metadata": {},
     "output_type": "execute_result"
    }
   ],
   "source": [
    "# WE Will work on a Data only , then entire Data\n",
    "dataset['car_name'][0]"
   ]
  },
  {
   "cell_type": "code",
   "execution_count": 130,
   "id": "17dcad75-0941-470a-81f6-6a8b90d1a142",
   "metadata": {},
   "outputs": [
    {
     "data": {
      "text/plain": [
       "'Jeep'"
      ]
     },
     "execution_count": 130,
     "metadata": {},
     "output_type": "execute_result"
    }
   ],
   "source": [
    "# I will use Slicing to separate the Car name and Company Name \n",
    "x=dataset['car_name'][0]\n",
    "x[:x.index(\" \")] # For Specific Data, so entire Data I will have to create the customize function "
   ]
  },
  {
   "cell_type": "code",
   "execution_count": 131,
   "id": "f3648d1c-9560-4e5c-b53e-aba905515864",
   "metadata": {},
   "outputs": [],
   "source": [
    "# To Create the customize function --> for the company_name\n",
    "def company_name(x):\n",
    "    return x[:x.index(\" \")]"
   ]
  },
  {
   "cell_type": "code",
   "execution_count": 132,
   "id": "14cf852b-da6d-4144-8b36-4094de478fe4",
   "metadata": {},
   "outputs": [
    {
     "data": {
      "text/plain": [
       "0        Jeep\n",
       "2      Toyota\n",
       "3       Honda\n",
       "4    Mahindra\n",
       "Name: car_name, dtype: object"
      ]
     },
     "execution_count": 132,
     "metadata": {},
     "output_type": "execute_result"
    }
   ],
   "source": [
    "dataset[\"car_name\"].apply(company_name)"
   ]
  },
  {
   "cell_type": "code",
   "execution_count": 133,
   "id": "1a2b5fb3-3d89-4c6f-89ad-960e55b2ec68",
   "metadata": {},
   "outputs": [],
   "source": [
    "# TO add this in the Main Dataset we will do is .......\n",
    "dataset[\"company_name\"]=dataset[\"car_name\"].apply(company_name)"
   ]
  },
  {
   "cell_type": "code",
   "execution_count": 134,
   "id": "19827aa3-c127-4be8-bfbf-f2fde91ae0ca",
   "metadata": {},
   "outputs": [
    {
     "data": {
      "text/html": [
       "<div>\n",
       "<style scoped>\n",
       "    .dataframe tbody tr th:only-of-type {\n",
       "        vertical-align: middle;\n",
       "    }\n",
       "\n",
       "    .dataframe tbody tr th {\n",
       "        vertical-align: top;\n",
       "    }\n",
       "\n",
       "    .dataframe thead th {\n",
       "        text-align: right;\n",
       "    }\n",
       "</style>\n",
       "<table border=\"1\" class=\"dataframe\">\n",
       "  <thead>\n",
       "    <tr style=\"text-align: right;\">\n",
       "      <th></th>\n",
       "      <th>car_name</th>\n",
       "      <th>car_prices_in_rupee</th>\n",
       "      <th>kms_driven</th>\n",
       "      <th>fuel_type</th>\n",
       "      <th>transmission</th>\n",
       "      <th>ownership</th>\n",
       "      <th>manufacture</th>\n",
       "      <th>engine</th>\n",
       "      <th>Seats</th>\n",
       "      <th>company_name</th>\n",
       "    </tr>\n",
       "  </thead>\n",
       "  <tbody>\n",
       "    <tr>\n",
       "      <th>0</th>\n",
       "      <td>Jeep Compass 2.0 Longitude Option BSIV</td>\n",
       "      <td>10.03 Lakh</td>\n",
       "      <td>86,226 kms</td>\n",
       "      <td>Diesel</td>\n",
       "      <td>Manual</td>\n",
       "      <td>1st Owner</td>\n",
       "      <td>January 15,2017</td>\n",
       "      <td>1956 cc</td>\n",
       "      <td>5 Seats</td>\n",
       "      <td>Jeep</td>\n",
       "    </tr>\n",
       "    <tr>\n",
       "      <th>2</th>\n",
       "      <td>Toyota Camry 2.5 G</td>\n",
       "      <td>16.4</td>\n",
       "      <td>60,343 kms</td>\n",
       "      <td>Petrol</td>\n",
       "      <td>Automatic</td>\n",
       "      <td>1st Owner</td>\n",
       "      <td>January 15,2019</td>\n",
       "      <td>2494 cc</td>\n",
       "      <td>5 Seats</td>\n",
       "      <td>Toyota</td>\n",
       "    </tr>\n",
       "    <tr>\n",
       "      <th>3</th>\n",
       "      <td>Honda Jazz VX CVT</td>\n",
       "      <td>16.40 Crore</td>\n",
       "      <td>26,696 kms</td>\n",
       "      <td>Petrol</td>\n",
       "      <td>Automatic</td>\n",
       "      <td>1st Owner</td>\n",
       "      <td>March 15,2020</td>\n",
       "      <td>1199 cc</td>\n",
       "      <td>5 Seats</td>\n",
       "      <td>Honda</td>\n",
       "    </tr>\n",
       "    <tr>\n",
       "      <th>4</th>\n",
       "      <td>Mahindra XUV300 W6</td>\n",
       "      <td>35,000</td>\n",
       "      <td>65,000 kms</td>\n",
       "      <td>Diesel</td>\n",
       "      <td>Automatic</td>\n",
       "      <td>2nd Owner</td>\n",
       "      <td>January 15,2020</td>\n",
       "      <td>2000 cc</td>\n",
       "      <td>2 Seats</td>\n",
       "      <td>Mahindra</td>\n",
       "    </tr>\n",
       "  </tbody>\n",
       "</table>\n",
       "</div>"
      ],
      "text/plain": [
       "                                 car_name car_prices_in_rupee  kms_driven  \\\n",
       "0  Jeep Compass 2.0 Longitude Option BSIV          10.03 Lakh  86,226 kms   \n",
       "2                      Toyota Camry 2.5 G                16.4  60,343 kms   \n",
       "3                       Honda Jazz VX CVT         16.40 Crore  26,696 kms   \n",
       "4                      Mahindra XUV300 W6              35,000  65,000 kms   \n",
       "\n",
       "  fuel_type transmission  ownership      manufacture   engine    Seats  \\\n",
       "0    Diesel       Manual  1st Owner  January 15,2017  1956 cc  5 Seats   \n",
       "2    Petrol    Automatic  1st Owner  January 15,2019  2494 cc  5 Seats   \n",
       "3    Petrol    Automatic  1st Owner    March 15,2020  1199 cc  5 Seats   \n",
       "4    Diesel    Automatic  2nd Owner  January 15,2020  2000 cc  2 Seats   \n",
       "\n",
       "  company_name  \n",
       "0         Jeep  \n",
       "2       Toyota  \n",
       "3        Honda  \n",
       "4     Mahindra  "
      ]
     },
     "execution_count": 134,
     "metadata": {},
     "output_type": "execute_result"
    }
   ],
   "source": [
    "dataset"
   ]
  },
  {
   "cell_type": "code",
   "execution_count": 135,
   "id": "bab52250-2530-4c51-b153-2054a839067b",
   "metadata": {},
   "outputs": [],
   "source": [
    "# To Create the customize function --> for the car_name\n",
    "def car_name(x):\n",
    "    return x[x.index(\" \")+1:]"
   ]
  },
  {
   "cell_type": "code",
   "execution_count": 136,
   "id": "d33a816c-7c63-4a31-8bfb-8734658aad5a",
   "metadata": {},
   "outputs": [
    {
     "data": {
      "text/plain": [
       "0    Compass 2.0 Longitude Option BSIV\n",
       "2                          Camry 2.5 G\n",
       "3                          Jazz VX CVT\n",
       "4                            XUV300 W6\n",
       "Name: car_name, dtype: object"
      ]
     },
     "execution_count": 136,
     "metadata": {},
     "output_type": "execute_result"
    }
   ],
   "source": [
    "dataset[\"car_name\"].apply(car_name)"
   ]
  },
  {
   "cell_type": "code",
   "execution_count": 137,
   "id": "55a53b56-7480-408d-8221-e74935dd730d",
   "metadata": {},
   "outputs": [],
   "source": [
    "dataset[\"car_name\"]=dataset[\"car_name\"].apply(car_name)"
   ]
  },
  {
   "cell_type": "code",
   "execution_count": 138,
   "id": "fab14ac8-5717-4636-aecc-0b0bfe19e9bf",
   "metadata": {},
   "outputs": [
    {
     "data": {
      "text/html": [
       "<div>\n",
       "<style scoped>\n",
       "    .dataframe tbody tr th:only-of-type {\n",
       "        vertical-align: middle;\n",
       "    }\n",
       "\n",
       "    .dataframe tbody tr th {\n",
       "        vertical-align: top;\n",
       "    }\n",
       "\n",
       "    .dataframe thead th {\n",
       "        text-align: right;\n",
       "    }\n",
       "</style>\n",
       "<table border=\"1\" class=\"dataframe\">\n",
       "  <thead>\n",
       "    <tr style=\"text-align: right;\">\n",
       "      <th></th>\n",
       "      <th>car_name</th>\n",
       "      <th>car_prices_in_rupee</th>\n",
       "      <th>kms_driven</th>\n",
       "      <th>fuel_type</th>\n",
       "      <th>transmission</th>\n",
       "      <th>ownership</th>\n",
       "      <th>manufacture</th>\n",
       "      <th>engine</th>\n",
       "      <th>Seats</th>\n",
       "      <th>company_name</th>\n",
       "    </tr>\n",
       "  </thead>\n",
       "  <tbody>\n",
       "    <tr>\n",
       "      <th>0</th>\n",
       "      <td>Compass 2.0 Longitude Option BSIV</td>\n",
       "      <td>10.03 Lakh</td>\n",
       "      <td>86,226 kms</td>\n",
       "      <td>Diesel</td>\n",
       "      <td>Manual</td>\n",
       "      <td>1st Owner</td>\n",
       "      <td>January 15,2017</td>\n",
       "      <td>1956 cc</td>\n",
       "      <td>5 Seats</td>\n",
       "      <td>Jeep</td>\n",
       "    </tr>\n",
       "    <tr>\n",
       "      <th>2</th>\n",
       "      <td>Camry 2.5 G</td>\n",
       "      <td>16.4</td>\n",
       "      <td>60,343 kms</td>\n",
       "      <td>Petrol</td>\n",
       "      <td>Automatic</td>\n",
       "      <td>1st Owner</td>\n",
       "      <td>January 15,2019</td>\n",
       "      <td>2494 cc</td>\n",
       "      <td>5 Seats</td>\n",
       "      <td>Toyota</td>\n",
       "    </tr>\n",
       "    <tr>\n",
       "      <th>3</th>\n",
       "      <td>Jazz VX CVT</td>\n",
       "      <td>16.40 Crore</td>\n",
       "      <td>26,696 kms</td>\n",
       "      <td>Petrol</td>\n",
       "      <td>Automatic</td>\n",
       "      <td>1st Owner</td>\n",
       "      <td>March 15,2020</td>\n",
       "      <td>1199 cc</td>\n",
       "      <td>5 Seats</td>\n",
       "      <td>Honda</td>\n",
       "    </tr>\n",
       "    <tr>\n",
       "      <th>4</th>\n",
       "      <td>XUV300 W6</td>\n",
       "      <td>35,000</td>\n",
       "      <td>65,000 kms</td>\n",
       "      <td>Diesel</td>\n",
       "      <td>Automatic</td>\n",
       "      <td>2nd Owner</td>\n",
       "      <td>January 15,2020</td>\n",
       "      <td>2000 cc</td>\n",
       "      <td>2 Seats</td>\n",
       "      <td>Mahindra</td>\n",
       "    </tr>\n",
       "  </tbody>\n",
       "</table>\n",
       "</div>"
      ],
      "text/plain": [
       "                            car_name car_prices_in_rupee  kms_driven  \\\n",
       "0  Compass 2.0 Longitude Option BSIV          10.03 Lakh  86,226 kms   \n",
       "2                        Camry 2.5 G                16.4  60,343 kms   \n",
       "3                        Jazz VX CVT         16.40 Crore  26,696 kms   \n",
       "4                          XUV300 W6              35,000  65,000 kms   \n",
       "\n",
       "  fuel_type transmission  ownership      manufacture   engine    Seats  \\\n",
       "0    Diesel       Manual  1st Owner  January 15,2017  1956 cc  5 Seats   \n",
       "2    Petrol    Automatic  1st Owner  January 15,2019  2494 cc  5 Seats   \n",
       "3    Petrol    Automatic  1st Owner    March 15,2020  1199 cc  5 Seats   \n",
       "4    Diesel    Automatic  2nd Owner  January 15,2020  2000 cc  2 Seats   \n",
       "\n",
       "  company_name  \n",
       "0         Jeep  \n",
       "2       Toyota  \n",
       "3        Honda  \n",
       "4     Mahindra  "
      ]
     },
     "execution_count": 138,
     "metadata": {},
     "output_type": "execute_result"
    }
   ],
   "source": [
    "dataset"
   ]
  },
  {
   "cell_type": "markdown",
   "id": "b81152af-b5b2-495b-9a96-e77def38c920",
   "metadata": {},
   "source": [
    "### Car_Price_in_Rupee"
   ]
  },
  {
   "cell_type": "code",
   "execution_count": 139,
   "id": "19d59076-41f0-4565-bb80-af5a9d4de07b",
   "metadata": {},
   "outputs": [
    {
     "data": {
      "text/plain": [
       "0     10.03 Lakh\n",
       "2           16.4\n",
       "3    16.40 Crore\n",
       "4         35,000\n",
       "Name: car_prices_in_rupee, dtype: object"
      ]
     },
     "execution_count": 139,
     "metadata": {},
     "output_type": "execute_result"
    }
   ],
   "source": [
    "dataset[\"car_prices_in_rupee\"]"
   ]
  },
  {
   "cell_type": "raw",
   "id": "02873054-c809-49f4-aa75-5f62ff0d1126",
   "metadata": {},
   "source": [
    "35,000, 10.03 Lakh, 16.40 Crore\n",
    "-->In pandas Under a number comma is not supported \n",
    "--> Lakh has to remove \n",
    "--> Crore has to remove too"
   ]
  },
  {
   "cell_type": "code",
   "execution_count": null,
   "id": "81f15911-89ae-46c7-954c-d0d75b88cdcf",
   "metadata": {},
   "outputs": [],
   "source": [
    "                 ---------------------->>> Concept of removing Something Form the Date <<<<<<<<<<<<<<<<---------------------------------- "
   ]
  },
  {
   "cell_type": "raw",
   "id": "b81f689f-3ff0-4165-8f32-a56aeb6b73ac",
   "metadata": {},
   "source": [
    "'''\n",
    "# Remove the coma first ---> using [str] and [replace]   ==> like 35,000\n",
    "dataset[\"car_prices_in_rupee\"] = dataset[\"car_prices_in_rupee\"].str.replace(\",\",\"\") \n",
    "\n",
    "output: \n",
    " 35000\n",
    "\n",
    "1956 cc\n",
    "\n",
    "#To remove this CC\n",
    "# Remove the sapce with cc first --> using [str] and [replace]\n",
    "dataset[\"engine\"] = dataset[\"engine\"].str.replace(\" cc\",\"\")\n",
    "\n",
    "Output: \n",
    " 1956\n",
    "\n",
    "January 15,2017\n",
    "\n",
    "#To Remove the coma first ---> using [str] and [replace]\n",
    "dataset[\"manufacture\"] = dataset[\"manufacture\"].str.replace(\",\",\" ,\")\n",
    "\n",
    "Output : \n",
    " 2017-01-15\n",
    "\n",
    " '''"
   ]
  },
  {
   "cell_type": "code",
   "execution_count": 140,
   "id": "19691460-2ffc-42fe-b240-12a5e9b35e10",
   "metadata": {},
   "outputs": [],
   "source": [
    "# Remove the coma first ---> using [str] and [replace]   ==> like 35,000\n",
    "dataset[\"car_prices_in_rupee\"] = dataset[\"car_prices_in_rupee\"].str.replace(\",\",\"\")"
   ]
  },
  {
   "cell_type": "code",
   "execution_count": 141,
   "id": "292d7e89-0bcb-4c12-b0d8-e53fb998f85a",
   "metadata": {},
   "outputs": [
    {
     "data": {
      "text/plain": [
       "1639999999.9999998"
      ]
     },
     "execution_count": 141,
     "metadata": {},
     "output_type": "execute_result"
    }
   ],
   "source": [
    "# 16.40 crore --> 16.40* 100000000\n",
    "16.40* 100000000\n",
    "\n",
    "# [\"16.40\", \"Crore\"] ekhane 0 index = 16.40-->p[0]   And Crore hocce = 1 index -->p[1]\n",
    "# [\"10.03\", \"Lakh\"] ekhane 0 index = 10.03-->p[0]  And Lakh hocce = 1 index -->p[1]"
   ]
  },
  {
   "cell_type": "code",
   "execution_count": 142,
   "id": "93fb2c09-7d73-44ea-b8af-fe02f469fdc4",
   "metadata": {},
   "outputs": [
    {
     "data": {
      "text/plain": [
       "['10.03', 'Lakh']"
      ]
     },
     "execution_count": 142,
     "metadata": {},
     "output_type": "execute_result"
    }
   ],
   "source": [
    "# The steps that i am going to do is--> Step: 1\n",
    "l= \"10.03 Lakh\"\n",
    "a = l.split(\" \")\n",
    "a # Now I will find the Data in the list"
   ]
  },
  {
   "cell_type": "code",
   "execution_count": 143,
   "id": "2ff7803c-2f06-4fc9-92df-97639edcf0f7",
   "metadata": {},
   "outputs": [
    {
     "data": {
      "text/plain": [
       "'10.03'"
      ]
     },
     "execution_count": 143,
     "metadata": {},
     "output_type": "execute_result"
    }
   ],
   "source": [
    "# Working with 28.90 or index = zero --> step: 2\n",
    "l= \"10.03 Lakh\"\n",
    "a = l.split(\" \")\n",
    "a[0]"
   ]
  },
  {
   "cell_type": "code",
   "execution_count": 144,
   "id": "5c5afc6c-a99d-43a4-8200-326c98056e07",
   "metadata": {},
   "outputs": [
    {
     "data": {
      "text/plain": [
       "10.03"
      ]
     },
     "execution_count": 144,
     "metadata": {},
     "output_type": "execute_result"
    }
   ],
   "source": [
    "# Convertng this into Float --> Step: 3\n",
    "l= \"10.03 Lakh\"\n",
    "a = l.split(\" \")\n",
    "float(a[0]) "
   ]
  },
  {
   "cell_type": "code",
   "execution_count": 145,
   "id": "c5c9e558-c8f7-483e-9378-cb39c12f1051",
   "metadata": {},
   "outputs": [
    {
     "data": {
      "text/plain": [
       "1002999.9999999999"
      ]
     },
     "execution_count": 145,
     "metadata": {},
     "output_type": "execute_result"
    }
   ],
   "source": [
    "# Now I Will Multiply this value 28.9 by 100000 -> so that I find the Number in thousands --> step: 4\n",
    "l= \"10.03 Lakh\"\n",
    "a = l.split(\" \")\n",
    "float(a[0])*100000"
   ]
  },
  {
   "cell_type": "code",
   "execution_count": 146,
   "id": "675b7208-6d00-44f0-9c46-9b3ae7686380",
   "metadata": {},
   "outputs": [
    {
     "data": {
      "text/plain": [
       "1003000.0"
      ]
     },
     "execution_count": 146,
     "metadata": {},
     "output_type": "execute_result"
    }
   ],
   "source": [
    "# If any round value, to reduce that mistake we will use the Round function --> step: 5\n",
    "#Such that round(3.14159, 2) rounds the number to two decimal places, resulting in 3.14.\n",
    "l= \"10.03 Lakh\"\n",
    "a = l.split(\" \")\n",
    "round(float(a[0])*100000,1)"
   ]
  },
  {
   "cell_type": "raw",
   "id": "11f81526-6c04-4935-ba21-ae3a0d7163c8",
   "metadata": {},
   "source": [
    "                                       -->>>>>>># Step: 1 To Step: 5 in Coding style #<<<<--------------"
   ]
  },
  {
   "cell_type": "code",
   "execution_count": 147,
   "id": "2336efc7-5859-41c8-ab23-44baa1b70fba",
   "metadata": {},
   "outputs": [],
   "source": [
    "# To Create this Function And -> pura process jeta hocce sheta String Format e convert kore again insert korteci \n",
    "\n",
    "#try and except: Handles unexpected errors (like missing or malformed input) and prevents your program from crashing.\n",
    "#else: Provides an alternative path if none of the if or elif conditions are met, but it does not handle errors.\n",
    "\n",
    "\n",
    "def rupe_change(x):\n",
    "    p = x.split(\" \")\n",
    "    try:\n",
    "        if p[1] == \"Lakh\":\n",
    "            return str(round(float(p[0]) * 100000, 1))\n",
    "        elif p[1] == \"Crore\":\n",
    "            return str(round(float(p[0]) * 10000000, 1))\n",
    "    except:\n",
    "        return x\n"
   ]
  },
  {
   "cell_type": "code",
   "execution_count": 148,
   "id": "b4531018-9e8d-4ed0-91fa-444ce784a650",
   "metadata": {},
   "outputs": [
    {
     "data": {
      "text/plain": [
       "0      1003000.0\n",
       "2           16.4\n",
       "3    164000000.0\n",
       "4          35000\n",
       "Name: car_prices_in_rupee, dtype: object"
      ]
     },
     "execution_count": 148,
     "metadata": {},
     "output_type": "execute_result"
    }
   ],
   "source": [
    "dataset[\"car_prices_in_rupee\"].apply(rupe_change)"
   ]
  },
  {
   "cell_type": "code",
   "execution_count": 149,
   "id": "929757cb-163f-463f-a314-34530a727a3d",
   "metadata": {},
   "outputs": [],
   "source": [
    "# To check the conversion type\n",
    "dataset[\"car_prices_in_rupee\"] =dataset[\"car_prices_in_rupee\"].apply(rupe_change)"
   ]
  },
  {
   "cell_type": "code",
   "execution_count": 150,
   "id": "ef571993-269f-48f8-8a18-aa351de99bdb",
   "metadata": {},
   "outputs": [
    {
     "name": "stdout",
     "output_type": "stream",
     "text": [
      "<class 'pandas.core.frame.DataFrame'>\n",
      "Index: 4 entries, 0 to 4\n",
      "Data columns (total 10 columns):\n",
      " #   Column               Non-Null Count  Dtype \n",
      "---  ------               --------------  ----- \n",
      " 0   car_name             4 non-null      object\n",
      " 1   car_prices_in_rupee  4 non-null      object\n",
      " 2   kms_driven           4 non-null      object\n",
      " 3   fuel_type            4 non-null      object\n",
      " 4   transmission         4 non-null      object\n",
      " 5   ownership            4 non-null      object\n",
      " 6   manufacture          4 non-null      object\n",
      " 7   engine               4 non-null      object\n",
      " 8   Seats                4 non-null      object\n",
      " 9   company_name         4 non-null      object\n",
      "dtypes: object(10)\n",
      "memory usage: 524.0+ bytes\n"
     ]
    }
   ],
   "source": [
    "dataset.info()"
   ]
  },
  {
   "cell_type": "code",
   "execution_count": 151,
   "id": "76cb2761-c7ea-4656-a27b-c297e720d389",
   "metadata": {},
   "outputs": [
    {
     "data": {
      "text/plain": [
       "0      1003000.0\n",
       "2           16.4\n",
       "3    164000000.0\n",
       "4        35000.0\n",
       "Name: car_prices_in_rupee, dtype: float64"
      ]
     },
     "execution_count": 151,
     "metadata": {},
     "output_type": "execute_result"
    }
   ],
   "source": [
    "# In the above section I see, the car_price_in_rupee is still in Object Form  \n",
    "# So let's Convert this into float Value \n",
    "\n",
    "dataset[\"car_prices_in_rupee\"].astype(\"float\") # Now it is converted into floating Value\n"
   ]
  },
  {
   "cell_type": "code",
   "execution_count": 152,
   "id": "7e3a8872-277d-4edb-b622-353f012cceaa",
   "metadata": {},
   "outputs": [],
   "source": [
    "#Now loading this into the Dataset\n",
    "dataset[\"car_prices_in_rupee\"]=dataset[\"car_prices_in_rupee\"].astype(\"float64\") # Now it is converted into floating Value"
   ]
  },
  {
   "cell_type": "code",
   "execution_count": 153,
   "id": "a764105c-c762-43d3-a757-edbec470a17b",
   "metadata": {},
   "outputs": [
    {
     "data": {
      "text/html": [
       "<div>\n",
       "<style scoped>\n",
       "    .dataframe tbody tr th:only-of-type {\n",
       "        vertical-align: middle;\n",
       "    }\n",
       "\n",
       "    .dataframe tbody tr th {\n",
       "        vertical-align: top;\n",
       "    }\n",
       "\n",
       "    .dataframe thead th {\n",
       "        text-align: right;\n",
       "    }\n",
       "</style>\n",
       "<table border=\"1\" class=\"dataframe\">\n",
       "  <thead>\n",
       "    <tr style=\"text-align: right;\">\n",
       "      <th></th>\n",
       "      <th>car_name</th>\n",
       "      <th>car_prices_in_rupee</th>\n",
       "      <th>kms_driven</th>\n",
       "      <th>fuel_type</th>\n",
       "      <th>transmission</th>\n",
       "      <th>ownership</th>\n",
       "      <th>manufacture</th>\n",
       "      <th>engine</th>\n",
       "      <th>Seats</th>\n",
       "      <th>company_name</th>\n",
       "    </tr>\n",
       "  </thead>\n",
       "  <tbody>\n",
       "    <tr>\n",
       "      <th>0</th>\n",
       "      <td>Compass 2.0 Longitude Option BSIV</td>\n",
       "      <td>1003000.0</td>\n",
       "      <td>86,226 kms</td>\n",
       "      <td>Diesel</td>\n",
       "      <td>Manual</td>\n",
       "      <td>1st Owner</td>\n",
       "      <td>January 15,2017</td>\n",
       "      <td>1956 cc</td>\n",
       "      <td>5 Seats</td>\n",
       "      <td>Jeep</td>\n",
       "    </tr>\n",
       "    <tr>\n",
       "      <th>2</th>\n",
       "      <td>Camry 2.5 G</td>\n",
       "      <td>16.4</td>\n",
       "      <td>60,343 kms</td>\n",
       "      <td>Petrol</td>\n",
       "      <td>Automatic</td>\n",
       "      <td>1st Owner</td>\n",
       "      <td>January 15,2019</td>\n",
       "      <td>2494 cc</td>\n",
       "      <td>5 Seats</td>\n",
       "      <td>Toyota</td>\n",
       "    </tr>\n",
       "    <tr>\n",
       "      <th>3</th>\n",
       "      <td>Jazz VX CVT</td>\n",
       "      <td>164000000.0</td>\n",
       "      <td>26,696 kms</td>\n",
       "      <td>Petrol</td>\n",
       "      <td>Automatic</td>\n",
       "      <td>1st Owner</td>\n",
       "      <td>March 15,2020</td>\n",
       "      <td>1199 cc</td>\n",
       "      <td>5 Seats</td>\n",
       "      <td>Honda</td>\n",
       "    </tr>\n",
       "    <tr>\n",
       "      <th>4</th>\n",
       "      <td>XUV300 W6</td>\n",
       "      <td>35000.0</td>\n",
       "      <td>65,000 kms</td>\n",
       "      <td>Diesel</td>\n",
       "      <td>Automatic</td>\n",
       "      <td>2nd Owner</td>\n",
       "      <td>January 15,2020</td>\n",
       "      <td>2000 cc</td>\n",
       "      <td>2 Seats</td>\n",
       "      <td>Mahindra</td>\n",
       "    </tr>\n",
       "  </tbody>\n",
       "</table>\n",
       "</div>"
      ],
      "text/plain": [
       "                            car_name  car_prices_in_rupee  kms_driven  \\\n",
       "0  Compass 2.0 Longitude Option BSIV            1003000.0  86,226 kms   \n",
       "2                        Camry 2.5 G                 16.4  60,343 kms   \n",
       "3                        Jazz VX CVT          164000000.0  26,696 kms   \n",
       "4                          XUV300 W6              35000.0  65,000 kms   \n",
       "\n",
       "  fuel_type transmission  ownership      manufacture   engine    Seats  \\\n",
       "0    Diesel       Manual  1st Owner  January 15,2017  1956 cc  5 Seats   \n",
       "2    Petrol    Automatic  1st Owner  January 15,2019  2494 cc  5 Seats   \n",
       "3    Petrol    Automatic  1st Owner    March 15,2020  1199 cc  5 Seats   \n",
       "4    Diesel    Automatic  2nd Owner  January 15,2020  2000 cc  2 Seats   \n",
       "\n",
       "  company_name  \n",
       "0         Jeep  \n",
       "2       Toyota  \n",
       "3        Honda  \n",
       "4     Mahindra  "
      ]
     },
     "execution_count": 153,
     "metadata": {},
     "output_type": "execute_result"
    }
   ],
   "source": [
    "dataset"
   ]
  },
  {
   "cell_type": "markdown",
   "id": "91e5c545-1365-45f0-b84f-92588b9e130b",
   "metadata": {},
   "source": [
    "### Kms_driveen"
   ]
  },
  {
   "cell_type": "code",
   "execution_count": 154,
   "id": "8d533c1d-f0ab-4ad0-bd10-46ae7bab6444",
   "metadata": {},
   "outputs": [
    {
     "data": {
      "text/plain": [
       "0    86,226 kms\n",
       "2    60,343 kms\n",
       "3    26,696 kms\n",
       "4    65,000 kms\n",
       "Name: kms_driven, dtype: object"
      ]
     },
     "execution_count": 154,
     "metadata": {},
     "output_type": "execute_result"
    }
   ],
   "source": [
    "# I Have to remove the coma here and Kms As well , simplify problem only \n",
    "dataset[\"kms_driven\"]"
   ]
  },
  {
   "cell_type": "code",
   "execution_count": 155,
   "id": "f33886e1-64f6-439d-bfd6-8656b425ea53",
   "metadata": {},
   "outputs": [],
   "source": [
    "# Remove the coma first ---> using [str] and [replace]\n",
    "dataset[\"kms_driven\"] = dataset[\"kms_driven\"].str.replace(\",\",\"\")"
   ]
  },
  {
   "cell_type": "code",
   "execution_count": 156,
   "id": "24eb016f-a4d7-4f44-80b2-8ad6b396da7b",
   "metadata": {},
   "outputs": [],
   "source": [
    "# Remove the sapce with kms first --> using [str] and [replace]\n",
    "dataset[\"kms_driven\"] = dataset[\"kms_driven\"].str.replace(\" kms\",\"\")"
   ]
  },
  {
   "cell_type": "code",
   "execution_count": 157,
   "id": "5d9462ae-068b-496f-ab9f-34993d87b821",
   "metadata": {},
   "outputs": [
    {
     "data": {
      "text/plain": [
       "0    86226\n",
       "2    60343\n",
       "3    26696\n",
       "4    65000\n",
       "Name: kms_driven, dtype: object"
      ]
     },
     "execution_count": 157,
     "metadata": {},
     "output_type": "execute_result"
    }
   ],
   "source": [
    "dataset['kms_driven'] # But it is Object from Data or String type Data"
   ]
  },
  {
   "cell_type": "code",
   "execution_count": 158,
   "id": "eb0f66eb-392f-4220-85b8-f42272c14d2f",
   "metadata": {},
   "outputs": [
    {
     "data": {
      "text/plain": [
       "0    86226\n",
       "2    60343\n",
       "3    26696\n",
       "4    65000\n",
       "Name: kms_driven, dtype: int64"
      ]
     },
     "execution_count": 158,
     "metadata": {},
     "output_type": "execute_result"
    }
   ],
   "source": [
    "# Dat convert this object form to Integer Type Data\n",
    "dataset['kms_driven'].astype(\"int64\")"
   ]
  },
  {
   "cell_type": "code",
   "execution_count": 159,
   "id": "9a9d825a-ad0c-4232-8510-fe6d1d9ca998",
   "metadata": {},
   "outputs": [],
   "source": [
    "#Now loading this into the Dataset\n",
    "dataset[\"kms_driven\"]=dataset['kms_driven'].astype(\"int64\")"
   ]
  },
  {
   "cell_type": "code",
   "execution_count": 160,
   "id": "bc59ae76-93cf-49e0-b96b-a1c325f86586",
   "metadata": {},
   "outputs": [
    {
     "data": {
      "text/html": [
       "<div>\n",
       "<style scoped>\n",
       "    .dataframe tbody tr th:only-of-type {\n",
       "        vertical-align: middle;\n",
       "    }\n",
       "\n",
       "    .dataframe tbody tr th {\n",
       "        vertical-align: top;\n",
       "    }\n",
       "\n",
       "    .dataframe thead th {\n",
       "        text-align: right;\n",
       "    }\n",
       "</style>\n",
       "<table border=\"1\" class=\"dataframe\">\n",
       "  <thead>\n",
       "    <tr style=\"text-align: right;\">\n",
       "      <th></th>\n",
       "      <th>car_name</th>\n",
       "      <th>car_prices_in_rupee</th>\n",
       "      <th>kms_driven</th>\n",
       "      <th>fuel_type</th>\n",
       "      <th>transmission</th>\n",
       "      <th>ownership</th>\n",
       "      <th>manufacture</th>\n",
       "      <th>engine</th>\n",
       "      <th>Seats</th>\n",
       "      <th>company_name</th>\n",
       "    </tr>\n",
       "  </thead>\n",
       "  <tbody>\n",
       "    <tr>\n",
       "      <th>0</th>\n",
       "      <td>Compass 2.0 Longitude Option BSIV</td>\n",
       "      <td>1003000.0</td>\n",
       "      <td>86226</td>\n",
       "      <td>Diesel</td>\n",
       "      <td>Manual</td>\n",
       "      <td>1st Owner</td>\n",
       "      <td>January 15,2017</td>\n",
       "      <td>1956 cc</td>\n",
       "      <td>5 Seats</td>\n",
       "      <td>Jeep</td>\n",
       "    </tr>\n",
       "    <tr>\n",
       "      <th>2</th>\n",
       "      <td>Camry 2.5 G</td>\n",
       "      <td>16.4</td>\n",
       "      <td>60343</td>\n",
       "      <td>Petrol</td>\n",
       "      <td>Automatic</td>\n",
       "      <td>1st Owner</td>\n",
       "      <td>January 15,2019</td>\n",
       "      <td>2494 cc</td>\n",
       "      <td>5 Seats</td>\n",
       "      <td>Toyota</td>\n",
       "    </tr>\n",
       "    <tr>\n",
       "      <th>3</th>\n",
       "      <td>Jazz VX CVT</td>\n",
       "      <td>164000000.0</td>\n",
       "      <td>26696</td>\n",
       "      <td>Petrol</td>\n",
       "      <td>Automatic</td>\n",
       "      <td>1st Owner</td>\n",
       "      <td>March 15,2020</td>\n",
       "      <td>1199 cc</td>\n",
       "      <td>5 Seats</td>\n",
       "      <td>Honda</td>\n",
       "    </tr>\n",
       "    <tr>\n",
       "      <th>4</th>\n",
       "      <td>XUV300 W6</td>\n",
       "      <td>35000.0</td>\n",
       "      <td>65000</td>\n",
       "      <td>Diesel</td>\n",
       "      <td>Automatic</td>\n",
       "      <td>2nd Owner</td>\n",
       "      <td>January 15,2020</td>\n",
       "      <td>2000 cc</td>\n",
       "      <td>2 Seats</td>\n",
       "      <td>Mahindra</td>\n",
       "    </tr>\n",
       "  </tbody>\n",
       "</table>\n",
       "</div>"
      ],
      "text/plain": [
       "                            car_name  car_prices_in_rupee  kms_driven  \\\n",
       "0  Compass 2.0 Longitude Option BSIV            1003000.0       86226   \n",
       "2                        Camry 2.5 G                 16.4       60343   \n",
       "3                        Jazz VX CVT          164000000.0       26696   \n",
       "4                          XUV300 W6              35000.0       65000   \n",
       "\n",
       "  fuel_type transmission  ownership      manufacture   engine    Seats  \\\n",
       "0    Diesel       Manual  1st Owner  January 15,2017  1956 cc  5 Seats   \n",
       "2    Petrol    Automatic  1st Owner  January 15,2019  2494 cc  5 Seats   \n",
       "3    Petrol    Automatic  1st Owner    March 15,2020  1199 cc  5 Seats   \n",
       "4    Diesel    Automatic  2nd Owner  January 15,2020  2000 cc  2 Seats   \n",
       "\n",
       "  company_name  \n",
       "0         Jeep  \n",
       "2       Toyota  \n",
       "3        Honda  \n",
       "4     Mahindra  "
      ]
     },
     "execution_count": 160,
     "metadata": {},
     "output_type": "execute_result"
    }
   ],
   "source": [
    "dataset"
   ]
  },
  {
   "cell_type": "markdown",
   "id": "c1bef18f-b6c0-4995-9633-dfd6f5f060ca",
   "metadata": {},
   "source": [
    "### Fuel_Type"
   ]
  },
  {
   "cell_type": "raw",
   "id": "86ea213a-2e51-42f8-be60-3964ce8dc43e",
   "metadata": {},
   "source": [
    "I will keep this  as it is ......."
   ]
  },
  {
   "cell_type": "markdown",
   "id": "38220ed0-c96b-4160-bc9b-470a978ee957",
   "metadata": {},
   "source": [
    "### Transmissoin "
   ]
  },
  {
   "cell_type": "markdown",
   "id": "9b284462-cf5f-4fb0-8d1e-d2e2c4649237",
   "metadata": {},
   "source": [
    "I will keep this as it is........"
   ]
  },
  {
   "cell_type": "markdown",
   "id": "054e0995-452f-4429-a3ed-a25a8af4b482",
   "metadata": {},
   "source": [
    "### Ownership"
   ]
  },
  {
   "cell_type": "raw",
   "id": "3cb89428-a08c-406d-a8d5-f8aaf1e93f5a",
   "metadata": {},
   "source": [
    "I will keep this as it  but i will have to encode this in 1st order , 2nd order ..But will do it next time ..."
   ]
  },
  {
   "cell_type": "markdown",
   "id": "f69c76b6-b54e-4be1-95fa-ab871b9d716e",
   "metadata": {},
   "source": [
    "### Engine "
   ]
  },
  {
   "cell_type": "code",
   "execution_count": 161,
   "id": "82d1c537-531f-4cfd-8fb2-8c26fef857ac",
   "metadata": {},
   "outputs": [
    {
     "data": {
      "text/plain": [
       "0    1956 cc\n",
       "2    2494 cc\n",
       "3    1199 cc\n",
       "4    2000 cc\n",
       "Name: engine, dtype: object"
      ]
     },
     "execution_count": 161,
     "metadata": {},
     "output_type": "execute_result"
    }
   ],
   "source": [
    "# i have to remove the cc \n",
    "dataset[\"engine\"]"
   ]
  },
  {
   "cell_type": "code",
   "execution_count": 162,
   "id": "163854be-d5ee-4751-94fe-21cd0d209083",
   "metadata": {},
   "outputs": [],
   "source": [
    "# Remove the sapce with cc first --> using [str] and [replace]\n",
    "dataset[\"engine\"] = dataset[\"engine\"].str.replace(\" cc\",\"\")"
   ]
  },
  {
   "cell_type": "code",
   "execution_count": 163,
   "id": "bd96d139-f115-41f4-bc8a-8a7c8011135e",
   "metadata": {},
   "outputs": [],
   "source": [
    "# Dat convert this object form to Integer Type Data\n",
    "dataset[\"engine\"]=dataset['engine'].astype(\"int64\")"
   ]
  },
  {
   "cell_type": "code",
   "execution_count": 164,
   "id": "56afbcfd-aeab-40fa-a844-8862d75dc1c8",
   "metadata": {},
   "outputs": [
    {
     "data": {
      "text/html": [
       "<div>\n",
       "<style scoped>\n",
       "    .dataframe tbody tr th:only-of-type {\n",
       "        vertical-align: middle;\n",
       "    }\n",
       "\n",
       "    .dataframe tbody tr th {\n",
       "        vertical-align: top;\n",
       "    }\n",
       "\n",
       "    .dataframe thead th {\n",
       "        text-align: right;\n",
       "    }\n",
       "</style>\n",
       "<table border=\"1\" class=\"dataframe\">\n",
       "  <thead>\n",
       "    <tr style=\"text-align: right;\">\n",
       "      <th></th>\n",
       "      <th>car_name</th>\n",
       "      <th>car_prices_in_rupee</th>\n",
       "      <th>kms_driven</th>\n",
       "      <th>fuel_type</th>\n",
       "      <th>transmission</th>\n",
       "      <th>ownership</th>\n",
       "      <th>manufacture</th>\n",
       "      <th>engine</th>\n",
       "      <th>Seats</th>\n",
       "      <th>company_name</th>\n",
       "    </tr>\n",
       "  </thead>\n",
       "  <tbody>\n",
       "    <tr>\n",
       "      <th>0</th>\n",
       "      <td>Compass 2.0 Longitude Option BSIV</td>\n",
       "      <td>1003000.0</td>\n",
       "      <td>86226</td>\n",
       "      <td>Diesel</td>\n",
       "      <td>Manual</td>\n",
       "      <td>1st Owner</td>\n",
       "      <td>January 15,2017</td>\n",
       "      <td>1956</td>\n",
       "      <td>5 Seats</td>\n",
       "      <td>Jeep</td>\n",
       "    </tr>\n",
       "    <tr>\n",
       "      <th>2</th>\n",
       "      <td>Camry 2.5 G</td>\n",
       "      <td>16.4</td>\n",
       "      <td>60343</td>\n",
       "      <td>Petrol</td>\n",
       "      <td>Automatic</td>\n",
       "      <td>1st Owner</td>\n",
       "      <td>January 15,2019</td>\n",
       "      <td>2494</td>\n",
       "      <td>5 Seats</td>\n",
       "      <td>Toyota</td>\n",
       "    </tr>\n",
       "    <tr>\n",
       "      <th>3</th>\n",
       "      <td>Jazz VX CVT</td>\n",
       "      <td>164000000.0</td>\n",
       "      <td>26696</td>\n",
       "      <td>Petrol</td>\n",
       "      <td>Automatic</td>\n",
       "      <td>1st Owner</td>\n",
       "      <td>March 15,2020</td>\n",
       "      <td>1199</td>\n",
       "      <td>5 Seats</td>\n",
       "      <td>Honda</td>\n",
       "    </tr>\n",
       "    <tr>\n",
       "      <th>4</th>\n",
       "      <td>XUV300 W6</td>\n",
       "      <td>35000.0</td>\n",
       "      <td>65000</td>\n",
       "      <td>Diesel</td>\n",
       "      <td>Automatic</td>\n",
       "      <td>2nd Owner</td>\n",
       "      <td>January 15,2020</td>\n",
       "      <td>2000</td>\n",
       "      <td>2 Seats</td>\n",
       "      <td>Mahindra</td>\n",
       "    </tr>\n",
       "  </tbody>\n",
       "</table>\n",
       "</div>"
      ],
      "text/plain": [
       "                            car_name  car_prices_in_rupee  kms_driven  \\\n",
       "0  Compass 2.0 Longitude Option BSIV            1003000.0       86226   \n",
       "2                        Camry 2.5 G                 16.4       60343   \n",
       "3                        Jazz VX CVT          164000000.0       26696   \n",
       "4                          XUV300 W6              35000.0       65000   \n",
       "\n",
       "  fuel_type transmission  ownership      manufacture  engine    Seats  \\\n",
       "0    Diesel       Manual  1st Owner  January 15,2017    1956  5 Seats   \n",
       "2    Petrol    Automatic  1st Owner  January 15,2019    2494  5 Seats   \n",
       "3    Petrol    Automatic  1st Owner    March 15,2020    1199  5 Seats   \n",
       "4    Diesel    Automatic  2nd Owner  January 15,2020    2000  2 Seats   \n",
       "\n",
       "  company_name  \n",
       "0         Jeep  \n",
       "2       Toyota  \n",
       "3        Honda  \n",
       "4     Mahindra  "
      ]
     },
     "execution_count": 164,
     "metadata": {},
     "output_type": "execute_result"
    }
   ],
   "source": [
    "dataset"
   ]
  },
  {
   "cell_type": "markdown",
   "id": "8ec9b32e-4593-4b70-9a82-b58f023ca61c",
   "metadata": {},
   "source": [
    "### Seats"
   ]
  },
  {
   "cell_type": "code",
   "execution_count": 165,
   "id": "152919ba-5bd7-4142-8312-01c86eb4c4e8",
   "metadata": {},
   "outputs": [
    {
     "data": {
      "text/plain": [
       "0    5 Seats\n",
       "2    5 Seats\n",
       "3    5 Seats\n",
       "4    2 Seats\n",
       "Name: Seats, dtype: object"
      ]
     },
     "execution_count": 165,
     "metadata": {},
     "output_type": "execute_result"
    }
   ],
   "source": [
    "# I have to remove the seats here \n",
    "dataset[\"Seats\"]"
   ]
  },
  {
   "cell_type": "code",
   "execution_count": 166,
   "id": "67f17ef4-4105-490f-bc1a-e1133901cc23",
   "metadata": {},
   "outputs": [],
   "source": [
    "# Remove the sapce with Seats first --> using [str] and [replace]\n",
    "dataset[\"Seats\"] = dataset[\"Seats\"].str.replace(\" Seats\",\"\")"
   ]
  },
  {
   "cell_type": "code",
   "execution_count": 167,
   "id": "2e75b775-0772-4656-a1b8-0484c60502aa",
   "metadata": {},
   "outputs": [],
   "source": [
    "# Dat convert this object form to Integer Type Data\n",
    "dataset[\"Seats\"]=dataset['Seats'].astype(\"int64\")"
   ]
  },
  {
   "cell_type": "code",
   "execution_count": 168,
   "id": "403514b8-3f85-4565-8423-afde5c428f8e",
   "metadata": {},
   "outputs": [
    {
     "data": {
      "text/html": [
       "<div>\n",
       "<style scoped>\n",
       "    .dataframe tbody tr th:only-of-type {\n",
       "        vertical-align: middle;\n",
       "    }\n",
       "\n",
       "    .dataframe tbody tr th {\n",
       "        vertical-align: top;\n",
       "    }\n",
       "\n",
       "    .dataframe thead th {\n",
       "        text-align: right;\n",
       "    }\n",
       "</style>\n",
       "<table border=\"1\" class=\"dataframe\">\n",
       "  <thead>\n",
       "    <tr style=\"text-align: right;\">\n",
       "      <th></th>\n",
       "      <th>car_name</th>\n",
       "      <th>car_prices_in_rupee</th>\n",
       "      <th>kms_driven</th>\n",
       "      <th>fuel_type</th>\n",
       "      <th>transmission</th>\n",
       "      <th>ownership</th>\n",
       "      <th>manufacture</th>\n",
       "      <th>engine</th>\n",
       "      <th>Seats</th>\n",
       "      <th>company_name</th>\n",
       "    </tr>\n",
       "  </thead>\n",
       "  <tbody>\n",
       "    <tr>\n",
       "      <th>0</th>\n",
       "      <td>Compass 2.0 Longitude Option BSIV</td>\n",
       "      <td>1003000.0</td>\n",
       "      <td>86226</td>\n",
       "      <td>Diesel</td>\n",
       "      <td>Manual</td>\n",
       "      <td>1st Owner</td>\n",
       "      <td>January 15,2017</td>\n",
       "      <td>1956</td>\n",
       "      <td>5</td>\n",
       "      <td>Jeep</td>\n",
       "    </tr>\n",
       "    <tr>\n",
       "      <th>2</th>\n",
       "      <td>Camry 2.5 G</td>\n",
       "      <td>16.4</td>\n",
       "      <td>60343</td>\n",
       "      <td>Petrol</td>\n",
       "      <td>Automatic</td>\n",
       "      <td>1st Owner</td>\n",
       "      <td>January 15,2019</td>\n",
       "      <td>2494</td>\n",
       "      <td>5</td>\n",
       "      <td>Toyota</td>\n",
       "    </tr>\n",
       "    <tr>\n",
       "      <th>3</th>\n",
       "      <td>Jazz VX CVT</td>\n",
       "      <td>164000000.0</td>\n",
       "      <td>26696</td>\n",
       "      <td>Petrol</td>\n",
       "      <td>Automatic</td>\n",
       "      <td>1st Owner</td>\n",
       "      <td>March 15,2020</td>\n",
       "      <td>1199</td>\n",
       "      <td>5</td>\n",
       "      <td>Honda</td>\n",
       "    </tr>\n",
       "    <tr>\n",
       "      <th>4</th>\n",
       "      <td>XUV300 W6</td>\n",
       "      <td>35000.0</td>\n",
       "      <td>65000</td>\n",
       "      <td>Diesel</td>\n",
       "      <td>Automatic</td>\n",
       "      <td>2nd Owner</td>\n",
       "      <td>January 15,2020</td>\n",
       "      <td>2000</td>\n",
       "      <td>2</td>\n",
       "      <td>Mahindra</td>\n",
       "    </tr>\n",
       "  </tbody>\n",
       "</table>\n",
       "</div>"
      ],
      "text/plain": [
       "                            car_name  car_prices_in_rupee  kms_driven  \\\n",
       "0  Compass 2.0 Longitude Option BSIV            1003000.0       86226   \n",
       "2                        Camry 2.5 G                 16.4       60343   \n",
       "3                        Jazz VX CVT          164000000.0       26696   \n",
       "4                          XUV300 W6              35000.0       65000   \n",
       "\n",
       "  fuel_type transmission  ownership      manufacture  engine  Seats  \\\n",
       "0    Diesel       Manual  1st Owner  January 15,2017    1956      5   \n",
       "2    Petrol    Automatic  1st Owner  January 15,2019    2494      5   \n",
       "3    Petrol    Automatic  1st Owner    March 15,2020    1199      5   \n",
       "4    Diesel    Automatic  2nd Owner  January 15,2020    2000      2   \n",
       "\n",
       "  company_name  \n",
       "0         Jeep  \n",
       "2       Toyota  \n",
       "3        Honda  \n",
       "4     Mahindra  "
      ]
     },
     "execution_count": 168,
     "metadata": {},
     "output_type": "execute_result"
    }
   ],
   "source": [
    "dataset"
   ]
  },
  {
   "cell_type": "markdown",
   "id": "807f77d7-acf4-400f-a1c2-f988f1998b40",
   "metadata": {},
   "source": [
    "### Manufacturing Date "
   ]
  },
  {
   "cell_type": "code",
   "execution_count": 180,
   "id": "70ee8dd6-17d3-4594-898c-5169ea319b02",
   "metadata": {},
   "outputs": [
    {
     "data": {
      "text/plain": [
       "0    January 15,2017\n",
       "2    January 15,2019\n",
       "3      March 15,2020\n",
       "4    January 15,2020\n",
       "Name: manufacture, dtype: object"
      ]
     },
     "execution_count": 180,
     "metadata": {},
     "output_type": "execute_result"
    }
   ],
   "source": [
    "dataset[\"manufacture\"]"
   ]
  },
  {
   "cell_type": "raw",
   "id": "c5d62517-ab01-4bc5-b3e2-8b8f049f4493",
   "metadata": {},
   "source": [
    "what i have to do is , convert this into the proper Date form "
   ]
  },
  {
   "cell_type": "code",
   "execution_count": 181,
   "id": "99f3b647-9aac-4bd7-9f3f-8672081972d2",
   "metadata": {},
   "outputs": [],
   "source": [
    "# Remove the coma first ---> using [str] and [replace]\n",
    "dataset[\"manufacture\"] = dataset[\"manufacture\"].str.replace(\",\",\", \")"
   ]
  },
  {
   "cell_type": "code",
   "execution_count": 182,
   "id": "b423dbc8-47f6-42b4-a787-40d019f743d3",
   "metadata": {},
   "outputs": [
    {
     "data": {
      "text/plain": [
       "0   2017-01-15\n",
       "2   2019-01-15\n",
       "3   2020-03-15\n",
       "4   2020-01-15\n",
       "Name: manufacture, dtype: datetime64[ns]"
      ]
     },
     "execution_count": 182,
     "metadata": {},
     "output_type": "execute_result"
    }
   ],
   "source": [
    "pd.to_datetime(dataset['manufacture'])"
   ]
  },
  {
   "cell_type": "code",
   "execution_count": 183,
   "id": "0c9b1b85-22b5-46f8-bcc3-6bf157b400ac",
   "metadata": {},
   "outputs": [],
   "source": [
    "dataset[\"manufacture\"]=pd.to_datetime(dataset['manufacture'])"
   ]
  },
  {
   "cell_type": "code",
   "execution_count": 184,
   "id": "5e5b5a48-0c21-496d-96aa-6bf14dae47c6",
   "metadata": {},
   "outputs": [
    {
     "data": {
      "text/html": [
       "<div>\n",
       "<style scoped>\n",
       "    .dataframe tbody tr th:only-of-type {\n",
       "        vertical-align: middle;\n",
       "    }\n",
       "\n",
       "    .dataframe tbody tr th {\n",
       "        vertical-align: top;\n",
       "    }\n",
       "\n",
       "    .dataframe thead th {\n",
       "        text-align: right;\n",
       "    }\n",
       "</style>\n",
       "<table border=\"1\" class=\"dataframe\">\n",
       "  <thead>\n",
       "    <tr style=\"text-align: right;\">\n",
       "      <th></th>\n",
       "      <th>car_name</th>\n",
       "      <th>car_prices_in_rupee</th>\n",
       "      <th>kms_driven</th>\n",
       "      <th>fuel_type</th>\n",
       "      <th>transmission</th>\n",
       "      <th>ownership</th>\n",
       "      <th>manufacture</th>\n",
       "      <th>engine</th>\n",
       "      <th>Seats</th>\n",
       "      <th>company_name</th>\n",
       "    </tr>\n",
       "  </thead>\n",
       "  <tbody>\n",
       "    <tr>\n",
       "      <th>0</th>\n",
       "      <td>Compass 2.0 Longitude Option BSIV</td>\n",
       "      <td>1003000.0</td>\n",
       "      <td>86226</td>\n",
       "      <td>Diesel</td>\n",
       "      <td>Manual</td>\n",
       "      <td>1st Owner</td>\n",
       "      <td>2017-01-15</td>\n",
       "      <td>1956</td>\n",
       "      <td>5</td>\n",
       "      <td>Jeep</td>\n",
       "    </tr>\n",
       "    <tr>\n",
       "      <th>2</th>\n",
       "      <td>Camry 2.5 G</td>\n",
       "      <td>16.4</td>\n",
       "      <td>60343</td>\n",
       "      <td>Petrol</td>\n",
       "      <td>Automatic</td>\n",
       "      <td>1st Owner</td>\n",
       "      <td>2019-01-15</td>\n",
       "      <td>2494</td>\n",
       "      <td>5</td>\n",
       "      <td>Toyota</td>\n",
       "    </tr>\n",
       "    <tr>\n",
       "      <th>3</th>\n",
       "      <td>Jazz VX CVT</td>\n",
       "      <td>164000000.0</td>\n",
       "      <td>26696</td>\n",
       "      <td>Petrol</td>\n",
       "      <td>Automatic</td>\n",
       "      <td>1st Owner</td>\n",
       "      <td>2020-03-15</td>\n",
       "      <td>1199</td>\n",
       "      <td>5</td>\n",
       "      <td>Honda</td>\n",
       "    </tr>\n",
       "    <tr>\n",
       "      <th>4</th>\n",
       "      <td>XUV300 W6</td>\n",
       "      <td>35000.0</td>\n",
       "      <td>65000</td>\n",
       "      <td>Diesel</td>\n",
       "      <td>Automatic</td>\n",
       "      <td>2nd Owner</td>\n",
       "      <td>2020-01-15</td>\n",
       "      <td>2000</td>\n",
       "      <td>2</td>\n",
       "      <td>Mahindra</td>\n",
       "    </tr>\n",
       "  </tbody>\n",
       "</table>\n",
       "</div>"
      ],
      "text/plain": [
       "                            car_name  car_prices_in_rupee  kms_driven  \\\n",
       "0  Compass 2.0 Longitude Option BSIV            1003000.0       86226   \n",
       "2                        Camry 2.5 G                 16.4       60343   \n",
       "3                        Jazz VX CVT          164000000.0       26696   \n",
       "4                          XUV300 W6              35000.0       65000   \n",
       "\n",
       "  fuel_type transmission  ownership manufacture  engine  Seats company_name  \n",
       "0    Diesel       Manual  1st Owner  2017-01-15    1956      5         Jeep  \n",
       "2    Petrol    Automatic  1st Owner  2019-01-15    2494      5       Toyota  \n",
       "3    Petrol    Automatic  1st Owner  2020-03-15    1199      5        Honda  \n",
       "4    Diesel    Automatic  2nd Owner  2020-01-15    2000      2     Mahindra  "
      ]
     },
     "execution_count": 184,
     "metadata": {},
     "output_type": "execute_result"
    }
   ],
   "source": [
    "dataset"
   ]
  },
  {
   "cell_type": "markdown",
   "id": "30e848aa-c34d-47c5-a46a-651669815f19",
   "metadata": {},
   "source": [
    "# --->>>Now this full Data Set is Ready for The data Analytics<<<-----"
   ]
  },
  {
   "cell_type": "markdown",
   "id": "312c6009-292e-45b4-8cc2-bf27fa0521b6",
   "metadata": {},
   "source": [
    "#                                                      -->> The End <<---"
   ]
  },
  {
   "cell_type": "markdown",
   "id": "26b78818-a720-4f16-b1b4-a71411af663c",
   "metadata": {},
   "source": [
    "### Now way to Save the DataFram in CSE File to my Decstop "
   ]
  },
  {
   "cell_type": "code",
   "execution_count": 190,
   "id": "7ccc5299-26f3-493a-af12-0e2638559969",
   "metadata": {},
   "outputs": [],
   "source": [
    "dataset.to_csv(r'F:\\Python with Data Analytics\\Practise\\CleanedData.csv')"
   ]
  },
  {
   "cell_type": "code",
   "execution_count": null,
   "id": "1259f72c-55be-4586-8647-35e51f17bcaa",
   "metadata": {},
   "outputs": [],
   "source": []
  },
  {
   "cell_type": "code",
   "execution_count": null,
   "id": "519e3be1-0ae2-4269-9d97-d1e3c153472e",
   "metadata": {},
   "outputs": [],
   "source": []
  },
  {
   "cell_type": "code",
   "execution_count": null,
   "id": "d1a90778-e690-4f91-8ab6-a8f55014941a",
   "metadata": {},
   "outputs": [],
   "source": []
  },
  {
   "cell_type": "code",
   "execution_count": null,
   "id": "f6ce2d03-2c4b-4bee-9319-d1bb8a172ac4",
   "metadata": {},
   "outputs": [],
   "source": []
  },
  {
   "cell_type": "code",
   "execution_count": null,
   "id": "6592d317-ffef-4560-97a7-e11b41ab52a0",
   "metadata": {},
   "outputs": [],
   "source": []
  },
  {
   "cell_type": "code",
   "execution_count": null,
   "id": "8fbb88d0-3b5e-486d-9776-7fced610f27a",
   "metadata": {},
   "outputs": [],
   "source": []
  }
 ],
 "metadata": {
  "kernelspec": {
   "display_name": "Python 3 (ipykernel)",
   "language": "python",
   "name": "python3"
  },
  "language_info": {
   "codemirror_mode": {
    "name": "ipython",
    "version": 3
   },
   "file_extension": ".py",
   "mimetype": "text/x-python",
   "name": "python",
   "nbconvert_exporter": "python",
   "pygments_lexer": "ipython3",
   "version": "3.12.3"
  }
 },
 "nbformat": 4,
 "nbformat_minor": 5
}
