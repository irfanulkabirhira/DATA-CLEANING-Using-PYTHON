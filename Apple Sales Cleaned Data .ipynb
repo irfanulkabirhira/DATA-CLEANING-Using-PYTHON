{
 "cells": [
  {
   "cell_type": "code",
   "execution_count": 1,
   "id": "b6fe060e-4d2f-47f7-890d-0025b1eaa4e2",
   "metadata": {
    "scrolled": true
   },
   "outputs": [
    {
     "data": {
      "text/html": [
       "<div>\n",
       "<style scoped>\n",
       "    .dataframe tbody tr th:only-of-type {\n",
       "        vertical-align: middle;\n",
       "    }\n",
       "\n",
       "    .dataframe tbody tr th {\n",
       "        vertical-align: top;\n",
       "    }\n",
       "\n",
       "    .dataframe thead th {\n",
       "        text-align: right;\n",
       "    }\n",
       "</style>\n",
       "<table border=\"1\" class=\"dataframe\">\n",
       "  <thead>\n",
       "    <tr style=\"text-align: right;\">\n",
       "      <th></th>\n",
       "      <th>index</th>\n",
       "      <th>Product Name</th>\n",
       "      <th>Product URL</th>\n",
       "      <th>Brand</th>\n",
       "      <th>Sale Price</th>\n",
       "      <th>Mrp</th>\n",
       "      <th>Discount Percentage</th>\n",
       "      <th>Number Of Ratings</th>\n",
       "      <th>Number Of Reviews</th>\n",
       "      <th>Upc</th>\n",
       "      <th>Star Rating</th>\n",
       "      <th>Ram</th>\n",
       "    </tr>\n",
       "  </thead>\n",
       "  <tbody>\n",
       "    <tr>\n",
       "      <th>0</th>\n",
       "      <td>0</td>\n",
       "      <td>APPLE iPhone 8 Plus (Gold, 64 GB)</td>\n",
       "      <td>https://www.flipkart.com/apple-iphone-8-plus-g...</td>\n",
       "      <td>Apple</td>\n",
       "      <td>49900</td>\n",
       "      <td>49900</td>\n",
       "      <td>0</td>\n",
       "      <td>3431</td>\n",
       "      <td>356</td>\n",
       "      <td>MOBEXRGV7EHHTGUH</td>\n",
       "      <td>4.6</td>\n",
       "      <td>2 GB</td>\n",
       "    </tr>\n",
       "    <tr>\n",
       "      <th>1</th>\n",
       "      <td>1</td>\n",
       "      <td>APPLE iPhone 8 Plus (Space Grey, 256 GB)</td>\n",
       "      <td>https://www.flipkart.com/apple-iphone-8-plus-s...</td>\n",
       "      <td>Apple</td>\n",
       "      <td>84900</td>\n",
       "      <td>84900</td>\n",
       "      <td>0</td>\n",
       "      <td>3431</td>\n",
       "      <td>356</td>\n",
       "      <td>MOBEXRGVAC6TJT4F</td>\n",
       "      <td>4.6</td>\n",
       "      <td>2 GB</td>\n",
       "    </tr>\n",
       "    <tr>\n",
       "      <th>2</th>\n",
       "      <td>2</td>\n",
       "      <td>APPLE iPhone 8 Plus (Silver, 256 GB)</td>\n",
       "      <td>https://www.flipkart.com/apple-iphone-8-plus-s...</td>\n",
       "      <td>Apple</td>\n",
       "      <td>84900</td>\n",
       "      <td>84900</td>\n",
       "      <td>0</td>\n",
       "      <td>3431</td>\n",
       "      <td>356</td>\n",
       "      <td>MOBEXRGVGETABXWZ</td>\n",
       "      <td>4.6</td>\n",
       "      <td>2 GB</td>\n",
       "    </tr>\n",
       "    <tr>\n",
       "      <th>3</th>\n",
       "      <td>3</td>\n",
       "      <td>APPLE iPhone 8 (Silver, 256 GB)</td>\n",
       "      <td>https://www.flipkart.com/apple-iphone-8-silver...</td>\n",
       "      <td>Apple</td>\n",
       "      <td>77000</td>\n",
       "      <td>77000</td>\n",
       "      <td>0</td>\n",
       "      <td>11202</td>\n",
       "      <td>794</td>\n",
       "      <td>MOBEXRGVMZWUHCBA</td>\n",
       "      <td>4.5</td>\n",
       "      <td>2 GB</td>\n",
       "    </tr>\n",
       "    <tr>\n",
       "      <th>4</th>\n",
       "      <td>4</td>\n",
       "      <td>APPLE iPhone 8 (Gold, 256 GB)</td>\n",
       "      <td>https://www.flipkart.com/apple-iphone-8-gold-2...</td>\n",
       "      <td>Apple</td>\n",
       "      <td>77000</td>\n",
       "      <td>77000</td>\n",
       "      <td>0</td>\n",
       "      <td>11202</td>\n",
       "      <td>794</td>\n",
       "      <td>MOBEXRGVPK7PFEJZ</td>\n",
       "      <td>4.5</td>\n",
       "      <td>2 GB</td>\n",
       "    </tr>\n",
       "    <tr>\n",
       "      <th>...</th>\n",
       "      <td>...</td>\n",
       "      <td>...</td>\n",
       "      <td>...</td>\n",
       "      <td>...</td>\n",
       "      <td>...</td>\n",
       "      <td>...</td>\n",
       "      <td>...</td>\n",
       "      <td>...</td>\n",
       "      <td>...</td>\n",
       "      <td>...</td>\n",
       "      <td>...</td>\n",
       "      <td>...</td>\n",
       "    </tr>\n",
       "    <tr>\n",
       "      <th>57</th>\n",
       "      <td>57</td>\n",
       "      <td>APPLE iPhone SE (Black, 64 GB)</td>\n",
       "      <td>https://www.flipkart.com/apple-iphone-se-black...</td>\n",
       "      <td>Apple</td>\n",
       "      <td>29999</td>\n",
       "      <td>39900</td>\n",
       "      <td>24</td>\n",
       "      <td>95909</td>\n",
       "      <td>8161</td>\n",
       "      <td>MOBFWQ6BR3MK7AUG</td>\n",
       "      <td>4.5</td>\n",
       "      <td>4 GB</td>\n",
       "    </tr>\n",
       "    <tr>\n",
       "      <th>58</th>\n",
       "      <td>58</td>\n",
       "      <td>APPLE iPhone 11 (Purple, 64 GB)</td>\n",
       "      <td>https://www.flipkart.com/apple-iphone-11-purpl...</td>\n",
       "      <td>Apple</td>\n",
       "      <td>46999</td>\n",
       "      <td>54900</td>\n",
       "      <td>14</td>\n",
       "      <td>43470</td>\n",
       "      <td>3331</td>\n",
       "      <td>MOBFWQ6BTFFJKGKE</td>\n",
       "      <td>4.6</td>\n",
       "      <td>4 GB</td>\n",
       "    </tr>\n",
       "    <tr>\n",
       "      <th>59</th>\n",
       "      <td>59</td>\n",
       "      <td>APPLE iPhone 11 (White, 64 GB)</td>\n",
       "      <td>https://www.flipkart.com/apple-iphone-11-white...</td>\n",
       "      <td>Apple</td>\n",
       "      <td>46999</td>\n",
       "      <td>54900</td>\n",
       "      <td>14</td>\n",
       "      <td>43470</td>\n",
       "      <td>3331</td>\n",
       "      <td>MOBFWQ6BVWVEH3XE</td>\n",
       "      <td>4.6</td>\n",
       "      <td>4 GB</td>\n",
       "    </tr>\n",
       "    <tr>\n",
       "      <th>60</th>\n",
       "      <td>60</td>\n",
       "      <td>APPLE iPhone 11 (Black, 64 GB)</td>\n",
       "      <td>https://www.flipkart.com/apple-iphone-11-black...</td>\n",
       "      <td>Apple</td>\n",
       "      <td>46999</td>\n",
       "      <td>54900</td>\n",
       "      <td>14</td>\n",
       "      <td>43470</td>\n",
       "      <td>3331</td>\n",
       "      <td>MOBFWQ6BXGJCEYNY</td>\n",
       "      <td>4.6</td>\n",
       "      <td>4 GB</td>\n",
       "    </tr>\n",
       "    <tr>\n",
       "      <th>61</th>\n",
       "      <td>61</td>\n",
       "      <td>APPLE iPhone 11 (Red, 64 GB)</td>\n",
       "      <td>https://www.flipkart.com/apple-iphone-11-red-6...</td>\n",
       "      <td>Apple</td>\n",
       "      <td>46999</td>\n",
       "      <td>54900</td>\n",
       "      <td>14</td>\n",
       "      <td>43470</td>\n",
       "      <td>3331</td>\n",
       "      <td>MOBFWQ6BYYV3FCU7</td>\n",
       "      <td>4.6</td>\n",
       "      <td>4 GB</td>\n",
       "    </tr>\n",
       "  </tbody>\n",
       "</table>\n",
       "<p>62 rows × 12 columns</p>\n",
       "</div>"
      ],
      "text/plain": [
       "    index                              Product Name  \\\n",
       "0       0         APPLE iPhone 8 Plus (Gold, 64 GB)   \n",
       "1       1  APPLE iPhone 8 Plus (Space Grey, 256 GB)   \n",
       "2       2      APPLE iPhone 8 Plus (Silver, 256 GB)   \n",
       "3       3           APPLE iPhone 8 (Silver, 256 GB)   \n",
       "4       4             APPLE iPhone 8 (Gold, 256 GB)   \n",
       "..    ...                                       ...   \n",
       "57     57            APPLE iPhone SE (Black, 64 GB)   \n",
       "58     58           APPLE iPhone 11 (Purple, 64 GB)   \n",
       "59     59            APPLE iPhone 11 (White, 64 GB)   \n",
       "60     60            APPLE iPhone 11 (Black, 64 GB)   \n",
       "61     61              APPLE iPhone 11 (Red, 64 GB)   \n",
       "\n",
       "                                          Product URL  Brand  Sale Price  \\\n",
       "0   https://www.flipkart.com/apple-iphone-8-plus-g...  Apple       49900   \n",
       "1   https://www.flipkart.com/apple-iphone-8-plus-s...  Apple       84900   \n",
       "2   https://www.flipkart.com/apple-iphone-8-plus-s...  Apple       84900   \n",
       "3   https://www.flipkart.com/apple-iphone-8-silver...  Apple       77000   \n",
       "4   https://www.flipkart.com/apple-iphone-8-gold-2...  Apple       77000   \n",
       "..                                                ...    ...         ...   \n",
       "57  https://www.flipkart.com/apple-iphone-se-black...  Apple       29999   \n",
       "58  https://www.flipkart.com/apple-iphone-11-purpl...  Apple       46999   \n",
       "59  https://www.flipkart.com/apple-iphone-11-white...  Apple       46999   \n",
       "60  https://www.flipkart.com/apple-iphone-11-black...  Apple       46999   \n",
       "61  https://www.flipkart.com/apple-iphone-11-red-6...  Apple       46999   \n",
       "\n",
       "      Mrp  Discount Percentage  Number Of Ratings  Number Of Reviews  \\\n",
       "0   49900                    0               3431                356   \n",
       "1   84900                    0               3431                356   \n",
       "2   84900                    0               3431                356   \n",
       "3   77000                    0              11202                794   \n",
       "4   77000                    0              11202                794   \n",
       "..    ...                  ...                ...                ...   \n",
       "57  39900                   24              95909               8161   \n",
       "58  54900                   14              43470               3331   \n",
       "59  54900                   14              43470               3331   \n",
       "60  54900                   14              43470               3331   \n",
       "61  54900                   14              43470               3331   \n",
       "\n",
       "                 Upc  Star Rating   Ram  \n",
       "0   MOBEXRGV7EHHTGUH          4.6  2 GB  \n",
       "1   MOBEXRGVAC6TJT4F          4.6  2 GB  \n",
       "2   MOBEXRGVGETABXWZ          4.6  2 GB  \n",
       "3   MOBEXRGVMZWUHCBA          4.5  2 GB  \n",
       "4   MOBEXRGVPK7PFEJZ          4.5  2 GB  \n",
       "..               ...          ...   ...  \n",
       "57  MOBFWQ6BR3MK7AUG          4.5  4 GB  \n",
       "58  MOBFWQ6BTFFJKGKE          4.6  4 GB  \n",
       "59  MOBFWQ6BVWVEH3XE          4.6  4 GB  \n",
       "60  MOBFWQ6BXGJCEYNY          4.6  4 GB  \n",
       "61  MOBFWQ6BYYV3FCU7          4.6  4 GB  \n",
       "\n",
       "[62 rows x 12 columns]"
      ]
     },
     "execution_count": 1,
     "metadata": {},
     "output_type": "execute_result"
    }
   ],
   "source": [
    "import pandas as pd\n",
    "import numpy as np\n",
    "import plotly.express as px\n",
    "import plotly.graph_objects as go\n",
    "data = pd.read_csv(\"apple_products.csv\")\n",
    "data"
   ]
  },
  {
   "cell_type": "markdown",
   "id": "fe09e4ab-007b-4612-9b33-0e926c69049a",
   "metadata": {},
   "source": [
    "# Data Exploration "
   ]
  },
  {
   "cell_type": "markdown",
   "id": "c9fbc1c5-5efe-435c-9462-4ff993dbe948",
   "metadata": {},
   "source": [
    "## a) OverView"
   ]
  },
  {
   "cell_type": "markdown",
   "id": "46db67fc-c8a1-4e0b-afde-dfa19de113fe",
   "metadata": {},
   "source": [
    "### 1. General Overview"
   ]
  },
  {
   "cell_type": "raw",
   "id": "bfeb3a40-b20a-4d24-a81a-4a58685da023",
   "metadata": {},
   "source": [
    "This step involves checking the number of rows and columns, data types, and a few sample entries."
   ]
  },
  {
   "cell_type": "code",
   "execution_count": 22,
   "id": "084d761d-886c-44ba-bcdb-7e577a6c4039",
   "metadata": {
    "scrolled": true
   },
   "outputs": [
    {
     "name": "stdout",
     "output_type": "stream",
     "text": [
      "DataFrame Info:\n",
      "<class 'pandas.core.frame.DataFrame'>\n",
      "RangeIndex: 62 entries, 0 to 61\n",
      "Data columns (total 15 columns):\n",
      " #   Column               Non-Null Count  Dtype  \n",
      "---  ------               --------------  -----  \n",
      " 0   index                62 non-null     int64  \n",
      " 1   Product Name         62 non-null     object \n",
      " 2   Product URL          62 non-null     object \n",
      " 3   Brand                62 non-null     object \n",
      " 4   Sale Price           62 non-null     int64  \n",
      " 5   Mrp                  62 non-null     int64  \n",
      " 6   Discount Percentage  62 non-null     int64  \n",
      " 7   Number Of Ratings    62 non-null     int64  \n",
      " 8   Number Of Reviews    62 non-null     int64  \n",
      " 9   Upc                  62 non-null     object \n",
      " 10  Star Rating          62 non-null     float64\n",
      " 11  Ram                  62 non-null     object \n",
      " 12  Storage Capacity     62 non-null     object \n",
      " 13  Color                62 non-null     object \n",
      " 14  Model                50 non-null     object \n",
      "dtypes: float64(1), int64(6), object(8)\n",
      "memory usage: 7.4+ KB\n"
     ]
    }
   ],
   "source": [
    "# Check the structure of the DataFrame\n",
    "print(\"DataFrame Info:\")\n",
    "data.info()"
   ]
  },
  {
   "cell_type": "code",
   "execution_count": 23,
   "id": "70599ec5-d91d-46be-83ab-870398ee4c70",
   "metadata": {},
   "outputs": [
    {
     "name": "stdout",
     "output_type": "stream",
     "text": [
      "\n",
      "Number of Rows: 62\n",
      "Number of Columns: 15\n"
     ]
    }
   ],
   "source": [
    "# Check the number of rows and columns\n",
    "print(f\"\\nNumber of Rows: {data.shape[0]}\")\n",
    "print(f\"Number of Columns: {data.shape[1]}\")"
   ]
  },
  {
   "cell_type": "code",
   "execution_count": 24,
   "id": "7b12565c-c711-4f86-ab7c-d6195ffe475e",
   "metadata": {
    "scrolled": true
   },
   "outputs": [
    {
     "name": "stdout",
     "output_type": "stream",
     "text": [
      "\n",
      "Sample Entries:\n"
     ]
    },
    {
     "data": {
      "text/html": [
       "<div>\n",
       "<style scoped>\n",
       "    .dataframe tbody tr th:only-of-type {\n",
       "        vertical-align: middle;\n",
       "    }\n",
       "\n",
       "    .dataframe tbody tr th {\n",
       "        vertical-align: top;\n",
       "    }\n",
       "\n",
       "    .dataframe thead th {\n",
       "        text-align: right;\n",
       "    }\n",
       "</style>\n",
       "<table border=\"1\" class=\"dataframe\">\n",
       "  <thead>\n",
       "    <tr style=\"text-align: right;\">\n",
       "      <th></th>\n",
       "      <th>index</th>\n",
       "      <th>Product Name</th>\n",
       "      <th>Product URL</th>\n",
       "      <th>Brand</th>\n",
       "      <th>Sale Price</th>\n",
       "      <th>Mrp</th>\n",
       "      <th>Discount Percentage</th>\n",
       "      <th>Number Of Ratings</th>\n",
       "      <th>Number Of Reviews</th>\n",
       "      <th>Upc</th>\n",
       "      <th>Star Rating</th>\n",
       "      <th>Ram</th>\n",
       "      <th>Storage Capacity</th>\n",
       "      <th>Color</th>\n",
       "      <th>Model</th>\n",
       "    </tr>\n",
       "  </thead>\n",
       "  <tbody>\n",
       "    <tr>\n",
       "      <th>0</th>\n",
       "      <td>0</td>\n",
       "      <td>APPLE iPhone 8 Plus (Gold, 64 GB)</td>\n",
       "      <td>https://www.flipkart.com/apple-iphone-8-plus-g...</td>\n",
       "      <td>Apple</td>\n",
       "      <td>49900</td>\n",
       "      <td>49900</td>\n",
       "      <td>0</td>\n",
       "      <td>3431</td>\n",
       "      <td>356</td>\n",
       "      <td>MOBEXRGV7EHHTGUH</td>\n",
       "      <td>4.6</td>\n",
       "      <td>2 GB</td>\n",
       "      <td>64 GB</td>\n",
       "      <td>Gold, 64 GB</td>\n",
       "      <td>iPhone 8</td>\n",
       "    </tr>\n",
       "    <tr>\n",
       "      <th>1</th>\n",
       "      <td>1</td>\n",
       "      <td>APPLE iPhone 8 Plus (Space Grey, 256 GB)</td>\n",
       "      <td>https://www.flipkart.com/apple-iphone-8-plus-s...</td>\n",
       "      <td>Apple</td>\n",
       "      <td>84900</td>\n",
       "      <td>84900</td>\n",
       "      <td>0</td>\n",
       "      <td>3431</td>\n",
       "      <td>356</td>\n",
       "      <td>MOBEXRGVAC6TJT4F</td>\n",
       "      <td>4.6</td>\n",
       "      <td>2 GB</td>\n",
       "      <td>256 GB</td>\n",
       "      <td>Space Grey, 256 GB</td>\n",
       "      <td>iPhone 8</td>\n",
       "    </tr>\n",
       "    <tr>\n",
       "      <th>2</th>\n",
       "      <td>2</td>\n",
       "      <td>APPLE iPhone 8 Plus (Silver, 256 GB)</td>\n",
       "      <td>https://www.flipkart.com/apple-iphone-8-plus-s...</td>\n",
       "      <td>Apple</td>\n",
       "      <td>84900</td>\n",
       "      <td>84900</td>\n",
       "      <td>0</td>\n",
       "      <td>3431</td>\n",
       "      <td>356</td>\n",
       "      <td>MOBEXRGVGETABXWZ</td>\n",
       "      <td>4.6</td>\n",
       "      <td>2 GB</td>\n",
       "      <td>256 GB</td>\n",
       "      <td>Silver, 256 GB</td>\n",
       "      <td>iPhone 8</td>\n",
       "    </tr>\n",
       "    <tr>\n",
       "      <th>3</th>\n",
       "      <td>3</td>\n",
       "      <td>APPLE iPhone 8 (Silver, 256 GB)</td>\n",
       "      <td>https://www.flipkart.com/apple-iphone-8-silver...</td>\n",
       "      <td>Apple</td>\n",
       "      <td>77000</td>\n",
       "      <td>77000</td>\n",
       "      <td>0</td>\n",
       "      <td>11202</td>\n",
       "      <td>794</td>\n",
       "      <td>MOBEXRGVMZWUHCBA</td>\n",
       "      <td>4.5</td>\n",
       "      <td>2 GB</td>\n",
       "      <td>256 GB</td>\n",
       "      <td>Silver, 256 GB</td>\n",
       "      <td>iPhone 8</td>\n",
       "    </tr>\n",
       "    <tr>\n",
       "      <th>4</th>\n",
       "      <td>4</td>\n",
       "      <td>APPLE iPhone 8 (Gold, 256 GB)</td>\n",
       "      <td>https://www.flipkart.com/apple-iphone-8-gold-2...</td>\n",
       "      <td>Apple</td>\n",
       "      <td>77000</td>\n",
       "      <td>77000</td>\n",
       "      <td>0</td>\n",
       "      <td>11202</td>\n",
       "      <td>794</td>\n",
       "      <td>MOBEXRGVPK7PFEJZ</td>\n",
       "      <td>4.5</td>\n",
       "      <td>2 GB</td>\n",
       "      <td>256 GB</td>\n",
       "      <td>Gold, 256 GB</td>\n",
       "      <td>iPhone 8</td>\n",
       "    </tr>\n",
       "  </tbody>\n",
       "</table>\n",
       "</div>"
      ],
      "text/plain": [
       "   index                              Product Name  \\\n",
       "0      0         APPLE iPhone 8 Plus (Gold, 64 GB)   \n",
       "1      1  APPLE iPhone 8 Plus (Space Grey, 256 GB)   \n",
       "2      2      APPLE iPhone 8 Plus (Silver, 256 GB)   \n",
       "3      3           APPLE iPhone 8 (Silver, 256 GB)   \n",
       "4      4             APPLE iPhone 8 (Gold, 256 GB)   \n",
       "\n",
       "                                         Product URL  Brand  Sale Price  \\\n",
       "0  https://www.flipkart.com/apple-iphone-8-plus-g...  Apple       49900   \n",
       "1  https://www.flipkart.com/apple-iphone-8-plus-s...  Apple       84900   \n",
       "2  https://www.flipkart.com/apple-iphone-8-plus-s...  Apple       84900   \n",
       "3  https://www.flipkart.com/apple-iphone-8-silver...  Apple       77000   \n",
       "4  https://www.flipkart.com/apple-iphone-8-gold-2...  Apple       77000   \n",
       "\n",
       "     Mrp  Discount Percentage  Number Of Ratings  Number Of Reviews  \\\n",
       "0  49900                    0               3431                356   \n",
       "1  84900                    0               3431                356   \n",
       "2  84900                    0               3431                356   \n",
       "3  77000                    0              11202                794   \n",
       "4  77000                    0              11202                794   \n",
       "\n",
       "                Upc  Star Rating   Ram Storage Capacity               Color  \\\n",
       "0  MOBEXRGV7EHHTGUH          4.6  2 GB            64 GB         Gold, 64 GB   \n",
       "1  MOBEXRGVAC6TJT4F          4.6  2 GB           256 GB  Space Grey, 256 GB   \n",
       "2  MOBEXRGVGETABXWZ          4.6  2 GB           256 GB      Silver, 256 GB   \n",
       "3  MOBEXRGVMZWUHCBA          4.5  2 GB           256 GB      Silver, 256 GB   \n",
       "4  MOBEXRGVPK7PFEJZ          4.5  2 GB           256 GB        Gold, 256 GB   \n",
       "\n",
       "      Model  \n",
       "0  iPhone 8  \n",
       "1  iPhone 8  \n",
       "2  iPhone 8  \n",
       "3  iPhone 8  \n",
       "4  iPhone 8  "
      ]
     },
     "execution_count": 24,
     "metadata": {},
     "output_type": "execute_result"
    }
   ],
   "source": [
    "# Display the first 5 rows of the DataFrame\n",
    "print(\"\\nSample Entries:\")\n",
    "data.head()"
   ]
  },
  {
   "cell_type": "markdown",
   "id": "29da6a84-be0c-4003-b157-e87cd77af835",
   "metadata": {},
   "source": [
    "###  2. Missing Values"
   ]
  },
  {
   "cell_type": "code",
   "execution_count": 41,
   "id": "7d94f392-0ea9-4eaf-8aea-b5044e83efa1",
   "metadata": {},
   "outputs": [
    {
     "name": "stdout",
     "output_type": "stream",
     "text": [
      "\n",
      "Missing Values:\n",
      "index                   0\n",
      "Product Name            0\n",
      "Product URL             0\n",
      "Brand                   0\n",
      "Sale Price              0\n",
      "Mrp                     0\n",
      "Discount Percentage     0\n",
      "Number Of Ratings       0\n",
      "Number Of Reviews       0\n",
      "Upc                     0\n",
      "Star Rating             0\n",
      "Ram                     0\n",
      "Storage Capacity        0\n",
      "Color                   0\n",
      "Model                  12\n",
      "dtype: int64\n"
     ]
    }
   ],
   "source": [
    "# Check for missing values\n",
    "print(\"\\nMissing Values:\")\n",
    "missing_values = data.isnull().sum()\n",
    "print(missing_values)"
   ]
  },
  {
   "cell_type": "code",
   "execution_count": 26,
   "id": "e34a27af-7bb1-4521-b510-616f9a7cb7a6",
   "metadata": {
    "scrolled": true
   },
   "outputs": [
    {
     "name": "stdout",
     "output_type": "stream",
     "text": [
      "\n",
      "Percentage of Missing Values:\n",
      "index                   0.000000\n",
      "Product Name            0.000000\n",
      "Product URL             0.000000\n",
      "Brand                   0.000000\n",
      "Sale Price              0.000000\n",
      "Mrp                     0.000000\n",
      "Discount Percentage     0.000000\n",
      "Number Of Ratings       0.000000\n",
      "Number Of Reviews       0.000000\n",
      "Upc                     0.000000\n",
      "Star Rating             0.000000\n",
      "Ram                     0.000000\n",
      "Storage Capacity        0.000000\n",
      "Color                   0.000000\n",
      "Model                  19.354839\n",
      "dtype: float64\n"
     ]
    }
   ],
   "source": [
    "# Percentage of missing values per column (if needed)\n",
    "missing_percentage = (missing_values / data.shape[0]) * 100\n",
    "print(\"\\nPercentage of Missing Values:\")\n",
    "print(missing_percentage)\n"
   ]
  },
  {
   "cell_type": "markdown",
   "id": "a2e4d9ff-8f3e-4b7c-9221-46f99dbcc20b",
   "metadata": {},
   "source": [
    "### 3. Duplicate Entries"
   ]
  },
  {
   "cell_type": "code",
   "execution_count": 27,
   "id": "814a801a-3d98-49e8-a7e7-afce223e1ad8",
   "metadata": {},
   "outputs": [
    {
     "name": "stdout",
     "output_type": "stream",
     "text": [
      "\n",
      "Duplicate Entries:\n",
      "Number of Duplicate Rows: 0\n"
     ]
    }
   ],
   "source": [
    "# Check for duplicate rows\n",
    "print(\"\\nDuplicate Entries:\")\n",
    "duplicates = data.duplicated().sum()\n",
    "print(f\"Number of Duplicate Rows: {duplicates}\")\n",
    "\n",
    "# If duplicates are found, you can remove them\n",
    "if duplicates > 0:\n",
    "    data = data.drop_duplicates()\n",
    "    print(f\"\\nDuplicates Removed. New Number of Rows: {data.shape[0]}\")\n"
   ]
  },
  {
   "cell_type": "markdown",
   "id": "b8da37d0-f9ce-4a2f-8f28-cbfd4b63d869",
   "metadata": {},
   "source": [
    "### 4. Outliers Detection"
   ]
  },
  {
   "cell_type": "code",
   "execution_count": 28,
   "id": "b54da777-579e-4997-acbd-7aa7620a2123",
   "metadata": {},
   "outputs": [
    {
     "name": "stdout",
     "output_type": "stream",
     "text": [
      "\n",
      "Statistical Summary:\n",
      "           index     Sale Price            Mrp  Discount Percentage  \\\n",
      "count  62.000000      62.000000      62.000000            62.000000   \n",
      "mean   30.500000   80073.887097   88058.064516             9.951613   \n",
      "std    18.041619   34310.446132   34728.825597             7.608079   \n",
      "min     0.000000   29999.000000   39900.000000             0.000000   \n",
      "25%    15.250000   49900.000000   54900.000000             6.000000   \n",
      "50%    30.500000   75900.000000   79900.000000            10.000000   \n",
      "75%    45.750000  117100.000000  120950.000000            14.000000   \n",
      "max    61.000000  140900.000000  149900.000000            29.000000   \n",
      "\n",
      "       Number Of Ratings  Number Of Reviews  Star Rating  \n",
      "count          62.000000          62.000000    62.000000  \n",
      "mean        22420.403226        1861.677419     4.575806  \n",
      "std         33768.589550        2855.883830     0.059190  \n",
      "min           542.000000          42.000000     4.500000  \n",
      "25%           740.000000          64.000000     4.500000  \n",
      "50%          2101.000000         180.000000     4.600000  \n",
      "75%         43470.000000        3331.000000     4.600000  \n",
      "max         95909.000000        8161.000000     4.700000  \n"
     ]
    }
   ],
   "source": [
    "# Describe numerical columns to identify potential outliers\n",
    "print(\"\\nStatistical Summary:\")\n",
    "summary = data.describe()\n",
    "print(summary)"
   ]
  },
  {
   "cell_type": "code",
   "execution_count": 29,
   "id": "4692bff4-e216-4991-971b-c0d9cac91d66",
   "metadata": {},
   "outputs": [
    {
     "data": {
      "image/png": "[encoded data removed]",
      "text/plain": [
       "<Figure size 1000x600 with 1 Axes>"
      ]
     },
     "metadata": {},
     "output_type": "display_data"
    },
    {
     "data": {
      "image/png": "[encoded data removed]",
      "text/plain": [
       "<Figure size 1000x600 with 1 Axes>"
      ]
     },
     "metadata": {},
     "output_type": "display_data"
    }
   ],
   "source": [
    "# For a more visual approach, use boxplots to identify outliers\n",
    "import matplotlib.pyplot as plt\n",
    "import seaborn as sns\n",
    "\n",
    "# Boxplot for Sale Price\n",
    "plt.figure(figsize=(10, 6))\n",
    "sns.boxplot(x=data['Sale Price'])\n",
    "plt.title(\"Boxplot of Sale Price\")\n",
    "plt.show()\n",
    "\n",
    "# Boxplot for MRP\n",
    "plt.figure(figsize=(10, 6))\n",
    "sns.boxplot(x=data['Mrp'])\n",
    "plt.title(\"Boxplot of MRP\")\n",
    "plt.show()\n"
   ]
  },
  {
   "cell_type": "markdown",
   "id": "ae0c47b0-18bb-47df-9b78-6bf6886714dc",
   "metadata": {},
   "source": [
    "# b. Feature Extraction : "
   ]
  },
  {
   "cell_type": "markdown",
   "id": "09437e85-c2b7-4672-901c-75a9984b3c7e",
   "metadata": {},
   "source": [
    "## 1. Extract Storage Capacity:"
   ]
  },
  {
   "cell_type": "raw",
   "id": "72ac7195-61e0-4d20-9c8a-a6344e40725f",
   "metadata": {},
   "source": [
    "You can use regular expressions to extract the storage capacity (e.g., 64 GB, 256 GB) from the 'Product Name' column."
   ]
  },
  {
   "cell_type": "code",
   "execution_count": 42,
   "id": "a9d9972c-2c61-4409-becc-f38cf1ef052d",
   "metadata": {},
   "outputs": [
    {
     "name": "stdout",
     "output_type": "stream",
     "text": [
      "\n",
      "Storage Capacity Extracted:\n",
      "                               Product Name Storage Capacity\n",
      "0         APPLE iPhone 8 Plus (Gold, 64 GB)            64 GB\n",
      "1  APPLE iPhone 8 Plus (Space Grey, 256 GB)           256 GB\n",
      "2      APPLE iPhone 8 Plus (Silver, 256 GB)           256 GB\n",
      "3           APPLE iPhone 8 (Silver, 256 GB)           256 GB\n",
      "4             APPLE iPhone 8 (Gold, 256 GB)           256 GB\n"
     ]
    }
   ],
   "source": [
    "import re\n",
    "\n",
    "# Function to extract storage capacity\n",
    "def extract_storage(product_name):\n",
    "    match = re.search(r'(\\d+ GB)', product_name)\n",
    "    return match.group(0) if match else None\n",
    "\n",
    "# Apply the function to create a new column 'Storage Capacity'\n",
    "data['Storage Capacity'] = data['Product Name'].apply(extract_storage)\n",
    "\n",
    "# Display the first few rows to verify\n",
    "print(\"\\nStorage Capacity Extracted:\")\n",
    "print(data[['Product Name', 'Storage Capacity']].head())\n"
   ]
  },
  {
   "cell_type": "markdown",
   "id": "79776f8d-0e39-4d52-ac15-97511da3a529",
   "metadata": {},
   "source": [
    "## 2. Extract Color Variants :"
   ]
  },
  {
   "cell_type": "code",
   "execution_count": 43,
   "id": "a07c875e-4722-4d9a-9550-fb41d7222ccd",
   "metadata": {},
   "outputs": [
    {
     "name": "stdout",
     "output_type": "stream",
     "text": [
      "\n",
      "Color Variants Extracted:\n",
      "                               Product Name               Color\n",
      "0         APPLE iPhone 8 Plus (Gold, 64 GB)         Gold, 64 GB\n",
      "1  APPLE iPhone 8 Plus (Space Grey, 256 GB)  Space Grey, 256 GB\n",
      "2      APPLE iPhone 8 Plus (Silver, 256 GB)      Silver, 256 GB\n",
      "3           APPLE iPhone 8 (Silver, 256 GB)      Silver, 256 GB\n",
      "4             APPLE iPhone 8 (Gold, 256 GB)        Gold, 256 GB\n"
     ]
    }
   ],
   "source": [
    "# Function to extract color information\n",
    "def extract_color(product_name):\n",
    "    # Adjust the regex pattern based on color naming conventions in the dataset\n",
    "    match = re.search(r'\\((.*?)\\)', product_name)\n",
    "    return match.group(1) if match else None\n",
    "\n",
    "# Apply the function to create a new column 'Color'\n",
    "data['Color'] = data['Product Name'].apply(extract_color)\n",
    "\n",
    "# Display the first few rows to verify\n",
    "print(\"\\nColor Variants Extracted:\")\n",
    "print(data[['Product Name', 'Color']].head())\n"
   ]
  },
  {
   "cell_type": "markdown",
   "id": "145f1412-a459-44cf-877d-c107ed9917bc",
   "metadata": {},
   "source": [
    "### 3. Identify Different iPhone Models"
   ]
  },
  {
   "cell_type": "code",
   "execution_count": 44,
   "id": "b7a8407d-6103-44fa-8aa9-bf7f1aa99a97",
   "metadata": {},
   "outputs": [
    {
     "name": "stdout",
     "output_type": "stream",
     "text": [
      "\n",
      "iPhone Models Extracted:\n",
      "                               Product Name     Model\n",
      "0         APPLE iPhone 8 Plus (Gold, 64 GB)  iPhone 8\n",
      "1  APPLE iPhone 8 Plus (Space Grey, 256 GB)  iPhone 8\n",
      "2      APPLE iPhone 8 Plus (Silver, 256 GB)  iPhone 8\n",
      "3           APPLE iPhone 8 (Silver, 256 GB)  iPhone 8\n",
      "4             APPLE iPhone 8 (Gold, 256 GB)  iPhone 8\n"
     ]
    }
   ],
   "source": [
    "# Function to extract iPhone model\n",
    "def extract_model(product_name):\n",
    "    # Adjust the pattern based on model naming conventions\n",
    "    match = re.search(r'iPhone (\\d+)', product_name)\n",
    "    return f\"iPhone {match.group(1)}\" if match else None\n",
    "\n",
    "# Apply the function to create a new column 'Model'\n",
    "data['Model'] = data['Product Name'].apply(extract_model)\n",
    "\n",
    "# Display the first few rows to verify\n",
    "print(\"\\niPhone Models Extracted:\")\n",
    "print(data[['Product Name', 'Model']].head())\n"
   ]
  },
  {
   "cell_type": "markdown",
   "id": "9aaab03b-8145-4129-81c1-270dbceb3936",
   "metadata": {},
   "source": [
    "# Data Transformation "
   ]
  },
  {
   "cell_type": "markdown",
   "id": "51cd0a15-1c3d-40d8-8dbe-cc4c71bc453e",
   "metadata": {},
   "source": [
    "### 1) Price Formatting"
   ]
  },
  {
   "cell_type": "raw",
   "id": "a849a347-9339-46c0-b4a4-84b98a8adab3",
   "metadata": {},
   "source": [
    "Ensure that 'Sale Price' and 'MRP' are in appropriate numerical formats for calculations."
   ]
  },
  {
   "cell_type": "code",
   "execution_count": 33,
   "id": "110b1d5a-8623-40be-8208-4ebaf7c3f72c",
   "metadata": {},
   "outputs": [
    {
     "name": "stdout",
     "output_type": "stream",
     "text": [
      "\n",
      "Data Types After Formatting:\n",
      "index                    int64\n",
      "Product Name            object\n",
      "Product URL             object\n",
      "Brand                   object\n",
      "Sale Price               int64\n",
      "Mrp                      int64\n",
      "Discount Percentage      int64\n",
      "Number Of Ratings        int64\n",
      "Number Of Reviews        int64\n",
      "Upc                     object\n",
      "Star Rating            float64\n",
      "Ram                     object\n",
      "Storage Capacity        object\n",
      "Color                   object\n",
      "Model                   object\n",
      "dtype: object\n"
     ]
    }
   ],
   "source": [
    "# Convert 'Sale Price' and 'MRP' to numeric, forcing errors to NaN if conversion fails\n",
    "data['Sale Price'] = pd.to_numeric(data['Sale Price'], errors='coerce')\n",
    "data['Mrp'] = pd.to_numeric(data['Mrp'], errors='coerce')\n",
    "\n",
    "# Check the data types to confirm\n",
    "print(\"\\nData Types After Formatting:\")\n",
    "print(data.dtypes)"
   ]
  },
  {
   "cell_type": "code",
   "execution_count": 34,
   "id": "5e760ef9-7d70-4132-b2e4-42bd553ecb46",
   "metadata": {},
   "outputs": [
    {
     "name": "stdout",
     "output_type": "stream",
     "text": [
      "\n",
      "Sample Entries After Formatting:\n",
      "   Sale Price    Mrp\n",
      "0       49900  49900\n",
      "1       84900  84900\n",
      "2       84900  84900\n",
      "3       77000  77000\n",
      "4       77000  77000\n"
     ]
    }
   ],
   "source": [
    "# Display the first few rows to verify changes\n",
    "print(\"\\nSample Entries After Formatting:\")\n",
    "print(data[['Sale Price', 'Mrp']].head())"
   ]
  },
  {
   "cell_type": "markdown",
   "id": "893d4ee4-04de-4c36-be1b-ee78795c4ba7",
   "metadata": {},
   "source": [
    "### 2) Discount Calculation:"
   ]
  },
  {
   "cell_type": "raw",
   "id": "ae70c7ea-e682-4f03-9797-f31affb436f2",
   "metadata": {},
   "source": [
    "Verify the 'Discount Percentage' or calculate it if necessary using 'Sale Price' and 'MRP'."
   ]
  },
  {
   "cell_type": "code",
   "execution_count": 35,
   "id": "907d09ef-f133-4fa4-9e8c-ee75580da294",
   "metadata": {},
   "outputs": [
    {
     "name": "stdout",
     "output_type": "stream",
     "text": [
      "\n",
      "Discount Percentage Calculated:\n",
      "   Sale Price    Mrp  Discount Percentage\n",
      "0       49900  49900                    0\n",
      "1       84900  84900                    0\n",
      "2       84900  84900                    0\n",
      "3       77000  77000                    0\n",
      "4       77000  77000                    0\n"
     ]
    }
   ],
   "source": [
    "# Calculate the discount percentage if it's not already present\n",
    "# Discount Percentage = ((MRP - Sale Price) / MRP) * 100\n",
    "if 'Discount Percentage' not in data.columns or data['Discount Percentage'].isnull().all():\n",
    "    data['Discount Percentage'] = ((data['Mrp'] - data['Sale Price']) / data['Mrp']) * 100\n",
    "\n",
    "# Ensure 'Discount Percentage' is a numerical type\n",
    "data['Discount Percentage'] = pd.to_numeric(data['Discount Percentage'], errors='coerce')\n",
    "\n",
    "# Display the first few rows to verify calculations\n",
    "print(\"\\nDiscount Percentage Calculated:\")\n",
    "print(data[['Sale Price', 'Mrp', 'Discount Percentage']].head())\n"
   ]
  },
  {
   "cell_type": "markdown",
   "id": "cdf89ebc-2229-42b8-baf7-b33ed6a99a48",
   "metadata": {},
   "source": [
    "### 3 ) Date Fields: "
   ]
  },
  {
   "cell_type": "raw",
   "id": "371a6851-d03d-40f3-ac7a-ed28141247f7",
   "metadata": {},
   "source": [
    "If available, parse and format any date-related information for time-series analysis"
   ]
  },
  {
   "cell_type": "code",
   "execution_count": 36,
   "id": "3b6a5e4e-5fa3-4d63-bd05-8faf5dfc594e",
   "metadata": {},
   "outputs": [
    {
     "name": "stdout",
     "output_type": "stream",
     "text": [
      "\n",
      "No 'Date' column found in the dataset.\n"
     ]
    }
   ],
   "source": [
    "# Example of parsing date fields if a 'Date' column exists\n",
    "if 'Date' in data.columns:\n",
    "    # Convert 'Date' column to datetime format\n",
    "    data['Date'] = pd.to_datetime(data['Date'], errors='coerce')\n",
    "    \n",
    "    # Extract useful date components if needed\n",
    "    data['Year'] = data['Date'].dt.year\n",
    "    data['Month'] = data['Date'].dt.month\n",
    "    data['Day'] = data['Date'].dt.day\n",
    "    \n",
    "    # Display the first few rows to verify changes\n",
    "    print(\"\\nDate Fields Parsed and Formatted:\")\n",
    "    print(data[['Date', 'Year', 'Month', 'Day']].head())\n",
    "else:\n",
    "    print(\"\\nNo 'Date' column found in the dataset.\")\n"
   ]
  },
  {
   "cell_type": "markdown",
   "id": "ef7a2366-edcb-4054-b700-0e5e5f1d4d45",
   "metadata": {},
   "source": [
    "#  Descriptive Analysis"
   ]
  },
  {
   "cell_type": "markdown",
   "id": "4aebf971-8dd1-47f3-bae3-828d44bb717d",
   "metadata": {},
   "source": [
    "### 1. Summary Statistics for Numerical Features"
   ]
  },
  {
   "cell_type": "raw",
   "id": "b813cdf4-62b3-4bb3-9936-aef1c07458a1",
   "metadata": {},
   "source": [
    "Calculate the mean, median, mode, standard deviation, minimum, and maximum for numerical features."
   ]
  },
  {
   "cell_type": "code",
   "execution_count": 39,
   "id": "e944dc41-8ed2-44e1-a4dc-1f7a9b8be68b",
   "metadata": {},
   "outputs": [
    {
     "name": "stdout",
     "output_type": "stream",
     "text": [
      "\n",
      "Summary Statistics for Numerical Features:\n",
      "           Sale Price            Mrp  Discount Percentage  Number Of Ratings  \\\n",
      "mean     80073.887097   88058.064516             9.951613       22420.403226   \n",
      "median   75900.000000   79900.000000            10.000000        2101.000000   \n",
      "std      34310.446132   34728.825597             7.608079       33768.589550   \n",
      "min      29999.000000   39900.000000             0.000000         542.000000   \n",
      "max     140900.000000  149900.000000            29.000000       95909.000000   \n",
      "mode     75900.000000   84900.000000             0.000000         580.000000   \n",
      "\n",
      "        Number Of Reviews  Star Rating  \n",
      "mean          1861.677419     4.575806  \n",
      "median         180.000000     4.600000  \n",
      "std           2855.883830     0.059190  \n",
      "min             42.000000     4.500000  \n",
      "max           8161.000000     4.700000  \n",
      "mode            45.000000     4.600000  \n"
     ]
    }
   ],
   "source": [
    "# Numerical Features\n",
    "numerical_features = ['Sale Price', 'Mrp', 'Discount Percentage', 'Number Of Ratings', 'Number Of Reviews', 'Star Rating']\n",
    "\n",
    "# Calculate summary statistics\n",
    "summary_numerical = data[numerical_features].agg(['mean', 'median', 'std', 'min', 'max'])\n",
    "mode = data[numerical_features].mode().iloc[0]  # Get the mode for each column\n",
    "summary_numerical.loc['mode'] = mode\n",
    "\n",
    "print(\"\\nSummary Statistics for Numerical Features:\")\n",
    "print(summary_numerical)"
   ]
  },
  {
   "cell_type": "markdown",
   "id": "9f7a68b3-6879-4608-89d9-07297202c716",
   "metadata": {},
   "source": [
    "### 2. Frequency and Distribution of Categorical Features"
   ]
  },
  {
   "cell_type": "raw",
   "id": "a5d02644-f79e-4893-a980-35c7567f8fad",
   "metadata": {},
   "source": [
    "Determine the frequency and distribution of different categories in categorical features."
   ]
  },
  {
   "cell_type": "code",
   "execution_count": 38,
   "id": "71401df4-744a-436a-9298-c529d71ff1f1",
   "metadata": {
    "scrolled": true
   },
   "outputs": [
    {
     "name": "stdout",
     "output_type": "stream",
     "text": [
      "\n",
      "Frequency and Distribution of Categorical Features:\n",
      "\n",
      "Brand Distribution:\n",
      "Brand\n",
      "Apple    62\n",
      "Name: count, dtype: int64\n",
      "\n",
      "Ram Distribution:\n",
      "Ram\n",
      "4 GB    29\n",
      "6 GB    19\n",
      "2 GB    13\n",
      "3 GB     1\n",
      "Name: count, dtype: int64\n",
      "\n",
      "Storage Capacity Distribution:\n",
      "Storage Capacity\n",
      "128 GB    24\n",
      "64 GB     20\n",
      "256 GB    14\n",
      "512 GB     4\n",
      "Name: count, dtype: int64\n",
      "\n",
      "Color Distribution:\n",
      "Color\n",
      "Black, 128 GB             5\n",
      "Black, 64 GB              5\n",
      "White, 128 GB             5\n",
      "White, 64 GB              4\n",
      "Space Grey, 256 GB        3\n",
      "Gold, 256 GB              3\n",
      "Red, 128 GB               3\n",
      "Silver, 256 GB            3\n",
      "Space Grey, 64 GB         2\n",
      "Silver, 64 GB             2\n",
      "Blue, 128 GB              2\n",
      "Graphite, 256 GB          2\n",
      "Gold, 64 GB               2\n",
      "Midnight Green, 64 GB     2\n",
      "Red, 64 GB                2\n",
      "Pacific Blue, 128 GB      2\n",
      "Graphite, 128 GB          2\n",
      "Coral, 128 GB             1\n",
      "Space Grey, 512 GB        1\n",
      "Midnight Green, 256 GB    1\n",
      "(PRODUCT                  1\n",
      "Pacific Blue, 256 GB      1\n",
      "Midnight Green, 512 GB    1\n",
      "White, 256 GB             1\n",
      "Silver, 512 GB            1\n",
      "Silver, 128 GB            1\n",
      "Green, 128 GB             1\n",
      "Gold, 128 GB              1\n",
      "Pacific Blue, 512 GB      1\n",
      "Purple, 64 GB             1\n",
      "Name: count, dtype: int64\n"
     ]
    }
   ],
   "source": [
    "# Categorical Features\n",
    "categorical_features = ['Brand', 'Ram', 'Storage Capacity', 'Color']\n",
    "\n",
    "# Calculate frequency distributions\n",
    "frequency_distributions = {feature: data[feature].value_counts() for feature in categorical_features}\n",
    "\n",
    "print(\"\\nFrequency and Distribution of Categorical Features:\")\n",
    "for feature, freq_dist in frequency_distributions.items():\n",
    "    print(f\"\\n{feature} Distribution:\")\n",
    "    print(freq_dist)\n"
   ]
  },
  {
   "cell_type": "code",
   "execution_count": null,
   "id": "c2cc415f-fabf-4793-8c29-09b568962af4",
   "metadata": {},
   "outputs": [],
   "source": [
    "--------------------------------------------------This Data is Cleaned--------------------------------------------"
   ]
  },
  {
   "cell_type": "code",
   "execution_count": null,
   "id": "27333ee7-98bd-4115-a90d-5f27deef6a90",
   "metadata": {},
   "outputs": [],
   "source": []
  },
  {
   "cell_type": "code",
   "execution_count": null,
   "id": "7567722e-389d-4b4f-9cb5-0bb7b59d395e",
   "metadata": {},
   "outputs": [],
   "source": []
  },
  {
   "cell_type": "code",
   "execution_count": null,
   "id": "52f563b4-7b52-4c73-81d7-e8b59d879d19",
   "metadata": {},
   "outputs": [],
   "source": []
  },
  {
   "cell_type": "code",
   "execution_count": null,
   "id": "aa763bc7-6393-4288-b34d-9dafb61af4c1",
   "metadata": {},
   "outputs": [],
   "source": []
  },
  {
   "cell_type": "code",
   "execution_count": null,
   "id": "cd61f95a-7d21-4e76-868a-b24418d49021",
   "metadata": {},
   "outputs": [],
   "source": []
  },
  {
   "cell_type": "code",
   "execution_count": null,
   "id": "4728b4d2-8515-4a46-955a-8da23b2d984d",
   "metadata": {},
   "outputs": [],
   "source": []
  },
  {
   "cell_type": "code",
   "execution_count": null,
   "id": "91989fe0-d2d8-48cb-90f4-03f2137020b3",
   "metadata": {},
   "outputs": [],
   "source": []
  },
  {
   "cell_type": "code",
   "execution_count": null,
   "id": "0024eb14-8aee-4b28-887b-4b0568baa8e1",
   "metadata": {},
   "outputs": [],
   "source": []
  },
  {
   "cell_type": "code",
   "execution_count": null,
   "id": "516b2645-5c45-47ee-bbbe-5d630252cd89",
   "metadata": {},
   "outputs": [],
   "source": []
  }
 ],
 "metadata": {
  "kernelspec": {
   "display_name": "Python 3 (ipykernel)",
   "language": "python",
   "name": "python3"
  },
  "language_info": {
   "codemirror_mode": {
    "name": "ipython",
    "version": 3
   },
   "file_extension": ".py",
   "mimetype": "text/x-python",
   "name": "python",
   "nbconvert_exporter": "python",
   "pygments_lexer": "ipython3",
   "version": "3.12.3"
  }
 },
 "nbformat": 4,
 "nbformat_minor": 5
}
